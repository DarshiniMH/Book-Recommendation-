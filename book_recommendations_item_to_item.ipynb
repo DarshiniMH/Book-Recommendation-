{
  "nbformat": 4,
  "nbformat_minor": 0,
  "metadata": {
    "colab": {
      "provenance": [],
      "machine_shape": "hm",
      "collapsed_sections": [
        "oKPBAGT8-bbU",
        "5pZYDIm--jI9",
        "3LPoAD6rJEKe",
        "e_lDj8W8jkLI",
        "NDb8QRFb0zr_",
        "mh07c3dmWYT5",
        "eAxqTjopSTIG"
      ],
      "authorship_tag": "ABX9TyP7Itvs82pDKy3gg+ifx2Va",
      "include_colab_link": true
    },
    "kernelspec": {
      "name": "python3",
      "display_name": "Python 3"
    },
    "language_info": {
      "name": "python"
    }
  },
  "cells": [
    {
      "cell_type": "markdown",
      "metadata": {
        "id": "view-in-github",
        "colab_type": "text"
      },
      "source": [
        "<a href=\"https://colab.research.google.com/github/DarshiniMH/Book-Recommendation-/blob/main/book_recommendations_item_to_item.ipynb\" target=\"_parent\"><img src=\"https://colab.research.google.com/assets/colab-badge.svg\" alt=\"Open In Colab\"/></a>"
      ]
    },
    {
      "cell_type": "code",
      "execution_count": 2,
      "metadata": {
        "colab": {
          "base_uri": "https://localhost:8080/"
        },
        "id": "9SnRvjWLXleT",
        "outputId": "240bd790-0340-494b-e648-b06f082f9b4e"
      },
      "outputs": [
        {
          "output_type": "stream",
          "name": "stdout",
          "text": [
            "Mounted at /content/drive\n"
          ]
        }
      ],
      "source": [
        "from google.colab import drive\n",
        "drive.mount('/content/drive')"
      ]
    },
    {
      "cell_type": "markdown",
      "source": [
        "### loading Books dataset json.gz"
      ],
      "metadata": {
        "id": "oKPBAGT8-bbU"
      }
    },
    {
      "cell_type": "markdown",
      "source": [
        "This script reads a compressed JSON file of book data, extracts only the necessary fields from each book, and filters out books with fewer than 50 ratings. The selected book entries are saved as list and converted to pandas DataFrame for further use."
      ],
      "metadata": {
        "id": "u2NTapOSBzmM"
      }
    },
    {
      "cell_type": "code",
      "source": [
        "# This code reads and print the first line from the gzip compressed json\n",
        "# file which has book data\n",
        "import gzip\n",
        "\n",
        "with gzip.open(\"/content/drive/MyDrive/Book Recommendation/goodreads_books.json.gz\",\"r\") as f:\n",
        "  line= f.readline()\n",
        "  print(line)"
      ],
      "metadata": {
        "colab": {
          "base_uri": "https://localhost:8080/"
        },
        "id": "M9TCGHD1X0zA",
        "outputId": "4dcf99ca-3699-47e0-b9af-d5af98702375"
      },
      "execution_count": null,
      "outputs": [
        {
          "output_type": "stream",
          "name": "stdout",
          "text": [
            "b'{\"isbn\": \"0312853122\", \"text_reviews_count\": \"1\", \"series\": [], \"country_code\": \"US\", \"language_code\": \"\", \"popular_shelves\": [{\"count\": \"3\", \"name\": \"to-read\"}, {\"count\": \"1\", \"name\": \"p\"}, {\"count\": \"1\", \"name\": \"collection\"}, {\"count\": \"1\", \"name\": \"w-c-fields\"}, {\"count\": \"1\", \"name\": \"biography\"}], \"asin\": \"\", \"is_ebook\": \"false\", \"average_rating\": \"4.00\", \"kindle_asin\": \"\", \"similar_books\": [], \"description\": \"\", \"format\": \"Paperback\", \"link\": \"https://www.goodreads.com/book/show/5333265-w-c-fields\", \"authors\": [{\"author_id\": \"604031\", \"role\": \"\"}], \"publisher\": \"St. Martin\\'s Press\", \"num_pages\": \"256\", \"publication_day\": \"1\", \"isbn13\": \"9780312853129\", \"publication_month\": \"9\", \"edition_information\": \"\", \"publication_year\": \"1984\", \"url\": \"https://www.goodreads.com/book/show/5333265-w-c-fields\", \"image_url\": \"https://images.gr-assets.com/books/1310220028m/5333265.jpg\", \"book_id\": \"5333265\", \"ratings_count\": \"3\", \"work_id\": \"5400751\", \"title\": \"W.C. Fields: A Life on Film\", \"title_without_series\": \"W.C. Fields: A Life on Film\"}\\n'\n"
          ]
        }
      ]
    },
    {
      "cell_type": "code",
      "source": [
        "import json\n",
        "json.loads(line)"
      ],
      "metadata": {
        "colab": {
          "base_uri": "https://localhost:8080/"
        },
        "id": "oUVG8-9pbmh1",
        "outputId": "f11f1f1e-736d-4471-dd54-efc3f834a89d"
      },
      "execution_count": null,
      "outputs": [
        {
          "output_type": "execute_result",
          "data": {
            "text/plain": [
              "{'isbn': '0312853122',\n",
              " 'text_reviews_count': '1',\n",
              " 'series': [],\n",
              " 'country_code': 'US',\n",
              " 'language_code': '',\n",
              " 'popular_shelves': [{'count': '3', 'name': 'to-read'},\n",
              "  {'count': '1', 'name': 'p'},\n",
              "  {'count': '1', 'name': 'collection'},\n",
              "  {'count': '1', 'name': 'w-c-fields'},\n",
              "  {'count': '1', 'name': 'biography'}],\n",
              " 'asin': '',\n",
              " 'is_ebook': 'false',\n",
              " 'average_rating': '4.00',\n",
              " 'kindle_asin': '',\n",
              " 'similar_books': [],\n",
              " 'description': '',\n",
              " 'format': 'Paperback',\n",
              " 'link': 'https://www.goodreads.com/book/show/5333265-w-c-fields',\n",
              " 'authors': [{'author_id': '604031', 'role': ''}],\n",
              " 'publisher': \"St. Martin's Press\",\n",
              " 'num_pages': '256',\n",
              " 'publication_day': '1',\n",
              " 'isbn13': '9780312853129',\n",
              " 'publication_month': '9',\n",
              " 'edition_information': '',\n",
              " 'publication_year': '1984',\n",
              " 'url': 'https://www.goodreads.com/book/show/5333265-w-c-fields',\n",
              " 'image_url': 'https://images.gr-assets.com/books/1310220028m/5333265.jpg',\n",
              " 'book_id': '5333265',\n",
              " 'ratings_count': '3',\n",
              " 'work_id': '5400751',\n",
              " 'title': 'W.C. Fields: A Life on Film',\n",
              " 'title_without_series': 'W.C. Fields: A Life on Film'}"
            ]
          },
          "metadata": {},
          "execution_count": 3
        }
      ]
    },
    {
      "cell_type": "code",
      "source": [
        "# each entry with selected fields is stored as dictionary\n",
        "def parse_fields(line, fields):\n",
        "  result={}\n",
        "  data= json.loads(line)\n",
        "  for field in fields:\n",
        "    result[field]= data[field]\n",
        "  return result\n"
      ],
      "metadata": {
        "id": "ig68GbRObsom"
      },
      "execution_count": null,
      "outputs": []
    },
    {
      "cell_type": "code",
      "source": [
        "# Only select the necessay features for training from the book data. only these\n",
        "# will be populated from the dataset\n",
        "fields = [\"title_without_series\", \"average_rating\", \"ratings_count\", \"text_reviews_count\", \"popular_shelves\", \"authors\", \"similar_books\", \"num_pages\", \"format\"]\n"
      ],
      "metadata": {
        "id": "mcs5loTkl5BP"
      },
      "execution_count": null,
      "outputs": []
    },
    {
      "cell_type": "code",
      "source": [
        "# reading only the necessary fields of the compressed book data line by line.\n",
        "# Also books with ratings above 50 are kept for further processing.\n",
        "books=[]\n",
        "with gzip.open(\"/content/drive/MyDrive/Book Recommendation/goodreads_books.json.gz\", \"r\") as f:\n",
        "  line = f.readline()\n",
        "  while True:\n",
        "    if not line:\n",
        "      break\n",
        "    field = parse_fields(line, fields)\n",
        "    try:\n",
        "      rating_count = int(field[\"ratings_count\"])\n",
        "    except ValueError:\n",
        "      continue\n",
        "    if rating_count > 50:\n",
        "      books.append(field)"
      ],
      "metadata": {
        "id": "2Mqc2qgzqDdA"
      },
      "execution_count": null,
      "outputs": []
    },
    {
      "cell_type": "code",
      "source": [
        "import pandas as pd\n",
        "import numpy as np\n"
      ],
      "metadata": {
        "id": "im0Mz3DDr0Po"
      },
      "execution_count": null,
      "outputs": []
    },
    {
      "cell_type": "code",
      "source": [
        "#converting the list to dataframe for further processing\n",
        "book_info = pd.DataFrame(books)\n"
      ],
      "metadata": {
        "id": "GG2XcldAqESE"
      },
      "execution_count": null,
      "outputs": []
    },
    {
      "cell_type": "markdown",
      "source": [
        "### Loading json file"
      ],
      "metadata": {
        "id": "5pZYDIm--jI9"
      }
    },
    {
      "cell_type": "code",
      "source": [
        "filepath = \"/content/drive/MyDrive/Book Recommendation/goodreads_books.json\""
      ],
      "metadata": {
        "id": "cYKImyjpqE0X"
      },
      "execution_count": null,
      "outputs": []
    },
    {
      "cell_type": "code",
      "source": [
        "!wc -l \"/content/drive/MyDrive/Book Recommendation/goodreads_books.json\""
      ],
      "metadata": {
        "colab": {
          "base_uri": "https://localhost:8080/"
        },
        "id": "Xkgnj1PZCLJn",
        "outputId": "50230645-64d6-4b72-bd8b-c70b803c3c90"
      },
      "execution_count": null,
      "outputs": [
        {
          "output_type": "stream",
          "name": "stdout",
          "text": [
            "2360655 /content/drive/MyDrive/Book Recommendation/goodreads_books.json\n"
          ]
        }
      ]
    },
    {
      "cell_type": "markdown",
      "source": [
        "There are 2.3M books"
      ],
      "metadata": {
        "id": "GP3uQH80E0Dg"
      }
    },
    {
      "cell_type": "markdown",
      "source": [
        "##Data Processing"
      ],
      "metadata": {
        "id": "OSv666GUF2qD"
      }
    },
    {
      "cell_type": "markdown",
      "source": [
        "### Filtering Metadata for English language books and preprocess it to select only necesary fields in correct formats"
      ],
      "metadata": {
        "id": "3LPoAD6rJEKe"
      }
    },
    {
      "cell_type": "markdown",
      "source": [
        "In this section, to filter books written in English, a three-step verification process is used due to incomplete and unreliable metadata (~60% missing language codes). First, if the available language_code explicitly identifies the book as English (e.g., \"en\", \"eng\", \"en-us\", \"en-gb\"), it is accepted. Second, if the title text contains non-Latin scripts (such as Arabic, Chinese, Japanese, Cyrillic, or Korean), the book is rejected. Third, if neither check is conclusive, fastText language prediction is applied to the book title with a minimum probability threshold of 0.5 to ensure reliable classification, especially distinguishing English from similar Latin-script languages like French or German.\n",
        "\n"
      ],
      "metadata": {
        "id": "e_XvsIlwJPxp"
      }
    },
    {
      "cell_type": "code",
      "source": [
        "# Install an older version of numpy (1.26.4) for fastText compatibility and\n",
        "# restart the Colab runtime to apply the change\n",
        "!pip install numpy==1.26.4 --quiet\n",
        "import os\n",
        "os.kill(os.getpid(), 9)  # Restart the Colab runtime to apply changes\n"
      ],
      "metadata": {
        "colab": {
          "base_uri": "https://localhost:8080/"
        },
        "id": "kzZ-crYRd5SB",
        "outputId": "893751de-fa3e-48ba-8eb8-f5bc6109048f"
      },
      "execution_count": null,
      "outputs": [
        {
          "output_type": "stream",
          "name": "stdout",
          "text": [
            "\u001b[2K     \u001b[90m━━━━━━━━━━━━━━━━━━━━━━━━━━━━━━━━━━━━━━━━\u001b[0m \u001b[32m61.0/61.0 kB\u001b[0m \u001b[31m2.9 MB/s\u001b[0m eta \u001b[36m0:00:00\u001b[0m\n",
            "\u001b[2K   \u001b[90m━━━━━━━━━━━━━━━━━━━━━━━━━━━━━━━━━━━━━━━━\u001b[0m \u001b[32m18.3/18.3 MB\u001b[0m \u001b[31m84.3 MB/s\u001b[0m eta \u001b[36m0:00:00\u001b[0m\n",
            "\u001b[?25h"
          ]
        }
      ]
    },
    {
      "cell_type": "code",
      "source": [
        "#install fasttext\n",
        "!pip install fasttext"
      ],
      "metadata": {
        "colab": {
          "base_uri": "https://localhost:8080/"
        },
        "id": "GlProIENc46b",
        "outputId": "6d85398a-2ca7-4aa2-8b0c-594e35e82ea6"
      },
      "execution_count": null,
      "outputs": [
        {
          "output_type": "stream",
          "name": "stdout",
          "text": [
            "Collecting fasttext\n",
            "  Downloading fasttext-0.9.3.tar.gz (73 kB)\n",
            "\u001b[?25l     \u001b[90m━━━━━━━━━━━━━━━━━━━━━━━━━━━━━━━━━━━━━━━━\u001b[0m \u001b[32m0.0/73.4 kB\u001b[0m \u001b[31m?\u001b[0m eta \u001b[36m-:--:--\u001b[0m\r\u001b[2K     \u001b[90m━━━━━━━━━━━━━━━━━━━━━━━━━━━━━━━━━━━━━━━━\u001b[0m \u001b[32m73.4/73.4 kB\u001b[0m \u001b[31m2.4 MB/s\u001b[0m eta \u001b[36m0:00:00\u001b[0m\n",
            "\u001b[?25h  Installing build dependencies ... \u001b[?25l\u001b[?25hdone\n",
            "  Getting requirements to build wheel ... \u001b[?25l\u001b[?25hdone\n",
            "  Preparing metadata (pyproject.toml) ... \u001b[?25l\u001b[?25hdone\n",
            "Collecting pybind11>=2.2 (from fasttext)\n",
            "  Using cached pybind11-2.13.6-py3-none-any.whl.metadata (9.5 kB)\n",
            "Requirement already satisfied: setuptools>=0.7.0 in /usr/local/lib/python3.11/dist-packages (from fasttext) (75.2.0)\n",
            "Requirement already satisfied: numpy in /usr/local/lib/python3.11/dist-packages (from fasttext) (1.26.4)\n",
            "Using cached pybind11-2.13.6-py3-none-any.whl (243 kB)\n",
            "Building wheels for collected packages: fasttext\n",
            "  Building wheel for fasttext (pyproject.toml) ... \u001b[?25l\u001b[?25hdone\n",
            "  Created wheel for fasttext: filename=fasttext-0.9.3-cp311-cp311-linux_x86_64.whl size=4313505 sha256=6acdeba6d352f602fcb3cf8fd3b64ce8125818318d174465f009d9ac9be1055b\n",
            "  Stored in directory: /root/.cache/pip/wheels/65/4f/35/5057db0249224e9ab55a513fa6b79451473ceb7713017823c3\n",
            "Successfully built fasttext\n",
            "Installing collected packages: pybind11, fasttext\n",
            "Successfully installed fasttext-0.9.3 pybind11-2.13.6\n"
          ]
        }
      ]
    },
    {
      "cell_type": "code",
      "source": [
        "# Download the pretrained fastText language identification model and load it.\n",
        "!wget https://dl.fbaipublicfiles.com/fasttext/supervised-models/lid.176.bin\n",
        "import fasttext\n",
        "fasttext_model = fasttext.load_model(\"/content/lid.176.bin\")\n"
      ],
      "metadata": {
        "colab": {
          "base_uri": "https://localhost:8080/"
        },
        "id": "hNJHu0yOdEml",
        "outputId": "bd5197f2-36b8-4507-f7bf-0caf78acadab"
      },
      "execution_count": null,
      "outputs": [
        {
          "output_type": "stream",
          "name": "stdout",
          "text": [
            "--2025-04-06 12:57:08--  https://dl.fbaipublicfiles.com/fasttext/supervised-models/lid.176.bin\n",
            "Resolving dl.fbaipublicfiles.com (dl.fbaipublicfiles.com)... 18.239.50.120, 18.239.50.104, 18.239.50.18, ...\n",
            "Connecting to dl.fbaipublicfiles.com (dl.fbaipublicfiles.com)|18.239.50.120|:443... connected.\n",
            "HTTP request sent, awaiting response... 200 OK\n",
            "Length: 131266198 (125M) [application/octet-stream]\n",
            "Saving to: ‘lid.176.bin’\n",
            "\n",
            "lid.176.bin         100%[===================>] 125.18M   206MB/s    in 0.6s    \n",
            "\n",
            "2025-04-06 12:57:09 (206 MB/s) - ‘lid.176.bin’ saved [131266198/131266198]\n",
            "\n"
          ]
        }
      ]
    },
    {
      "cell_type": "code",
      "source": [
        "fasttext_model.predict(\"Kafka on the shore\")"
      ],
      "metadata": {
        "colab": {
          "base_uri": "https://localhost:8080/"
        },
        "id": "0iH6-W4gdgVW",
        "outputId": "1e1d7941-86de-4e40-acdd-019efd739932"
      },
      "execution_count": null,
      "outputs": [
        {
          "output_type": "execute_result",
          "data": {
            "text/plain": [
              "(('__label__en',), array([0.54459292]))"
            ]
          },
          "metadata": {},
          "execution_count": 4
        }
      ]
    },
    {
      "cell_type": "code",
      "source": [
        "# Define a function to detect if a text contains non-Latin script characters\n",
        "# (Arabic, Chinese, Japanese, Cyrillic, or Korean)\n",
        "import re\n",
        "\n",
        "def contains_non_latin_script(text):\n",
        "    \"\"\"\n",
        "    Returns True if the text contains any non-Latin script characters\n",
        "    (Arabic, Chinese, Japanese, Cyrillic, or Korean).\n",
        "    \"\"\"\n",
        "\n",
        "    non_latin_pattern = re.compile(\n",
        "        r'[\\u0600-\\u06FF'  # Arabic\n",
        "        r'\\u4E00-\\u9FFF'   # Chinese (CJK Unified Ideographs)\n",
        "        r'\\u3040-\\u30FF'   # Japanese (Hiragana + Katakana)\n",
        "        r'\\u0400-\\u04FF'   # Cyrillic\n",
        "        r'\\uAC00-\\uD7AF]'  # Korean Hangul\n",
        "    )\n",
        "\n",
        "    return bool(non_latin_pattern.search(text))\n"
      ],
      "metadata": {
        "id": "rAfAyubwIjB5"
      },
      "execution_count": null,
      "outputs": []
    },
    {
      "cell_type": "code",
      "source": [
        "# selecting only books in english language\n",
        "def is_english(row, fasttext_model, treshold =0.5):\n",
        "  lang = row.get(\"language_code\", None)\n",
        "  text = row.get(\"title_without_series\",\"\")\n",
        "\n",
        "  if not text or text.strip()==\"\" or not isinstance(text, str):\n",
        "    return False\n",
        "\n",
        "  if isinstance(lang, str) and lang.lower() in [\"eng\", \"en\", \"en-us\", \"en-gb\"]:\n",
        "    return True\n",
        "\n",
        "  if contains_non_latin_script(text):\n",
        "    return False\n",
        "\n",
        "  label,prob = fasttext_model.predict(text)\n",
        "  return label[0] == \"__label__en\" and prob[0] >= treshold\n",
        "  #return label, prob"
      ],
      "metadata": {
        "id": "ZCBWA-lYEnOS"
      },
      "execution_count": null,
      "outputs": []
    },
    {
      "cell_type": "code",
      "source": [
        "# This script preprocesses a large dataset of book metadata from a JSON file.\n",
        "# It reads the data in chunks, selects relevant fields, simplifies nested structures,\n",
        "# filters for books identified as being in English, and saves the cleaned data\n",
        "# to an efficient Parquet file for subsequent use (e.g., in a recommendation system).\n",
        "\n",
        "import pandas as pd\n",
        "import os\n",
        "import pyarrow.parquet as pq\n",
        "import pyarrow as pa\n",
        "import re\n",
        "\n",
        "# Define the necessary fields from the original dataset\n",
        "fields = [\"title_without_series\", \"authors\", \"average_rating\", \"ratings_count\", \"book_id\",\n",
        "          \"popular_shelves\", \"similar_books\",  \"language_code\", \"description\"]\n",
        "\n",
        "# Read in chunks (adjust chunk size as needed)\n",
        "chunk_size = 100000  # Adjust based on memory availability\n",
        "\n",
        "# Define the output Parquet file path\n",
        "output_file = \"/content/drive/MyDrive/Book item-item/filtered_books.parquet\"\n",
        "\n",
        "# Initialize variables\n",
        "writer = None\n",
        "counter = 0\n",
        "total_rows = 0\n",
        "\n",
        "# If an old output file exists, remove it before starting\n",
        "if os.path.exists(output_file):\n",
        "  os.remove(output_file)\n",
        "\n",
        "\n",
        "\n",
        "# Define a function to simplify fields by flattening nested lists\n",
        "def simplify_fields(chunk):\n",
        "  \"\"\"\n",
        "    Simplify the 'popular_shelves' and 'authors' fields:\n",
        "    - 'popular_shelves': keep only shelf names.\n",
        "    - 'authors': keep only author IDs.\n",
        "    \"\"\"\n",
        "\n",
        "  #flatten author and popular shelves\n",
        "  chunk[\"popular_shelves\"] = chunk[\"popular_shelves\"].apply(\n",
        "      lambda shelves: [shelf[\"name\"] for shelf in shelves] if isinstance(shelves, list) else [])\n",
        "  chunk[\"authors\"] = chunk[\"authors\"].apply(\n",
        "      lambda authors: [author[\"author_id\"] for author in authors] if isinstance(authors, list) else [])\n",
        "\n",
        "  return chunk\n",
        "\n",
        "\n",
        "\n",
        "# Read the large JSON file in chunks\n",
        "for i, chunk in enumerate(pd.read_json(filepath, lines=True, chunksize=chunk_size)):\n",
        "\n",
        "    print(f\"Processing chunk {counter}: {total_rows} rows\")\n",
        "    chunk = chunk[fields]  # Select only required columns\n",
        "\n",
        "    #Simplify popular shelves field to remove unnecessary data\n",
        "    chunk = simplify_fields(chunk)\n",
        "\n",
        "    # Apply multi-step English language filtering\n",
        "    # 1. Use 'language_code' if available\n",
        "    # 2. Check for non-Latin scripts\n",
        "    # 3. Use fastText prediction with 0.5 probability threshold\n",
        "    chunk[\"is_english\"] = chunk.apply(\n",
        "        lambda row: is_english(row,fasttext_model, treshold = 0.5), axis =1\n",
        "    )\n",
        "\n",
        "    # Keep only English books\n",
        "    chunk = chunk[chunk[\"is_english\"]].copy()\n",
        "\n",
        "    # Drop the temporary 'is_english' helper column\n",
        "    chunk = chunk.drop(columns=[\"is_english\"])\n",
        "\n",
        "    # Convert DataFrame to Arrow Table\n",
        "    table = pa.Table.from_pandas(chunk)\n",
        "\n",
        "    # Initialize the Parquet writer if not already done\n",
        "    if writer is None:\n",
        "        writer = pq.ParquetWriter(output_file, table.schema, compression=\"snappy\")\n",
        "\n",
        "    # Write the table to the Parquet file\n",
        "    writer.write_table(table)\n",
        "\n",
        "    # Update counters\n",
        "    total_rows+=len(chunk)\n",
        "    counter += 1\n",
        "\n",
        "# Don't forget to close the writer\n",
        "if writer:\n",
        "    writer.close()\n"
      ],
      "metadata": {
        "id": "YzWOEA45qEOw",
        "colab": {
          "base_uri": "https://localhost:8080/",
          "height": 1000
        },
        "outputId": "2f633b39-e98d-468b-ba52-90fda7e18ffc"
      },
      "execution_count": null,
      "outputs": [
        {
          "output_type": "stream",
          "name": "stdout",
          "text": [
            "Processing chunk 0: 0 rows\n"
          ]
        },
        {
          "output_type": "stream",
          "name": "stderr",
          "text": [
            "<ipython-input-7-e9b7b91fe6d3>:26: SettingWithCopyWarning: \n",
            "A value is trying to be set on a copy of a slice from a DataFrame.\n",
            "Try using .loc[row_indexer,col_indexer] = value instead\n",
            "\n",
            "See the caveats in the documentation: https://pandas.pydata.org/pandas-docs/stable/user_guide/indexing.html#returning-a-view-versus-a-copy\n",
            "  chunk[\"popular_shelves\"] = chunk[\"popular_shelves\"].apply(\n",
            "<ipython-input-7-e9b7b91fe6d3>:28: SettingWithCopyWarning: \n",
            "A value is trying to be set on a copy of a slice from a DataFrame.\n",
            "Try using .loc[row_indexer,col_indexer] = value instead\n",
            "\n",
            "See the caveats in the documentation: https://pandas.pydata.org/pandas-docs/stable/user_guide/indexing.html#returning-a-view-versus-a-copy\n",
            "  chunk[\"authors\"] = chunk[\"authors\"].apply(\n",
            "<ipython-input-7-e9b7b91fe6d3>:47: SettingWithCopyWarning: \n",
            "A value is trying to be set on a copy of a slice from a DataFrame.\n",
            "Try using .loc[row_indexer,col_indexer] = value instead\n",
            "\n",
            "See the caveats in the documentation: https://pandas.pydata.org/pandas-docs/stable/user_guide/indexing.html#returning-a-view-versus-a-copy\n",
            "  chunk[\"is_english\"] = chunk.apply(\n"
          ]
        },
        {
          "output_type": "stream",
          "name": "stdout",
          "text": [
            "Processing chunk 1: 68440 rows\n"
          ]
        },
        {
          "output_type": "stream",
          "name": "stderr",
          "text": [
            "<ipython-input-7-e9b7b91fe6d3>:26: SettingWithCopyWarning: \n",
            "A value is trying to be set on a copy of a slice from a DataFrame.\n",
            "Try using .loc[row_indexer,col_indexer] = value instead\n",
            "\n",
            "See the caveats in the documentation: https://pandas.pydata.org/pandas-docs/stable/user_guide/indexing.html#returning-a-view-versus-a-copy\n",
            "  chunk[\"popular_shelves\"] = chunk[\"popular_shelves\"].apply(\n",
            "<ipython-input-7-e9b7b91fe6d3>:28: SettingWithCopyWarning: \n",
            "A value is trying to be set on a copy of a slice from a DataFrame.\n",
            "Try using .loc[row_indexer,col_indexer] = value instead\n",
            "\n",
            "See the caveats in the documentation: https://pandas.pydata.org/pandas-docs/stable/user_guide/indexing.html#returning-a-view-versus-a-copy\n",
            "  chunk[\"authors\"] = chunk[\"authors\"].apply(\n",
            "<ipython-input-7-e9b7b91fe6d3>:47: SettingWithCopyWarning: \n",
            "A value is trying to be set on a copy of a slice from a DataFrame.\n",
            "Try using .loc[row_indexer,col_indexer] = value instead\n",
            "\n",
            "See the caveats in the documentation: https://pandas.pydata.org/pandas-docs/stable/user_guide/indexing.html#returning-a-view-versus-a-copy\n",
            "  chunk[\"is_english\"] = chunk.apply(\n"
          ]
        },
        {
          "output_type": "stream",
          "name": "stdout",
          "text": [
            "Processing chunk 2: 136936 rows\n"
          ]
        },
        {
          "output_type": "stream",
          "name": "stderr",
          "text": [
            "<ipython-input-7-e9b7b91fe6d3>:26: SettingWithCopyWarning: \n",
            "A value is trying to be set on a copy of a slice from a DataFrame.\n",
            "Try using .loc[row_indexer,col_indexer] = value instead\n",
            "\n",
            "See the caveats in the documentation: https://pandas.pydata.org/pandas-docs/stable/user_guide/indexing.html#returning-a-view-versus-a-copy\n",
            "  chunk[\"popular_shelves\"] = chunk[\"popular_shelves\"].apply(\n",
            "<ipython-input-7-e9b7b91fe6d3>:28: SettingWithCopyWarning: \n",
            "A value is trying to be set on a copy of a slice from a DataFrame.\n",
            "Try using .loc[row_indexer,col_indexer] = value instead\n",
            "\n",
            "See the caveats in the documentation: https://pandas.pydata.org/pandas-docs/stable/user_guide/indexing.html#returning-a-view-versus-a-copy\n",
            "  chunk[\"authors\"] = chunk[\"authors\"].apply(\n",
            "<ipython-input-7-e9b7b91fe6d3>:47: SettingWithCopyWarning: \n",
            "A value is trying to be set on a copy of a slice from a DataFrame.\n",
            "Try using .loc[row_indexer,col_indexer] = value instead\n",
            "\n",
            "See the caveats in the documentation: https://pandas.pydata.org/pandas-docs/stable/user_guide/indexing.html#returning-a-view-versus-a-copy\n",
            "  chunk[\"is_english\"] = chunk.apply(\n"
          ]
        },
        {
          "output_type": "stream",
          "name": "stdout",
          "text": [
            "Processing chunk 3: 205120 rows\n"
          ]
        },
        {
          "output_type": "stream",
          "name": "stderr",
          "text": [
            "<ipython-input-7-e9b7b91fe6d3>:26: SettingWithCopyWarning: \n",
            "A value is trying to be set on a copy of a slice from a DataFrame.\n",
            "Try using .loc[row_indexer,col_indexer] = value instead\n",
            "\n",
            "See the caveats in the documentation: https://pandas.pydata.org/pandas-docs/stable/user_guide/indexing.html#returning-a-view-versus-a-copy\n",
            "  chunk[\"popular_shelves\"] = chunk[\"popular_shelves\"].apply(\n",
            "<ipython-input-7-e9b7b91fe6d3>:28: SettingWithCopyWarning: \n",
            "A value is trying to be set on a copy of a slice from a DataFrame.\n",
            "Try using .loc[row_indexer,col_indexer] = value instead\n",
            "\n",
            "See the caveats in the documentation: https://pandas.pydata.org/pandas-docs/stable/user_guide/indexing.html#returning-a-view-versus-a-copy\n",
            "  chunk[\"authors\"] = chunk[\"authors\"].apply(\n",
            "<ipython-input-7-e9b7b91fe6d3>:47: SettingWithCopyWarning: \n",
            "A value is trying to be set on a copy of a slice from a DataFrame.\n",
            "Try using .loc[row_indexer,col_indexer] = value instead\n",
            "\n",
            "See the caveats in the documentation: https://pandas.pydata.org/pandas-docs/stable/user_guide/indexing.html#returning-a-view-versus-a-copy\n",
            "  chunk[\"is_english\"] = chunk.apply(\n"
          ]
        },
        {
          "output_type": "stream",
          "name": "stdout",
          "text": [
            "Processing chunk 4: 272987 rows\n"
          ]
        },
        {
          "output_type": "stream",
          "name": "stderr",
          "text": [
            "<ipython-input-7-e9b7b91fe6d3>:26: SettingWithCopyWarning: \n",
            "A value is trying to be set on a copy of a slice from a DataFrame.\n",
            "Try using .loc[row_indexer,col_indexer] = value instead\n",
            "\n",
            "See the caveats in the documentation: https://pandas.pydata.org/pandas-docs/stable/user_guide/indexing.html#returning-a-view-versus-a-copy\n",
            "  chunk[\"popular_shelves\"] = chunk[\"popular_shelves\"].apply(\n",
            "<ipython-input-7-e9b7b91fe6d3>:28: SettingWithCopyWarning: \n",
            "A value is trying to be set on a copy of a slice from a DataFrame.\n",
            "Try using .loc[row_indexer,col_indexer] = value instead\n",
            "\n",
            "See the caveats in the documentation: https://pandas.pydata.org/pandas-docs/stable/user_guide/indexing.html#returning-a-view-versus-a-copy\n",
            "  chunk[\"authors\"] = chunk[\"authors\"].apply(\n",
            "<ipython-input-7-e9b7b91fe6d3>:47: SettingWithCopyWarning: \n",
            "A value is trying to be set on a copy of a slice from a DataFrame.\n",
            "Try using .loc[row_indexer,col_indexer] = value instead\n",
            "\n",
            "See the caveats in the documentation: https://pandas.pydata.org/pandas-docs/stable/user_guide/indexing.html#returning-a-view-versus-a-copy\n",
            "  chunk[\"is_english\"] = chunk.apply(\n"
          ]
        },
        {
          "output_type": "stream",
          "name": "stdout",
          "text": [
            "Processing chunk 5: 341195 rows\n"
          ]
        },
        {
          "output_type": "stream",
          "name": "stderr",
          "text": [
            "<ipython-input-7-e9b7b91fe6d3>:26: SettingWithCopyWarning: \n",
            "A value is trying to be set on a copy of a slice from a DataFrame.\n",
            "Try using .loc[row_indexer,col_indexer] = value instead\n",
            "\n",
            "See the caveats in the documentation: https://pandas.pydata.org/pandas-docs/stable/user_guide/indexing.html#returning-a-view-versus-a-copy\n",
            "  chunk[\"popular_shelves\"] = chunk[\"popular_shelves\"].apply(\n",
            "<ipython-input-7-e9b7b91fe6d3>:28: SettingWithCopyWarning: \n",
            "A value is trying to be set on a copy of a slice from a DataFrame.\n",
            "Try using .loc[row_indexer,col_indexer] = value instead\n",
            "\n",
            "See the caveats in the documentation: https://pandas.pydata.org/pandas-docs/stable/user_guide/indexing.html#returning-a-view-versus-a-copy\n",
            "  chunk[\"authors\"] = chunk[\"authors\"].apply(\n",
            "<ipython-input-7-e9b7b91fe6d3>:47: SettingWithCopyWarning: \n",
            "A value is trying to be set on a copy of a slice from a DataFrame.\n",
            "Try using .loc[row_indexer,col_indexer] = value instead\n",
            "\n",
            "See the caveats in the documentation: https://pandas.pydata.org/pandas-docs/stable/user_guide/indexing.html#returning-a-view-versus-a-copy\n",
            "  chunk[\"is_english\"] = chunk.apply(\n"
          ]
        },
        {
          "output_type": "stream",
          "name": "stdout",
          "text": [
            "Processing chunk 6: 409278 rows\n"
          ]
        },
        {
          "output_type": "stream",
          "name": "stderr",
          "text": [
            "<ipython-input-7-e9b7b91fe6d3>:26: SettingWithCopyWarning: \n",
            "A value is trying to be set on a copy of a slice from a DataFrame.\n",
            "Try using .loc[row_indexer,col_indexer] = value instead\n",
            "\n",
            "See the caveats in the documentation: https://pandas.pydata.org/pandas-docs/stable/user_guide/indexing.html#returning-a-view-versus-a-copy\n",
            "  chunk[\"popular_shelves\"] = chunk[\"popular_shelves\"].apply(\n",
            "<ipython-input-7-e9b7b91fe6d3>:28: SettingWithCopyWarning: \n",
            "A value is trying to be set on a copy of a slice from a DataFrame.\n",
            "Try using .loc[row_indexer,col_indexer] = value instead\n",
            "\n",
            "See the caveats in the documentation: https://pandas.pydata.org/pandas-docs/stable/user_guide/indexing.html#returning-a-view-versus-a-copy\n",
            "  chunk[\"authors\"] = chunk[\"authors\"].apply(\n",
            "<ipython-input-7-e9b7b91fe6d3>:47: SettingWithCopyWarning: \n",
            "A value is trying to be set on a copy of a slice from a DataFrame.\n",
            "Try using .loc[row_indexer,col_indexer] = value instead\n",
            "\n",
            "See the caveats in the documentation: https://pandas.pydata.org/pandas-docs/stable/user_guide/indexing.html#returning-a-view-versus-a-copy\n",
            "  chunk[\"is_english\"] = chunk.apply(\n"
          ]
        },
        {
          "output_type": "stream",
          "name": "stdout",
          "text": [
            "Processing chunk 7: 477230 rows\n"
          ]
        },
        {
          "output_type": "stream",
          "name": "stderr",
          "text": [
            "<ipython-input-7-e9b7b91fe6d3>:26: SettingWithCopyWarning: \n",
            "A value is trying to be set on a copy of a slice from a DataFrame.\n",
            "Try using .loc[row_indexer,col_indexer] = value instead\n",
            "\n",
            "See the caveats in the documentation: https://pandas.pydata.org/pandas-docs/stable/user_guide/indexing.html#returning-a-view-versus-a-copy\n",
            "  chunk[\"popular_shelves\"] = chunk[\"popular_shelves\"].apply(\n",
            "<ipython-input-7-e9b7b91fe6d3>:28: SettingWithCopyWarning: \n",
            "A value is trying to be set on a copy of a slice from a DataFrame.\n",
            "Try using .loc[row_indexer,col_indexer] = value instead\n",
            "\n",
            "See the caveats in the documentation: https://pandas.pydata.org/pandas-docs/stable/user_guide/indexing.html#returning-a-view-versus-a-copy\n",
            "  chunk[\"authors\"] = chunk[\"authors\"].apply(\n",
            "<ipython-input-7-e9b7b91fe6d3>:47: SettingWithCopyWarning: \n",
            "A value is trying to be set on a copy of a slice from a DataFrame.\n",
            "Try using .loc[row_indexer,col_indexer] = value instead\n",
            "\n",
            "See the caveats in the documentation: https://pandas.pydata.org/pandas-docs/stable/user_guide/indexing.html#returning-a-view-versus-a-copy\n",
            "  chunk[\"is_english\"] = chunk.apply(\n"
          ]
        },
        {
          "output_type": "stream",
          "name": "stdout",
          "text": [
            "Processing chunk 8: 545231 rows\n"
          ]
        },
        {
          "output_type": "stream",
          "name": "stderr",
          "text": [
            "<ipython-input-7-e9b7b91fe6d3>:26: SettingWithCopyWarning: \n",
            "A value is trying to be set on a copy of a slice from a DataFrame.\n",
            "Try using .loc[row_indexer,col_indexer] = value instead\n",
            "\n",
            "See the caveats in the documentation: https://pandas.pydata.org/pandas-docs/stable/user_guide/indexing.html#returning-a-view-versus-a-copy\n",
            "  chunk[\"popular_shelves\"] = chunk[\"popular_shelves\"].apply(\n",
            "<ipython-input-7-e9b7b91fe6d3>:28: SettingWithCopyWarning: \n",
            "A value is trying to be set on a copy of a slice from a DataFrame.\n",
            "Try using .loc[row_indexer,col_indexer] = value instead\n",
            "\n",
            "See the caveats in the documentation: https://pandas.pydata.org/pandas-docs/stable/user_guide/indexing.html#returning-a-view-versus-a-copy\n",
            "  chunk[\"authors\"] = chunk[\"authors\"].apply(\n",
            "<ipython-input-7-e9b7b91fe6d3>:47: SettingWithCopyWarning: \n",
            "A value is trying to be set on a copy of a slice from a DataFrame.\n",
            "Try using .loc[row_indexer,col_indexer] = value instead\n",
            "\n",
            "See the caveats in the documentation: https://pandas.pydata.org/pandas-docs/stable/user_guide/indexing.html#returning-a-view-versus-a-copy\n",
            "  chunk[\"is_english\"] = chunk.apply(\n"
          ]
        },
        {
          "output_type": "stream",
          "name": "stdout",
          "text": [
            "Processing chunk 9: 613202 rows\n"
          ]
        },
        {
          "output_type": "stream",
          "name": "stderr",
          "text": [
            "<ipython-input-7-e9b7b91fe6d3>:26: SettingWithCopyWarning: \n",
            "A value is trying to be set on a copy of a slice from a DataFrame.\n",
            "Try using .loc[row_indexer,col_indexer] = value instead\n",
            "\n",
            "See the caveats in the documentation: https://pandas.pydata.org/pandas-docs/stable/user_guide/indexing.html#returning-a-view-versus-a-copy\n",
            "  chunk[\"popular_shelves\"] = chunk[\"popular_shelves\"].apply(\n",
            "<ipython-input-7-e9b7b91fe6d3>:28: SettingWithCopyWarning: \n",
            "A value is trying to be set on a copy of a slice from a DataFrame.\n",
            "Try using .loc[row_indexer,col_indexer] = value instead\n",
            "\n",
            "See the caveats in the documentation: https://pandas.pydata.org/pandas-docs/stable/user_guide/indexing.html#returning-a-view-versus-a-copy\n",
            "  chunk[\"authors\"] = chunk[\"authors\"].apply(\n",
            "<ipython-input-7-e9b7b91fe6d3>:47: SettingWithCopyWarning: \n",
            "A value is trying to be set on a copy of a slice from a DataFrame.\n",
            "Try using .loc[row_indexer,col_indexer] = value instead\n",
            "\n",
            "See the caveats in the documentation: https://pandas.pydata.org/pandas-docs/stable/user_guide/indexing.html#returning-a-view-versus-a-copy\n",
            "  chunk[\"is_english\"] = chunk.apply(\n"
          ]
        },
        {
          "output_type": "stream",
          "name": "stdout",
          "text": [
            "Processing chunk 10: 681230 rows\n"
          ]
        },
        {
          "output_type": "stream",
          "name": "stderr",
          "text": [
            "<ipython-input-7-e9b7b91fe6d3>:26: SettingWithCopyWarning: \n",
            "A value is trying to be set on a copy of a slice from a DataFrame.\n",
            "Try using .loc[row_indexer,col_indexer] = value instead\n",
            "\n",
            "See the caveats in the documentation: https://pandas.pydata.org/pandas-docs/stable/user_guide/indexing.html#returning-a-view-versus-a-copy\n",
            "  chunk[\"popular_shelves\"] = chunk[\"popular_shelves\"].apply(\n",
            "<ipython-input-7-e9b7b91fe6d3>:28: SettingWithCopyWarning: \n",
            "A value is trying to be set on a copy of a slice from a DataFrame.\n",
            "Try using .loc[row_indexer,col_indexer] = value instead\n",
            "\n",
            "See the caveats in the documentation: https://pandas.pydata.org/pandas-docs/stable/user_guide/indexing.html#returning-a-view-versus-a-copy\n",
            "  chunk[\"authors\"] = chunk[\"authors\"].apply(\n",
            "<ipython-input-7-e9b7b91fe6d3>:47: SettingWithCopyWarning: \n",
            "A value is trying to be set on a copy of a slice from a DataFrame.\n",
            "Try using .loc[row_indexer,col_indexer] = value instead\n",
            "\n",
            "See the caveats in the documentation: https://pandas.pydata.org/pandas-docs/stable/user_guide/indexing.html#returning-a-view-versus-a-copy\n",
            "  chunk[\"is_english\"] = chunk.apply(\n"
          ]
        },
        {
          "output_type": "stream",
          "name": "stdout",
          "text": [
            "Processing chunk 11: 749320 rows\n"
          ]
        },
        {
          "output_type": "stream",
          "name": "stderr",
          "text": [
            "<ipython-input-7-e9b7b91fe6d3>:26: SettingWithCopyWarning: \n",
            "A value is trying to be set on a copy of a slice from a DataFrame.\n",
            "Try using .loc[row_indexer,col_indexer] = value instead\n",
            "\n",
            "See the caveats in the documentation: https://pandas.pydata.org/pandas-docs/stable/user_guide/indexing.html#returning-a-view-versus-a-copy\n",
            "  chunk[\"popular_shelves\"] = chunk[\"popular_shelves\"].apply(\n",
            "<ipython-input-7-e9b7b91fe6d3>:28: SettingWithCopyWarning: \n",
            "A value is trying to be set on a copy of a slice from a DataFrame.\n",
            "Try using .loc[row_indexer,col_indexer] = value instead\n",
            "\n",
            "See the caveats in the documentation: https://pandas.pydata.org/pandas-docs/stable/user_guide/indexing.html#returning-a-view-versus-a-copy\n",
            "  chunk[\"authors\"] = chunk[\"authors\"].apply(\n",
            "<ipython-input-7-e9b7b91fe6d3>:47: SettingWithCopyWarning: \n",
            "A value is trying to be set on a copy of a slice from a DataFrame.\n",
            "Try using .loc[row_indexer,col_indexer] = value instead\n",
            "\n",
            "See the caveats in the documentation: https://pandas.pydata.org/pandas-docs/stable/user_guide/indexing.html#returning-a-view-versus-a-copy\n",
            "  chunk[\"is_english\"] = chunk.apply(\n"
          ]
        },
        {
          "output_type": "stream",
          "name": "stdout",
          "text": [
            "Processing chunk 12: 817263 rows\n"
          ]
        },
        {
          "output_type": "stream",
          "name": "stderr",
          "text": [
            "<ipython-input-7-e9b7b91fe6d3>:26: SettingWithCopyWarning: \n",
            "A value is trying to be set on a copy of a slice from a DataFrame.\n",
            "Try using .loc[row_indexer,col_indexer] = value instead\n",
            "\n",
            "See the caveats in the documentation: https://pandas.pydata.org/pandas-docs/stable/user_guide/indexing.html#returning-a-view-versus-a-copy\n",
            "  chunk[\"popular_shelves\"] = chunk[\"popular_shelves\"].apply(\n",
            "<ipython-input-7-e9b7b91fe6d3>:28: SettingWithCopyWarning: \n",
            "A value is trying to be set on a copy of a slice from a DataFrame.\n",
            "Try using .loc[row_indexer,col_indexer] = value instead\n",
            "\n",
            "See the caveats in the documentation: https://pandas.pydata.org/pandas-docs/stable/user_guide/indexing.html#returning-a-view-versus-a-copy\n",
            "  chunk[\"authors\"] = chunk[\"authors\"].apply(\n",
            "<ipython-input-7-e9b7b91fe6d3>:47: SettingWithCopyWarning: \n",
            "A value is trying to be set on a copy of a slice from a DataFrame.\n",
            "Try using .loc[row_indexer,col_indexer] = value instead\n",
            "\n",
            "See the caveats in the documentation: https://pandas.pydata.org/pandas-docs/stable/user_guide/indexing.html#returning-a-view-versus-a-copy\n",
            "  chunk[\"is_english\"] = chunk.apply(\n"
          ]
        },
        {
          "output_type": "stream",
          "name": "stdout",
          "text": [
            "Processing chunk 13: 885765 rows\n"
          ]
        },
        {
          "output_type": "stream",
          "name": "stderr",
          "text": [
            "<ipython-input-7-e9b7b91fe6d3>:26: SettingWithCopyWarning: \n",
            "A value is trying to be set on a copy of a slice from a DataFrame.\n",
            "Try using .loc[row_indexer,col_indexer] = value instead\n",
            "\n",
            "See the caveats in the documentation: https://pandas.pydata.org/pandas-docs/stable/user_guide/indexing.html#returning-a-view-versus-a-copy\n",
            "  chunk[\"popular_shelves\"] = chunk[\"popular_shelves\"].apply(\n",
            "<ipython-input-7-e9b7b91fe6d3>:28: SettingWithCopyWarning: \n",
            "A value is trying to be set on a copy of a slice from a DataFrame.\n",
            "Try using .loc[row_indexer,col_indexer] = value instead\n",
            "\n",
            "See the caveats in the documentation: https://pandas.pydata.org/pandas-docs/stable/user_guide/indexing.html#returning-a-view-versus-a-copy\n",
            "  chunk[\"authors\"] = chunk[\"authors\"].apply(\n",
            "<ipython-input-7-e9b7b91fe6d3>:47: SettingWithCopyWarning: \n",
            "A value is trying to be set on a copy of a slice from a DataFrame.\n",
            "Try using .loc[row_indexer,col_indexer] = value instead\n",
            "\n",
            "See the caveats in the documentation: https://pandas.pydata.org/pandas-docs/stable/user_guide/indexing.html#returning-a-view-versus-a-copy\n",
            "  chunk[\"is_english\"] = chunk.apply(\n"
          ]
        },
        {
          "output_type": "stream",
          "name": "stdout",
          "text": [
            "Processing chunk 14: 954276 rows\n"
          ]
        },
        {
          "output_type": "stream",
          "name": "stderr",
          "text": [
            "<ipython-input-7-e9b7b91fe6d3>:26: SettingWithCopyWarning: \n",
            "A value is trying to be set on a copy of a slice from a DataFrame.\n",
            "Try using .loc[row_indexer,col_indexer] = value instead\n",
            "\n",
            "See the caveats in the documentation: https://pandas.pydata.org/pandas-docs/stable/user_guide/indexing.html#returning-a-view-versus-a-copy\n",
            "  chunk[\"popular_shelves\"] = chunk[\"popular_shelves\"].apply(\n",
            "<ipython-input-7-e9b7b91fe6d3>:28: SettingWithCopyWarning: \n",
            "A value is trying to be set on a copy of a slice from a DataFrame.\n",
            "Try using .loc[row_indexer,col_indexer] = value instead\n",
            "\n",
            "See the caveats in the documentation: https://pandas.pydata.org/pandas-docs/stable/user_guide/indexing.html#returning-a-view-versus-a-copy\n",
            "  chunk[\"authors\"] = chunk[\"authors\"].apply(\n",
            "<ipython-input-7-e9b7b91fe6d3>:47: SettingWithCopyWarning: \n",
            "A value is trying to be set on a copy of a slice from a DataFrame.\n",
            "Try using .loc[row_indexer,col_indexer] = value instead\n",
            "\n",
            "See the caveats in the documentation: https://pandas.pydata.org/pandas-docs/stable/user_guide/indexing.html#returning-a-view-versus-a-copy\n",
            "  chunk[\"is_english\"] = chunk.apply(\n"
          ]
        },
        {
          "output_type": "stream",
          "name": "stdout",
          "text": [
            "Processing chunk 15: 1022601 rows\n"
          ]
        },
        {
          "output_type": "stream",
          "name": "stderr",
          "text": [
            "<ipython-input-7-e9b7b91fe6d3>:26: SettingWithCopyWarning: \n",
            "A value is trying to be set on a copy of a slice from a DataFrame.\n",
            "Try using .loc[row_indexer,col_indexer] = value instead\n",
            "\n",
            "See the caveats in the documentation: https://pandas.pydata.org/pandas-docs/stable/user_guide/indexing.html#returning-a-view-versus-a-copy\n",
            "  chunk[\"popular_shelves\"] = chunk[\"popular_shelves\"].apply(\n",
            "<ipython-input-7-e9b7b91fe6d3>:28: SettingWithCopyWarning: \n",
            "A value is trying to be set on a copy of a slice from a DataFrame.\n",
            "Try using .loc[row_indexer,col_indexer] = value instead\n",
            "\n",
            "See the caveats in the documentation: https://pandas.pydata.org/pandas-docs/stable/user_guide/indexing.html#returning-a-view-versus-a-copy\n",
            "  chunk[\"authors\"] = chunk[\"authors\"].apply(\n",
            "<ipython-input-7-e9b7b91fe6d3>:47: SettingWithCopyWarning: \n",
            "A value is trying to be set on a copy of a slice from a DataFrame.\n",
            "Try using .loc[row_indexer,col_indexer] = value instead\n",
            "\n",
            "See the caveats in the documentation: https://pandas.pydata.org/pandas-docs/stable/user_guide/indexing.html#returning-a-view-versus-a-copy\n",
            "  chunk[\"is_english\"] = chunk.apply(\n"
          ]
        },
        {
          "output_type": "stream",
          "name": "stdout",
          "text": [
            "Processing chunk 16: 1091006 rows\n"
          ]
        },
        {
          "output_type": "stream",
          "name": "stderr",
          "text": [
            "<ipython-input-7-e9b7b91fe6d3>:26: SettingWithCopyWarning: \n",
            "A value is trying to be set on a copy of a slice from a DataFrame.\n",
            "Try using .loc[row_indexer,col_indexer] = value instead\n",
            "\n",
            "See the caveats in the documentation: https://pandas.pydata.org/pandas-docs/stable/user_guide/indexing.html#returning-a-view-versus-a-copy\n",
            "  chunk[\"popular_shelves\"] = chunk[\"popular_shelves\"].apply(\n",
            "<ipython-input-7-e9b7b91fe6d3>:28: SettingWithCopyWarning: \n",
            "A value is trying to be set on a copy of a slice from a DataFrame.\n",
            "Try using .loc[row_indexer,col_indexer] = value instead\n",
            "\n",
            "See the caveats in the documentation: https://pandas.pydata.org/pandas-docs/stable/user_guide/indexing.html#returning-a-view-versus-a-copy\n",
            "  chunk[\"authors\"] = chunk[\"authors\"].apply(\n",
            "<ipython-input-7-e9b7b91fe6d3>:47: SettingWithCopyWarning: \n",
            "A value is trying to be set on a copy of a slice from a DataFrame.\n",
            "Try using .loc[row_indexer,col_indexer] = value instead\n",
            "\n",
            "See the caveats in the documentation: https://pandas.pydata.org/pandas-docs/stable/user_guide/indexing.html#returning-a-view-versus-a-copy\n",
            "  chunk[\"is_english\"] = chunk.apply(\n"
          ]
        },
        {
          "output_type": "stream",
          "name": "stdout",
          "text": [
            "Processing chunk 17: 1159158 rows\n"
          ]
        },
        {
          "output_type": "stream",
          "name": "stderr",
          "text": [
            "<ipython-input-7-e9b7b91fe6d3>:26: SettingWithCopyWarning: \n",
            "A value is trying to be set on a copy of a slice from a DataFrame.\n",
            "Try using .loc[row_indexer,col_indexer] = value instead\n",
            "\n",
            "See the caveats in the documentation: https://pandas.pydata.org/pandas-docs/stable/user_guide/indexing.html#returning-a-view-versus-a-copy\n",
            "  chunk[\"popular_shelves\"] = chunk[\"popular_shelves\"].apply(\n",
            "<ipython-input-7-e9b7b91fe6d3>:28: SettingWithCopyWarning: \n",
            "A value is trying to be set on a copy of a slice from a DataFrame.\n",
            "Try using .loc[row_indexer,col_indexer] = value instead\n",
            "\n",
            "See the caveats in the documentation: https://pandas.pydata.org/pandas-docs/stable/user_guide/indexing.html#returning-a-view-versus-a-copy\n",
            "  chunk[\"authors\"] = chunk[\"authors\"].apply(\n",
            "<ipython-input-7-e9b7b91fe6d3>:47: SettingWithCopyWarning: \n",
            "A value is trying to be set on a copy of a slice from a DataFrame.\n",
            "Try using .loc[row_indexer,col_indexer] = value instead\n",
            "\n",
            "See the caveats in the documentation: https://pandas.pydata.org/pandas-docs/stable/user_guide/indexing.html#returning-a-view-versus-a-copy\n",
            "  chunk[\"is_english\"] = chunk.apply(\n"
          ]
        },
        {
          "output_type": "stream",
          "name": "stdout",
          "text": [
            "Processing chunk 18: 1227177 rows\n"
          ]
        },
        {
          "output_type": "stream",
          "name": "stderr",
          "text": [
            "<ipython-input-7-e9b7b91fe6d3>:26: SettingWithCopyWarning: \n",
            "A value is trying to be set on a copy of a slice from a DataFrame.\n",
            "Try using .loc[row_indexer,col_indexer] = value instead\n",
            "\n",
            "See the caveats in the documentation: https://pandas.pydata.org/pandas-docs/stable/user_guide/indexing.html#returning-a-view-versus-a-copy\n",
            "  chunk[\"popular_shelves\"] = chunk[\"popular_shelves\"].apply(\n",
            "<ipython-input-7-e9b7b91fe6d3>:28: SettingWithCopyWarning: \n",
            "A value is trying to be set on a copy of a slice from a DataFrame.\n",
            "Try using .loc[row_indexer,col_indexer] = value instead\n",
            "\n",
            "See the caveats in the documentation: https://pandas.pydata.org/pandas-docs/stable/user_guide/indexing.html#returning-a-view-versus-a-copy\n",
            "  chunk[\"authors\"] = chunk[\"authors\"].apply(\n",
            "<ipython-input-7-e9b7b91fe6d3>:47: SettingWithCopyWarning: \n",
            "A value is trying to be set on a copy of a slice from a DataFrame.\n",
            "Try using .loc[row_indexer,col_indexer] = value instead\n",
            "\n",
            "See the caveats in the documentation: https://pandas.pydata.org/pandas-docs/stable/user_guide/indexing.html#returning-a-view-versus-a-copy\n",
            "  chunk[\"is_english\"] = chunk.apply(\n"
          ]
        },
        {
          "output_type": "stream",
          "name": "stdout",
          "text": [
            "Processing chunk 19: 1295056 rows\n"
          ]
        },
        {
          "output_type": "stream",
          "name": "stderr",
          "text": [
            "<ipython-input-7-e9b7b91fe6d3>:26: SettingWithCopyWarning: \n",
            "A value is trying to be set on a copy of a slice from a DataFrame.\n",
            "Try using .loc[row_indexer,col_indexer] = value instead\n",
            "\n",
            "See the caveats in the documentation: https://pandas.pydata.org/pandas-docs/stable/user_guide/indexing.html#returning-a-view-versus-a-copy\n",
            "  chunk[\"popular_shelves\"] = chunk[\"popular_shelves\"].apply(\n",
            "<ipython-input-7-e9b7b91fe6d3>:28: SettingWithCopyWarning: \n",
            "A value is trying to be set on a copy of a slice from a DataFrame.\n",
            "Try using .loc[row_indexer,col_indexer] = value instead\n",
            "\n",
            "See the caveats in the documentation: https://pandas.pydata.org/pandas-docs/stable/user_guide/indexing.html#returning-a-view-versus-a-copy\n",
            "  chunk[\"authors\"] = chunk[\"authors\"].apply(\n",
            "<ipython-input-7-e9b7b91fe6d3>:47: SettingWithCopyWarning: \n",
            "A value is trying to be set on a copy of a slice from a DataFrame.\n",
            "Try using .loc[row_indexer,col_indexer] = value instead\n",
            "\n",
            "See the caveats in the documentation: https://pandas.pydata.org/pandas-docs/stable/user_guide/indexing.html#returning-a-view-versus-a-copy\n",
            "  chunk[\"is_english\"] = chunk.apply(\n"
          ]
        },
        {
          "output_type": "stream",
          "name": "stdout",
          "text": [
            "Processing chunk 20: 1363359 rows\n"
          ]
        },
        {
          "output_type": "stream",
          "name": "stderr",
          "text": [
            "<ipython-input-7-e9b7b91fe6d3>:26: SettingWithCopyWarning: \n",
            "A value is trying to be set on a copy of a slice from a DataFrame.\n",
            "Try using .loc[row_indexer,col_indexer] = value instead\n",
            "\n",
            "See the caveats in the documentation: https://pandas.pydata.org/pandas-docs/stable/user_guide/indexing.html#returning-a-view-versus-a-copy\n",
            "  chunk[\"popular_shelves\"] = chunk[\"popular_shelves\"].apply(\n",
            "<ipython-input-7-e9b7b91fe6d3>:28: SettingWithCopyWarning: \n",
            "A value is trying to be set on a copy of a slice from a DataFrame.\n",
            "Try using .loc[row_indexer,col_indexer] = value instead\n",
            "\n",
            "See the caveats in the documentation: https://pandas.pydata.org/pandas-docs/stable/user_guide/indexing.html#returning-a-view-versus-a-copy\n",
            "  chunk[\"authors\"] = chunk[\"authors\"].apply(\n",
            "<ipython-input-7-e9b7b91fe6d3>:47: SettingWithCopyWarning: \n",
            "A value is trying to be set on a copy of a slice from a DataFrame.\n",
            "Try using .loc[row_indexer,col_indexer] = value instead\n",
            "\n",
            "See the caveats in the documentation: https://pandas.pydata.org/pandas-docs/stable/user_guide/indexing.html#returning-a-view-versus-a-copy\n",
            "  chunk[\"is_english\"] = chunk.apply(\n"
          ]
        },
        {
          "output_type": "stream",
          "name": "stdout",
          "text": [
            "Processing chunk 21: 1431134 rows\n"
          ]
        },
        {
          "output_type": "stream",
          "name": "stderr",
          "text": [
            "<ipython-input-7-e9b7b91fe6d3>:26: SettingWithCopyWarning: \n",
            "A value is trying to be set on a copy of a slice from a DataFrame.\n",
            "Try using .loc[row_indexer,col_indexer] = value instead\n",
            "\n",
            "See the caveats in the documentation: https://pandas.pydata.org/pandas-docs/stable/user_guide/indexing.html#returning-a-view-versus-a-copy\n",
            "  chunk[\"popular_shelves\"] = chunk[\"popular_shelves\"].apply(\n",
            "<ipython-input-7-e9b7b91fe6d3>:28: SettingWithCopyWarning: \n",
            "A value is trying to be set on a copy of a slice from a DataFrame.\n",
            "Try using .loc[row_indexer,col_indexer] = value instead\n",
            "\n",
            "See the caveats in the documentation: https://pandas.pydata.org/pandas-docs/stable/user_guide/indexing.html#returning-a-view-versus-a-copy\n",
            "  chunk[\"authors\"] = chunk[\"authors\"].apply(\n",
            "<ipython-input-7-e9b7b91fe6d3>:47: SettingWithCopyWarning: \n",
            "A value is trying to be set on a copy of a slice from a DataFrame.\n",
            "Try using .loc[row_indexer,col_indexer] = value instead\n",
            "\n",
            "See the caveats in the documentation: https://pandas.pydata.org/pandas-docs/stable/user_guide/indexing.html#returning-a-view-versus-a-copy\n",
            "  chunk[\"is_english\"] = chunk.apply(\n"
          ]
        },
        {
          "output_type": "stream",
          "name": "stdout",
          "text": [
            "Processing chunk 22: 1499280 rows\n"
          ]
        },
        {
          "output_type": "stream",
          "name": "stderr",
          "text": [
            "<ipython-input-7-e9b7b91fe6d3>:26: SettingWithCopyWarning: \n",
            "A value is trying to be set on a copy of a slice from a DataFrame.\n",
            "Try using .loc[row_indexer,col_indexer] = value instead\n",
            "\n",
            "See the caveats in the documentation: https://pandas.pydata.org/pandas-docs/stable/user_guide/indexing.html#returning-a-view-versus-a-copy\n",
            "  chunk[\"popular_shelves\"] = chunk[\"popular_shelves\"].apply(\n",
            "<ipython-input-7-e9b7b91fe6d3>:28: SettingWithCopyWarning: \n",
            "A value is trying to be set on a copy of a slice from a DataFrame.\n",
            "Try using .loc[row_indexer,col_indexer] = value instead\n",
            "\n",
            "See the caveats in the documentation: https://pandas.pydata.org/pandas-docs/stable/user_guide/indexing.html#returning-a-view-versus-a-copy\n",
            "  chunk[\"authors\"] = chunk[\"authors\"].apply(\n",
            "<ipython-input-7-e9b7b91fe6d3>:47: SettingWithCopyWarning: \n",
            "A value is trying to be set on a copy of a slice from a DataFrame.\n",
            "Try using .loc[row_indexer,col_indexer] = value instead\n",
            "\n",
            "See the caveats in the documentation: https://pandas.pydata.org/pandas-docs/stable/user_guide/indexing.html#returning-a-view-versus-a-copy\n",
            "  chunk[\"is_english\"] = chunk.apply(\n"
          ]
        },
        {
          "output_type": "stream",
          "name": "stdout",
          "text": [
            "Processing chunk 23: 1567185 rows\n"
          ]
        },
        {
          "output_type": "stream",
          "name": "stderr",
          "text": [
            "<ipython-input-7-e9b7b91fe6d3>:26: SettingWithCopyWarning: \n",
            "A value is trying to be set on a copy of a slice from a DataFrame.\n",
            "Try using .loc[row_indexer,col_indexer] = value instead\n",
            "\n",
            "See the caveats in the documentation: https://pandas.pydata.org/pandas-docs/stable/user_guide/indexing.html#returning-a-view-versus-a-copy\n",
            "  chunk[\"popular_shelves\"] = chunk[\"popular_shelves\"].apply(\n",
            "<ipython-input-7-e9b7b91fe6d3>:28: SettingWithCopyWarning: \n",
            "A value is trying to be set on a copy of a slice from a DataFrame.\n",
            "Try using .loc[row_indexer,col_indexer] = value instead\n",
            "\n",
            "See the caveats in the documentation: https://pandas.pydata.org/pandas-docs/stable/user_guide/indexing.html#returning-a-view-versus-a-copy\n",
            "  chunk[\"authors\"] = chunk[\"authors\"].apply(\n",
            "<ipython-input-7-e9b7b91fe6d3>:47: SettingWithCopyWarning: \n",
            "A value is trying to be set on a copy of a slice from a DataFrame.\n",
            "Try using .loc[row_indexer,col_indexer] = value instead\n",
            "\n",
            "See the caveats in the documentation: https://pandas.pydata.org/pandas-docs/stable/user_guide/indexing.html#returning-a-view-versus-a-copy\n",
            "  chunk[\"is_english\"] = chunk.apply(\n"
          ]
        },
        {
          "output_type": "execute_result",
          "data": {
            "text/plain": [
              "'\\n# Merge all filtered chunks\\ndf = pd.read_parquet(output_file)\\n\\n# Display the first few rows\\ndisplay(df.head())\\n'"
            ],
            "application/vnd.google.colaboratory.intrinsic+json": {
              "type": "string"
            }
          },
          "metadata": {},
          "execution_count": 7
        }
      ]
    },
    {
      "cell_type": "markdown",
      "source": [
        "### Type casting"
      ],
      "metadata": {
        "id": "e_lDj8W8jkLI"
      }
    },
    {
      "cell_type": "code",
      "source": [
        "import dask.dataframe as dd\n",
        "\n",
        "df = dd.read_parquet(\"/content/drive/MyDrive/Book item-item/filtered_books.parquet\")\n",
        "df_pandas = df.compute()"
      ],
      "metadata": {
        "id": "Asz115xPD11m"
      },
      "execution_count": 3,
      "outputs": []
    },
    {
      "cell_type": "code",
      "source": [
        "df_pandas.info()"
      ],
      "metadata": {
        "colab": {
          "base_uri": "https://localhost:8080/"
        },
        "id": "21bUJ1UfFGw4",
        "outputId": "f7db8df1-adaa-43ae-f8bc-3cc0821ea408"
      },
      "execution_count": null,
      "outputs": [
        {
          "output_type": "stream",
          "name": "stdout",
          "text": [
            "<class 'pandas.core.frame.DataFrame'>\n",
            "Index: 1608327 entries, 1 to 2360654\n",
            "Data columns (total 9 columns):\n",
            " #   Column                Non-Null Count    Dtype \n",
            "---  ------                --------------    ----- \n",
            " 0   title_without_series  1608327 non-null  string\n",
            " 1   authors               1608327 non-null  object\n",
            " 2   average_rating        1608327 non-null  string\n",
            " 3   ratings_count         1608327 non-null  string\n",
            " 4   book_id               1608327 non-null  int64 \n",
            " 5   popular_shelves       1608327 non-null  object\n",
            " 6   similar_books         1608327 non-null  object\n",
            " 7   language_code         1608327 non-null  string\n",
            " 8   description           1608327 non-null  string\n",
            "dtypes: int64(1), object(3), string(5)\n",
            "memory usage: 1.3+ GB\n"
          ]
        }
      ]
    },
    {
      "cell_type": "markdown",
      "source": [
        "Average rating and ratings count should be of int type but it is string"
      ],
      "metadata": {
        "id": "2sFoXmk2Kejh"
      }
    },
    {
      "cell_type": "code",
      "source": [
        "# Clean and ensure correct numeric types for 'ratings_count' and 'average_rating' columns,\n",
        "# handling invalid entries appropriately\n",
        "\n",
        "# Convert 'ratings_count' to numeric; invalid parsing results will be set to NaN\n",
        "df_pandas[\"ratings_count\"] = pd.to_numeric(df_pandas['ratings_count'], errors=\"coerce\")\n",
        "\n",
        "# Drop rows where 'ratings_count' is missing (NaN) after conversion\n",
        "df_pandas = df_pandas.dropna(subset=[\"ratings_count\"])\n",
        "\n",
        "\n",
        "# Convert cleaned 'ratings_count' to integer type\n",
        "df_pandas[\"ratings_count\"] = df_pandas[\"ratings_count\"].astype(int)\n",
        "\n",
        "\n",
        "# Convert 'average_rating' to numeric; invalid entries will be set to NaN\n",
        "df_pandas[\"average_rating\"] = pd.to_numeric(df_pandas[\"average_rating\"], errors='coerce')"
      ],
      "metadata": {
        "colab": {
          "base_uri": "https://localhost:8080/"
        },
        "id": "ZG12-w9GHxbh",
        "outputId": "d6c35965-9fb0-4f64-e378-213890b61de5"
      },
      "execution_count": null,
      "outputs": [
        {
          "output_type": "stream",
          "name": "stderr",
          "text": [
            "<ipython-input-5-ae889c11fe39>:12: SettingWithCopyWarning: \n",
            "A value is trying to be set on a copy of a slice from a DataFrame.\n",
            "Try using .loc[row_indexer,col_indexer] = value instead\n",
            "\n",
            "See the caveats in the documentation: https://pandas.pydata.org/pandas-docs/stable/user_guide/indexing.html#returning-a-view-versus-a-copy\n",
            "  df_pandas[\"ratings_count\"] = df_pandas[\"ratings_count\"].astype(int)\n"
          ]
        }
      ]
    },
    {
      "cell_type": "code",
      "source": [
        "df_pandas.info()"
      ],
      "metadata": {
        "colab": {
          "base_uri": "https://localhost:8080/"
        },
        "id": "j_LWVOUnOU44",
        "outputId": "a28caaae-afd8-4f77-b268-adb4aa8bfae0"
      },
      "execution_count": null,
      "outputs": [
        {
          "output_type": "stream",
          "name": "stdout",
          "text": [
            "<class 'pandas.core.frame.DataFrame'>\n",
            "Index: 1608029 entries, 1 to 2360654\n",
            "Data columns (total 9 columns):\n",
            " #   Column                Non-Null Count    Dtype  \n",
            "---  ------                --------------    -----  \n",
            " 0   title_without_series  1608029 non-null  string \n",
            " 1   authors               1608029 non-null  object \n",
            " 2   average_rating        1608029 non-null  Float64\n",
            " 3   ratings_count         1608029 non-null  int64  \n",
            " 4   book_id               1608029 non-null  int64  \n",
            " 5   popular_shelves       1608029 non-null  object \n",
            " 6   similar_books         1608029 non-null  object \n",
            " 7   language_code         1608029 non-null  string \n",
            " 8   description           1608029 non-null  string \n",
            "dtypes: Float64(1), int64(2), object(3), string(3)\n",
            "memory usage: 1.3+ GB\n"
          ]
        }
      ]
    },
    {
      "cell_type": "code",
      "source": [
        "df_pandas.head()"
      ],
      "metadata": {
        "colab": {
          "base_uri": "https://localhost:8080/",
          "height": 487
        },
        "id": "u7cAIBrkFMaz",
        "outputId": "938c89e6-300a-401d-8fa7-c74155c21760"
      },
      "execution_count": null,
      "outputs": [
        {
          "output_type": "execute_result",
          "data": {
            "text/plain": [
              "                                title_without_series    authors  \\\n",
              "1                                        Good Harbor   [626222]   \n",
              "2  The Unschooled Wizard (Sun Wolf and Starhawk, ...    [10333]   \n",
              "3                               Best Friends Forever     [9212]   \n",
              "4  Runic Astrology: Starcraft and Timekeeping in ...   [149918]   \n",
              "5                      The Aeneid for Boys and Girls  [3041852]   \n",
              "\n",
              "   average_rating  ratings_count  book_id  \\\n",
              "1            3.23             10  1333909   \n",
              "2            4.03            140  7327624   \n",
              "3            3.49          51184  6066819   \n",
              "4             3.4             15   287140   \n",
              "5            4.13             46   287141   \n",
              "\n",
              "                                     popular_shelves  \\\n",
              "1  [to-read, fiction, currently-reading, contempo...   \n",
              "2  [to-read, fantasy, fiction, owned, hardcover, ...   \n",
              "3  [to-read, chick-lit, currently-reading, fictio...   \n",
              "4  [to-read, runes, owned, nonfiction, kill-it-wi...   \n",
              "5  [to-read, currently-reading, history, classics...   \n",
              "\n",
              "                                       similar_books language_code  \\\n",
              "1  [8709549, 17074050, 28937, 158816, 228563, 112...                 \n",
              "2  [19997, 828466, 1569323, 425389, 1176674, 2627...           eng   \n",
              "3  [6604176, 6054190, 2285777, 82641, 7569453, 70...           eng   \n",
              "4                                                 []                 \n",
              "5                                                 []                 \n",
              "\n",
              "                                         description  \n",
              "1  Anita Diamant's international bestseller \"The ...  \n",
              "2  Omnibus book club edition containing the Ladie...  \n",
              "3  Addie Downs and Valerie Adler were eight when ...  \n",
              "4                                                     \n",
              "5  Relates in vigorous prose the tale of Aeneas, ...  "
            ],
            "text/html": [
              "\n",
              "  <div id=\"df-02b445aa-7b02-48e1-ad2f-b18879918804\" class=\"colab-df-container\">\n",
              "    <div>\n",
              "<style scoped>\n",
              "    .dataframe tbody tr th:only-of-type {\n",
              "        vertical-align: middle;\n",
              "    }\n",
              "\n",
              "    .dataframe tbody tr th {\n",
              "        vertical-align: top;\n",
              "    }\n",
              "\n",
              "    .dataframe thead th {\n",
              "        text-align: right;\n",
              "    }\n",
              "</style>\n",
              "<table border=\"1\" class=\"dataframe\">\n",
              "  <thead>\n",
              "    <tr style=\"text-align: right;\">\n",
              "      <th></th>\n",
              "      <th>title_without_series</th>\n",
              "      <th>authors</th>\n",
              "      <th>average_rating</th>\n",
              "      <th>ratings_count</th>\n",
              "      <th>book_id</th>\n",
              "      <th>popular_shelves</th>\n",
              "      <th>similar_books</th>\n",
              "      <th>language_code</th>\n",
              "      <th>description</th>\n",
              "    </tr>\n",
              "  </thead>\n",
              "  <tbody>\n",
              "    <tr>\n",
              "      <th>1</th>\n",
              "      <td>Good Harbor</td>\n",
              "      <td>[626222]</td>\n",
              "      <td>3.23</td>\n",
              "      <td>10</td>\n",
              "      <td>1333909</td>\n",
              "      <td>[to-read, fiction, currently-reading, contempo...</td>\n",
              "      <td>[8709549, 17074050, 28937, 158816, 228563, 112...</td>\n",
              "      <td></td>\n",
              "      <td>Anita Diamant's international bestseller \"The ...</td>\n",
              "    </tr>\n",
              "    <tr>\n",
              "      <th>2</th>\n",
              "      <td>The Unschooled Wizard (Sun Wolf and Starhawk, ...</td>\n",
              "      <td>[10333]</td>\n",
              "      <td>4.03</td>\n",
              "      <td>140</td>\n",
              "      <td>7327624</td>\n",
              "      <td>[to-read, fantasy, fiction, owned, hardcover, ...</td>\n",
              "      <td>[19997, 828466, 1569323, 425389, 1176674, 2627...</td>\n",
              "      <td>eng</td>\n",
              "      <td>Omnibus book club edition containing the Ladie...</td>\n",
              "    </tr>\n",
              "    <tr>\n",
              "      <th>3</th>\n",
              "      <td>Best Friends Forever</td>\n",
              "      <td>[9212]</td>\n",
              "      <td>3.49</td>\n",
              "      <td>51184</td>\n",
              "      <td>6066819</td>\n",
              "      <td>[to-read, chick-lit, currently-reading, fictio...</td>\n",
              "      <td>[6604176, 6054190, 2285777, 82641, 7569453, 70...</td>\n",
              "      <td>eng</td>\n",
              "      <td>Addie Downs and Valerie Adler were eight when ...</td>\n",
              "    </tr>\n",
              "    <tr>\n",
              "      <th>4</th>\n",
              "      <td>Runic Astrology: Starcraft and Timekeeping in ...</td>\n",
              "      <td>[149918]</td>\n",
              "      <td>3.4</td>\n",
              "      <td>15</td>\n",
              "      <td>287140</td>\n",
              "      <td>[to-read, runes, owned, nonfiction, kill-it-wi...</td>\n",
              "      <td>[]</td>\n",
              "      <td></td>\n",
              "      <td></td>\n",
              "    </tr>\n",
              "    <tr>\n",
              "      <th>5</th>\n",
              "      <td>The Aeneid for Boys and Girls</td>\n",
              "      <td>[3041852]</td>\n",
              "      <td>4.13</td>\n",
              "      <td>46</td>\n",
              "      <td>287141</td>\n",
              "      <td>[to-read, currently-reading, history, classics...</td>\n",
              "      <td>[]</td>\n",
              "      <td></td>\n",
              "      <td>Relates in vigorous prose the tale of Aeneas, ...</td>\n",
              "    </tr>\n",
              "  </tbody>\n",
              "</table>\n",
              "</div>\n",
              "    <div class=\"colab-df-buttons\">\n",
              "\n",
              "  <div class=\"colab-df-container\">\n",
              "    <button class=\"colab-df-convert\" onclick=\"convertToInteractive('df-02b445aa-7b02-48e1-ad2f-b18879918804')\"\n",
              "            title=\"Convert this dataframe to an interactive table.\"\n",
              "            style=\"display:none;\">\n",
              "\n",
              "  <svg xmlns=\"http://www.w3.org/2000/svg\" height=\"24px\" viewBox=\"0 -960 960 960\">\n",
              "    <path d=\"M120-120v-720h720v720H120Zm60-500h600v-160H180v160Zm220 220h160v-160H400v160Zm0 220h160v-160H400v160ZM180-400h160v-160H180v160Zm440 0h160v-160H620v160ZM180-180h160v-160H180v160Zm440 0h160v-160H620v160Z\"/>\n",
              "  </svg>\n",
              "    </button>\n",
              "\n",
              "  <style>\n",
              "    .colab-df-container {\n",
              "      display:flex;\n",
              "      gap: 12px;\n",
              "    }\n",
              "\n",
              "    .colab-df-convert {\n",
              "      background-color: #E8F0FE;\n",
              "      border: none;\n",
              "      border-radius: 50%;\n",
              "      cursor: pointer;\n",
              "      display: none;\n",
              "      fill: #1967D2;\n",
              "      height: 32px;\n",
              "      padding: 0 0 0 0;\n",
              "      width: 32px;\n",
              "    }\n",
              "\n",
              "    .colab-df-convert:hover {\n",
              "      background-color: #E2EBFA;\n",
              "      box-shadow: 0px 1px 2px rgba(60, 64, 67, 0.3), 0px 1px 3px 1px rgba(60, 64, 67, 0.15);\n",
              "      fill: #174EA6;\n",
              "    }\n",
              "\n",
              "    .colab-df-buttons div {\n",
              "      margin-bottom: 4px;\n",
              "    }\n",
              "\n",
              "    [theme=dark] .colab-df-convert {\n",
              "      background-color: #3B4455;\n",
              "      fill: #D2E3FC;\n",
              "    }\n",
              "\n",
              "    [theme=dark] .colab-df-convert:hover {\n",
              "      background-color: #434B5C;\n",
              "      box-shadow: 0px 1px 3px 1px rgba(0, 0, 0, 0.15);\n",
              "      filter: drop-shadow(0px 1px 2px rgba(0, 0, 0, 0.3));\n",
              "      fill: #FFFFFF;\n",
              "    }\n",
              "  </style>\n",
              "\n",
              "    <script>\n",
              "      const buttonEl =\n",
              "        document.querySelector('#df-02b445aa-7b02-48e1-ad2f-b18879918804 button.colab-df-convert');\n",
              "      buttonEl.style.display =\n",
              "        google.colab.kernel.accessAllowed ? 'block' : 'none';\n",
              "\n",
              "      async function convertToInteractive(key) {\n",
              "        const element = document.querySelector('#df-02b445aa-7b02-48e1-ad2f-b18879918804');\n",
              "        const dataTable =\n",
              "          await google.colab.kernel.invokeFunction('convertToInteractive',\n",
              "                                                    [key], {});\n",
              "        if (!dataTable) return;\n",
              "\n",
              "        const docLinkHtml = 'Like what you see? Visit the ' +\n",
              "          '<a target=\"_blank\" href=https://colab.research.google.com/notebooks/data_table.ipynb>data table notebook</a>'\n",
              "          + ' to learn more about interactive tables.';\n",
              "        element.innerHTML = '';\n",
              "        dataTable['output_type'] = 'display_data';\n",
              "        await google.colab.output.renderOutput(dataTable, element);\n",
              "        const docLink = document.createElement('div');\n",
              "        docLink.innerHTML = docLinkHtml;\n",
              "        element.appendChild(docLink);\n",
              "      }\n",
              "    </script>\n",
              "  </div>\n",
              "\n",
              "\n",
              "<div id=\"df-ccf377b0-1acb-412a-999f-31775faf2f1a\">\n",
              "  <button class=\"colab-df-quickchart\" onclick=\"quickchart('df-ccf377b0-1acb-412a-999f-31775faf2f1a')\"\n",
              "            title=\"Suggest charts\"\n",
              "            style=\"display:none;\">\n",
              "\n",
              "<svg xmlns=\"http://www.w3.org/2000/svg\" height=\"24px\"viewBox=\"0 0 24 24\"\n",
              "     width=\"24px\">\n",
              "    <g>\n",
              "        <path d=\"M19 3H5c-1.1 0-2 .9-2 2v14c0 1.1.9 2 2 2h14c1.1 0 2-.9 2-2V5c0-1.1-.9-2-2-2zM9 17H7v-7h2v7zm4 0h-2V7h2v10zm4 0h-2v-4h2v4z\"/>\n",
              "    </g>\n",
              "</svg>\n",
              "  </button>\n",
              "\n",
              "<style>\n",
              "  .colab-df-quickchart {\n",
              "      --bg-color: #E8F0FE;\n",
              "      --fill-color: #1967D2;\n",
              "      --hover-bg-color: #E2EBFA;\n",
              "      --hover-fill-color: #174EA6;\n",
              "      --disabled-fill-color: #AAA;\n",
              "      --disabled-bg-color: #DDD;\n",
              "  }\n",
              "\n",
              "  [theme=dark] .colab-df-quickchart {\n",
              "      --bg-color: #3B4455;\n",
              "      --fill-color: #D2E3FC;\n",
              "      --hover-bg-color: #434B5C;\n",
              "      --hover-fill-color: #FFFFFF;\n",
              "      --disabled-bg-color: #3B4455;\n",
              "      --disabled-fill-color: #666;\n",
              "  }\n",
              "\n",
              "  .colab-df-quickchart {\n",
              "    background-color: var(--bg-color);\n",
              "    border: none;\n",
              "    border-radius: 50%;\n",
              "    cursor: pointer;\n",
              "    display: none;\n",
              "    fill: var(--fill-color);\n",
              "    height: 32px;\n",
              "    padding: 0;\n",
              "    width: 32px;\n",
              "  }\n",
              "\n",
              "  .colab-df-quickchart:hover {\n",
              "    background-color: var(--hover-bg-color);\n",
              "    box-shadow: 0 1px 2px rgba(60, 64, 67, 0.3), 0 1px 3px 1px rgba(60, 64, 67, 0.15);\n",
              "    fill: var(--button-hover-fill-color);\n",
              "  }\n",
              "\n",
              "  .colab-df-quickchart-complete:disabled,\n",
              "  .colab-df-quickchart-complete:disabled:hover {\n",
              "    background-color: var(--disabled-bg-color);\n",
              "    fill: var(--disabled-fill-color);\n",
              "    box-shadow: none;\n",
              "  }\n",
              "\n",
              "  .colab-df-spinner {\n",
              "    border: 2px solid var(--fill-color);\n",
              "    border-color: transparent;\n",
              "    border-bottom-color: var(--fill-color);\n",
              "    animation:\n",
              "      spin 1s steps(1) infinite;\n",
              "  }\n",
              "\n",
              "  @keyframes spin {\n",
              "    0% {\n",
              "      border-color: transparent;\n",
              "      border-bottom-color: var(--fill-color);\n",
              "      border-left-color: var(--fill-color);\n",
              "    }\n",
              "    20% {\n",
              "      border-color: transparent;\n",
              "      border-left-color: var(--fill-color);\n",
              "      border-top-color: var(--fill-color);\n",
              "    }\n",
              "    30% {\n",
              "      border-color: transparent;\n",
              "      border-left-color: var(--fill-color);\n",
              "      border-top-color: var(--fill-color);\n",
              "      border-right-color: var(--fill-color);\n",
              "    }\n",
              "    40% {\n",
              "      border-color: transparent;\n",
              "      border-right-color: var(--fill-color);\n",
              "      border-top-color: var(--fill-color);\n",
              "    }\n",
              "    60% {\n",
              "      border-color: transparent;\n",
              "      border-right-color: var(--fill-color);\n",
              "    }\n",
              "    80% {\n",
              "      border-color: transparent;\n",
              "      border-right-color: var(--fill-color);\n",
              "      border-bottom-color: var(--fill-color);\n",
              "    }\n",
              "    90% {\n",
              "      border-color: transparent;\n",
              "      border-bottom-color: var(--fill-color);\n",
              "    }\n",
              "  }\n",
              "</style>\n",
              "\n",
              "  <script>\n",
              "    async function quickchart(key) {\n",
              "      const quickchartButtonEl =\n",
              "        document.querySelector('#' + key + ' button');\n",
              "      quickchartButtonEl.disabled = true;  // To prevent multiple clicks.\n",
              "      quickchartButtonEl.classList.add('colab-df-spinner');\n",
              "      try {\n",
              "        const charts = await google.colab.kernel.invokeFunction(\n",
              "            'suggestCharts', [key], {});\n",
              "      } catch (error) {\n",
              "        console.error('Error during call to suggestCharts:', error);\n",
              "      }\n",
              "      quickchartButtonEl.classList.remove('colab-df-spinner');\n",
              "      quickchartButtonEl.classList.add('colab-df-quickchart-complete');\n",
              "    }\n",
              "    (() => {\n",
              "      let quickchartButtonEl =\n",
              "        document.querySelector('#df-ccf377b0-1acb-412a-999f-31775faf2f1a button');\n",
              "      quickchartButtonEl.style.display =\n",
              "        google.colab.kernel.accessAllowed ? 'block' : 'none';\n",
              "    })();\n",
              "  </script>\n",
              "</div>\n",
              "\n",
              "    </div>\n",
              "  </div>\n"
            ],
            "application/vnd.google.colaboratory.intrinsic+json": {
              "type": "dataframe",
              "variable_name": "df_pandas"
            }
          },
          "metadata": {},
          "execution_count": 22
        }
      ]
    },
    {
      "cell_type": "markdown",
      "source": [
        "###Removing Duplicates"
      ],
      "metadata": {
        "id": "Eo2kcA2iLALS"
      }
    },
    {
      "cell_type": "code",
      "source": [
        "df_pandas.sort_values(by = [\"title_without_series\", \"ratings_count\"], ascending=[True, False])"
      ],
      "metadata": {
        "colab": {
          "base_uri": "https://localhost:8080/",
          "height": 895
        },
        "id": "cMaEAZBQFb_s",
        "outputId": "0c02c8c3-60b5-4a0d-b867-a244f00af9bb"
      },
      "execution_count": null,
      "outputs": [
        {
          "output_type": "execute_result",
          "data": {
            "text/plain": [
              "                                      title_without_series  \\\n",
              "1234524                                                      \n",
              "1868376                                                      \n",
              "1666811  !Búscalo! (Look It Up!): A Quick Reference Gui...   \n",
              "1131463     !Exacto!: A Practical Guide to Spanish Grammar   \n",
              "1508378    !Feliz Navidad: Celebrating a Mexican Christmas   \n",
              "...                                                    ...   \n",
              "171724           ﻿Ghostdrums (Heroes of Coweta County, #1)   \n",
              "1090611  ＧＥ～グッドエンディング～08 [Guddo Endingu 08](GE: Good En...   \n",
              "63462    ＧＥ～グッドエンディング～09 [Guddo Endingu 09](GE: Good En...   \n",
              "1204572                               ＲＥＶＥＲＳＥ　リバース (集英社文庫)   \n",
              "2157980                              ＳＡＭＵＲＡＩ　ＤＥＥＰＥＲ　ＫＹＯ（１）   \n",
              "\n",
              "                    authors  average_rating  ratings_count   book_id  \\\n",
              "1234524          [15086990]            3.43              7  29522179   \n",
              "1868376             [27075]            3.25              4  25423066   \n",
              "1666811            [663466]            3.78              9   1404770   \n",
              "1131463            [729800]             4.0              3   1570279   \n",
              "1508378           [9508434]             5.0              1  27162594   \n",
              "...                     ...             ...            ...       ...   \n",
              "171724           [15429105]            3.83              6  31840093   \n",
              "1090611           [5592402]            3.91              1  24073276   \n",
              "63462             [5592402]            3.88              1  23809140   \n",
              "1204572   [821900, 4170747]             3.3              3  19074126   \n",
              "2157980  [198197, 10798693]            3.84              2  23829170   \n",
              "\n",
              "                                           popular_shelves  \\\n",
              "1234524  [poetry, to-read, favorites, by-its-cover, fem...   \n",
              "1868376  [short-stories, fantasy-fairytales, book-books...   \n",
              "1666811  [to-read, reference, default, my-books, lingui...   \n",
              "1131463  [to-read, to-read-archive, books-to-buy, torra...   \n",
              "1508378  [to-read, religion, history, favorites, cultur...   \n",
              "...                                                    ...   \n",
              "171724   [to-read, series-not-to-be-continued, read-201...   \n",
              "1090611  [manga, to-read, romance, manga-romance, favor...   \n",
              "63462    [manga, to-read, romance, manga-romance, favor...   \n",
              "1204572                     [to-read, japanese-to-chinese]   \n",
              "2157980  [to-read, manga, currently-reading, fantasy, m...   \n",
              "\n",
              "                                             similar_books language_code  \\\n",
              "1234524                                                 []           eng   \n",
              "1868376                                                 []           eng   \n",
              "1666811                                                 []                 \n",
              "1131463                                                 []                 \n",
              "1508378                                                 []                 \n",
              "...                                                    ...           ...   \n",
              "171724                                                  []                 \n",
              "1090611                                                 []           eng   \n",
              "63462                                                   []           eng   \n",
              "1204572                                                 []           eng   \n",
              "2157980  [2122212, 885737, 2465823, 1048081, 555474, 29...           eng   \n",
              "\n",
              "                                               description  \n",
              "1234524                                                     \n",
              "1868376                                                     \n",
              "1666811  A novel approach--very useful for quick refere...  \n",
              "1131463  The innovative, user-friendly \"Exacto \"is trul...  \n",
              "1508378  \"A study of the celebrations, customs, and pra...  \n",
              "...                                                    ...  \n",
              "171724   Marine Veteran, Marcus Lincoln, returns home a...  \n",
              "1090611  amarinimoZhong i, Hei Chuan (kurokawa)noGuo Qu...  \n",
              "63462    [Hao kininarebaYi Xu niitakunaru] [Yi Xu niita...  \n",
              "1204572  netsutodeChu Hui i, meruJiao Huan dakedeQin sh...  \n",
              "2157980  Guan keYuan noZhan yori4Nian , Qian Ren Zhan r...  \n",
              "\n",
              "[1608029 rows x 9 columns]"
            ],
            "text/html": [
              "\n",
              "  <div id=\"df-c7b65197-d633-4ff5-8d9a-f8c2ad848456\" class=\"colab-df-container\">\n",
              "    <div>\n",
              "<style scoped>\n",
              "    .dataframe tbody tr th:only-of-type {\n",
              "        vertical-align: middle;\n",
              "    }\n",
              "\n",
              "    .dataframe tbody tr th {\n",
              "        vertical-align: top;\n",
              "    }\n",
              "\n",
              "    .dataframe thead th {\n",
              "        text-align: right;\n",
              "    }\n",
              "</style>\n",
              "<table border=\"1\" class=\"dataframe\">\n",
              "  <thead>\n",
              "    <tr style=\"text-align: right;\">\n",
              "      <th></th>\n",
              "      <th>title_without_series</th>\n",
              "      <th>authors</th>\n",
              "      <th>average_rating</th>\n",
              "      <th>ratings_count</th>\n",
              "      <th>book_id</th>\n",
              "      <th>popular_shelves</th>\n",
              "      <th>similar_books</th>\n",
              "      <th>language_code</th>\n",
              "      <th>description</th>\n",
              "    </tr>\n",
              "  </thead>\n",
              "  <tbody>\n",
              "    <tr>\n",
              "      <th>1234524</th>\n",
              "      <td></td>\n",
              "      <td>[15086990]</td>\n",
              "      <td>3.43</td>\n",
              "      <td>7</td>\n",
              "      <td>29522179</td>\n",
              "      <td>[poetry, to-read, favorites, by-its-cover, fem...</td>\n",
              "      <td>[]</td>\n",
              "      <td>eng</td>\n",
              "      <td></td>\n",
              "    </tr>\n",
              "    <tr>\n",
              "      <th>1868376</th>\n",
              "      <td></td>\n",
              "      <td>[27075]</td>\n",
              "      <td>3.25</td>\n",
              "      <td>4</td>\n",
              "      <td>25423066</td>\n",
              "      <td>[short-stories, fantasy-fairytales, book-books...</td>\n",
              "      <td>[]</td>\n",
              "      <td>eng</td>\n",
              "      <td></td>\n",
              "    </tr>\n",
              "    <tr>\n",
              "      <th>1666811</th>\n",
              "      <td>!Búscalo! (Look It Up!): A Quick Reference Gui...</td>\n",
              "      <td>[663466]</td>\n",
              "      <td>3.78</td>\n",
              "      <td>9</td>\n",
              "      <td>1404770</td>\n",
              "      <td>[to-read, reference, default, my-books, lingui...</td>\n",
              "      <td>[]</td>\n",
              "      <td></td>\n",
              "      <td>A novel approach--very useful for quick refere...</td>\n",
              "    </tr>\n",
              "    <tr>\n",
              "      <th>1131463</th>\n",
              "      <td>!Exacto!: A Practical Guide to Spanish Grammar</td>\n",
              "      <td>[729800]</td>\n",
              "      <td>4.0</td>\n",
              "      <td>3</td>\n",
              "      <td>1570279</td>\n",
              "      <td>[to-read, to-read-archive, books-to-buy, torra...</td>\n",
              "      <td>[]</td>\n",
              "      <td></td>\n",
              "      <td>The innovative, user-friendly \"Exacto \"is trul...</td>\n",
              "    </tr>\n",
              "    <tr>\n",
              "      <th>1508378</th>\n",
              "      <td>!Feliz Navidad: Celebrating a Mexican Christmas</td>\n",
              "      <td>[9508434]</td>\n",
              "      <td>5.0</td>\n",
              "      <td>1</td>\n",
              "      <td>27162594</td>\n",
              "      <td>[to-read, religion, history, favorites, cultur...</td>\n",
              "      <td>[]</td>\n",
              "      <td></td>\n",
              "      <td>\"A study of the celebrations, customs, and pra...</td>\n",
              "    </tr>\n",
              "    <tr>\n",
              "      <th>...</th>\n",
              "      <td>...</td>\n",
              "      <td>...</td>\n",
              "      <td>...</td>\n",
              "      <td>...</td>\n",
              "      <td>...</td>\n",
              "      <td>...</td>\n",
              "      <td>...</td>\n",
              "      <td>...</td>\n",
              "      <td>...</td>\n",
              "    </tr>\n",
              "    <tr>\n",
              "      <th>171724</th>\n",
              "      <td>﻿Ghostdrums (Heroes of Coweta County, #1)</td>\n",
              "      <td>[15429105]</td>\n",
              "      <td>3.83</td>\n",
              "      <td>6</td>\n",
              "      <td>31840093</td>\n",
              "      <td>[to-read, series-not-to-be-continued, read-201...</td>\n",
              "      <td>[]</td>\n",
              "      <td></td>\n",
              "      <td>Marine Veteran, Marcus Lincoln, returns home a...</td>\n",
              "    </tr>\n",
              "    <tr>\n",
              "      <th>1090611</th>\n",
              "      <td>ＧＥ～グッドエンディング～08 [Guddo Endingu 08](GE: Good En...</td>\n",
              "      <td>[5592402]</td>\n",
              "      <td>3.91</td>\n",
              "      <td>1</td>\n",
              "      <td>24073276</td>\n",
              "      <td>[manga, to-read, romance, manga-romance, favor...</td>\n",
              "      <td>[]</td>\n",
              "      <td>eng</td>\n",
              "      <td>amarinimoZhong i, Hei Chuan (kurokawa)noGuo Qu...</td>\n",
              "    </tr>\n",
              "    <tr>\n",
              "      <th>63462</th>\n",
              "      <td>ＧＥ～グッドエンディング～09 [Guddo Endingu 09](GE: Good En...</td>\n",
              "      <td>[5592402]</td>\n",
              "      <td>3.88</td>\n",
              "      <td>1</td>\n",
              "      <td>23809140</td>\n",
              "      <td>[manga, to-read, romance, manga-romance, favor...</td>\n",
              "      <td>[]</td>\n",
              "      <td>eng</td>\n",
              "      <td>[Hao kininarebaYi Xu niitakunaru] [Yi Xu niita...</td>\n",
              "    </tr>\n",
              "    <tr>\n",
              "      <th>1204572</th>\n",
              "      <td>ＲＥＶＥＲＳＥ　リバース (集英社文庫)</td>\n",
              "      <td>[821900, 4170747]</td>\n",
              "      <td>3.3</td>\n",
              "      <td>3</td>\n",
              "      <td>19074126</td>\n",
              "      <td>[to-read, japanese-to-chinese]</td>\n",
              "      <td>[]</td>\n",
              "      <td>eng</td>\n",
              "      <td>netsutodeChu Hui i, meruJiao Huan dakedeQin sh...</td>\n",
              "    </tr>\n",
              "    <tr>\n",
              "      <th>2157980</th>\n",
              "      <td>ＳＡＭＵＲＡＩ　ＤＥＥＰＥＲ　ＫＹＯ（１）</td>\n",
              "      <td>[198197, 10798693]</td>\n",
              "      <td>3.84</td>\n",
              "      <td>2</td>\n",
              "      <td>23829170</td>\n",
              "      <td>[to-read, manga, currently-reading, fantasy, m...</td>\n",
              "      <td>[2122212, 885737, 2465823, 1048081, 555474, 29...</td>\n",
              "      <td>eng</td>\n",
              "      <td>Guan keYuan noZhan yori4Nian , Qian Ren Zhan r...</td>\n",
              "    </tr>\n",
              "  </tbody>\n",
              "</table>\n",
              "<p>1608029 rows × 9 columns</p>\n",
              "</div>\n",
              "    <div class=\"colab-df-buttons\">\n",
              "\n",
              "  <div class=\"colab-df-container\">\n",
              "    <button class=\"colab-df-convert\" onclick=\"convertToInteractive('df-c7b65197-d633-4ff5-8d9a-f8c2ad848456')\"\n",
              "            title=\"Convert this dataframe to an interactive table.\"\n",
              "            style=\"display:none;\">\n",
              "\n",
              "  <svg xmlns=\"http://www.w3.org/2000/svg\" height=\"24px\" viewBox=\"0 -960 960 960\">\n",
              "    <path d=\"M120-120v-720h720v720H120Zm60-500h600v-160H180v160Zm220 220h160v-160H400v160Zm0 220h160v-160H400v160ZM180-400h160v-160H180v160Zm440 0h160v-160H620v160ZM180-180h160v-160H180v160Zm440 0h160v-160H620v160Z\"/>\n",
              "  </svg>\n",
              "    </button>\n",
              "\n",
              "  <style>\n",
              "    .colab-df-container {\n",
              "      display:flex;\n",
              "      gap: 12px;\n",
              "    }\n",
              "\n",
              "    .colab-df-convert {\n",
              "      background-color: #E8F0FE;\n",
              "      border: none;\n",
              "      border-radius: 50%;\n",
              "      cursor: pointer;\n",
              "      display: none;\n",
              "      fill: #1967D2;\n",
              "      height: 32px;\n",
              "      padding: 0 0 0 0;\n",
              "      width: 32px;\n",
              "    }\n",
              "\n",
              "    .colab-df-convert:hover {\n",
              "      background-color: #E2EBFA;\n",
              "      box-shadow: 0px 1px 2px rgba(60, 64, 67, 0.3), 0px 1px 3px 1px rgba(60, 64, 67, 0.15);\n",
              "      fill: #174EA6;\n",
              "    }\n",
              "\n",
              "    .colab-df-buttons div {\n",
              "      margin-bottom: 4px;\n",
              "    }\n",
              "\n",
              "    [theme=dark] .colab-df-convert {\n",
              "      background-color: #3B4455;\n",
              "      fill: #D2E3FC;\n",
              "    }\n",
              "\n",
              "    [theme=dark] .colab-df-convert:hover {\n",
              "      background-color: #434B5C;\n",
              "      box-shadow: 0px 1px 3px 1px rgba(0, 0, 0, 0.15);\n",
              "      filter: drop-shadow(0px 1px 2px rgba(0, 0, 0, 0.3));\n",
              "      fill: #FFFFFF;\n",
              "    }\n",
              "  </style>\n",
              "\n",
              "    <script>\n",
              "      const buttonEl =\n",
              "        document.querySelector('#df-c7b65197-d633-4ff5-8d9a-f8c2ad848456 button.colab-df-convert');\n",
              "      buttonEl.style.display =\n",
              "        google.colab.kernel.accessAllowed ? 'block' : 'none';\n",
              "\n",
              "      async function convertToInteractive(key) {\n",
              "        const element = document.querySelector('#df-c7b65197-d633-4ff5-8d9a-f8c2ad848456');\n",
              "        const dataTable =\n",
              "          await google.colab.kernel.invokeFunction('convertToInteractive',\n",
              "                                                    [key], {});\n",
              "        if (!dataTable) return;\n",
              "\n",
              "        const docLinkHtml = 'Like what you see? Visit the ' +\n",
              "          '<a target=\"_blank\" href=https://colab.research.google.com/notebooks/data_table.ipynb>data table notebook</a>'\n",
              "          + ' to learn more about interactive tables.';\n",
              "        element.innerHTML = '';\n",
              "        dataTable['output_type'] = 'display_data';\n",
              "        await google.colab.output.renderOutput(dataTable, element);\n",
              "        const docLink = document.createElement('div');\n",
              "        docLink.innerHTML = docLinkHtml;\n",
              "        element.appendChild(docLink);\n",
              "      }\n",
              "    </script>\n",
              "  </div>\n",
              "\n",
              "\n",
              "    <div id=\"df-88ee5d12-ea48-4927-b9c8-c9fd23969c75\">\n",
              "      <button class=\"colab-df-quickchart\" onclick=\"quickchart('df-88ee5d12-ea48-4927-b9c8-c9fd23969c75')\"\n",
              "                title=\"Suggest charts\"\n",
              "                style=\"display:none;\">\n",
              "\n",
              "<svg xmlns=\"http://www.w3.org/2000/svg\" height=\"24px\"viewBox=\"0 0 24 24\"\n",
              "     width=\"24px\">\n",
              "    <g>\n",
              "        <path d=\"M19 3H5c-1.1 0-2 .9-2 2v14c0 1.1.9 2 2 2h14c1.1 0 2-.9 2-2V5c0-1.1-.9-2-2-2zM9 17H7v-7h2v7zm4 0h-2V7h2v10zm4 0h-2v-4h2v4z\"/>\n",
              "    </g>\n",
              "</svg>\n",
              "      </button>\n",
              "\n",
              "<style>\n",
              "  .colab-df-quickchart {\n",
              "      --bg-color: #E8F0FE;\n",
              "      --fill-color: #1967D2;\n",
              "      --hover-bg-color: #E2EBFA;\n",
              "      --hover-fill-color: #174EA6;\n",
              "      --disabled-fill-color: #AAA;\n",
              "      --disabled-bg-color: #DDD;\n",
              "  }\n",
              "\n",
              "  [theme=dark] .colab-df-quickchart {\n",
              "      --bg-color: #3B4455;\n",
              "      --fill-color: #D2E3FC;\n",
              "      --hover-bg-color: #434B5C;\n",
              "      --hover-fill-color: #FFFFFF;\n",
              "      --disabled-bg-color: #3B4455;\n",
              "      --disabled-fill-color: #666;\n",
              "  }\n",
              "\n",
              "  .colab-df-quickchart {\n",
              "    background-color: var(--bg-color);\n",
              "    border: none;\n",
              "    border-radius: 50%;\n",
              "    cursor: pointer;\n",
              "    display: none;\n",
              "    fill: var(--fill-color);\n",
              "    height: 32px;\n",
              "    padding: 0;\n",
              "    width: 32px;\n",
              "  }\n",
              "\n",
              "  .colab-df-quickchart:hover {\n",
              "    background-color: var(--hover-bg-color);\n",
              "    box-shadow: 0 1px 2px rgba(60, 64, 67, 0.3), 0 1px 3px 1px rgba(60, 64, 67, 0.15);\n",
              "    fill: var(--button-hover-fill-color);\n",
              "  }\n",
              "\n",
              "  .colab-df-quickchart-complete:disabled,\n",
              "  .colab-df-quickchart-complete:disabled:hover {\n",
              "    background-color: var(--disabled-bg-color);\n",
              "    fill: var(--disabled-fill-color);\n",
              "    box-shadow: none;\n",
              "  }\n",
              "\n",
              "  .colab-df-spinner {\n",
              "    border: 2px solid var(--fill-color);\n",
              "    border-color: transparent;\n",
              "    border-bottom-color: var(--fill-color);\n",
              "    animation:\n",
              "      spin 1s steps(1) infinite;\n",
              "  }\n",
              "\n",
              "  @keyframes spin {\n",
              "    0% {\n",
              "      border-color: transparent;\n",
              "      border-bottom-color: var(--fill-color);\n",
              "      border-left-color: var(--fill-color);\n",
              "    }\n",
              "    20% {\n",
              "      border-color: transparent;\n",
              "      border-left-color: var(--fill-color);\n",
              "      border-top-color: var(--fill-color);\n",
              "    }\n",
              "    30% {\n",
              "      border-color: transparent;\n",
              "      border-left-color: var(--fill-color);\n",
              "      border-top-color: var(--fill-color);\n",
              "      border-right-color: var(--fill-color);\n",
              "    }\n",
              "    40% {\n",
              "      border-color: transparent;\n",
              "      border-right-color: var(--fill-color);\n",
              "      border-top-color: var(--fill-color);\n",
              "    }\n",
              "    60% {\n",
              "      border-color: transparent;\n",
              "      border-right-color: var(--fill-color);\n",
              "    }\n",
              "    80% {\n",
              "      border-color: transparent;\n",
              "      border-right-color: var(--fill-color);\n",
              "      border-bottom-color: var(--fill-color);\n",
              "    }\n",
              "    90% {\n",
              "      border-color: transparent;\n",
              "      border-bottom-color: var(--fill-color);\n",
              "    }\n",
              "  }\n",
              "</style>\n",
              "\n",
              "      <script>\n",
              "        async function quickchart(key) {\n",
              "          const quickchartButtonEl =\n",
              "            document.querySelector('#' + key + ' button');\n",
              "          quickchartButtonEl.disabled = true;  // To prevent multiple clicks.\n",
              "          quickchartButtonEl.classList.add('colab-df-spinner');\n",
              "          try {\n",
              "            const charts = await google.colab.kernel.invokeFunction(\n",
              "                'suggestCharts', [key], {});\n",
              "          } catch (error) {\n",
              "            console.error('Error during call to suggestCharts:', error);\n",
              "          }\n",
              "          quickchartButtonEl.classList.remove('colab-df-spinner');\n",
              "          quickchartButtonEl.classList.add('colab-df-quickchart-complete');\n",
              "        }\n",
              "        (() => {\n",
              "          let quickchartButtonEl =\n",
              "            document.querySelector('#df-88ee5d12-ea48-4927-b9c8-c9fd23969c75 button');\n",
              "          quickchartButtonEl.style.display =\n",
              "            google.colab.kernel.accessAllowed ? 'block' : 'none';\n",
              "        })();\n",
              "      </script>\n",
              "    </div>\n",
              "\n",
              "    </div>\n",
              "  </div>\n"
            ],
            "application/vnd.google.colaboratory.intrinsic+json": {
              "type": "dataframe"
            }
          },
          "metadata": {},
          "execution_count": 7
        }
      ]
    },
    {
      "cell_type": "code",
      "source": [
        "type(df_pandas.loc[1234524, 'title_without_series'])"
      ],
      "metadata": {
        "colab": {
          "base_uri": "https://localhost:8080/"
        },
        "id": "yjZQZ1JtlMmC",
        "outputId": "141bd6b8-0f23-4d14-9316-ef2bb68c38bd"
      },
      "execution_count": null,
      "outputs": [
        {
          "output_type": "execute_result",
          "data": {
            "text/plain": [
              "str"
            ]
          },
          "metadata": {},
          "execution_count": 14
        }
      ]
    },
    {
      "cell_type": "code",
      "source": [
        "# Drop rows where 'title_without_series' is empty or only contains whitespace\n",
        "df_pandas = df_pandas[~(df_pandas[\"title_without_series\"].str.strip() == \"\")]"
      ],
      "metadata": {
        "id": "uvLTicuKm6-M"
      },
      "execution_count": null,
      "outputs": []
    },
    {
      "cell_type": "code",
      "source": [
        "type(df_pandas.loc[39408, \"authors\"])"
      ],
      "metadata": {
        "colab": {
          "base_uri": "https://localhost:8080/"
        },
        "id": "uu2zYNTUWdkg",
        "outputId": "0478a7fd-a67d-45d0-91ca-2b1d6ab2cdfe"
      },
      "execution_count": null,
      "outputs": [
        {
          "output_type": "execute_result",
          "data": {
            "text/plain": [
              "numpy.ndarray"
            ]
          },
          "metadata": {},
          "execution_count": 20
        }
      ]
    },
    {
      "cell_type": "code",
      "source": [
        "# Convert the 'authors' field into a single comma-separated string after sorting author IDs\n",
        "\n",
        "import numpy as np\n",
        "\n",
        "df_pandas[\"authors_str\"] = df_pandas[\"authors\"].apply(\n",
        "    lambda a: \",\".join(map(str, sorted(a))) if isinstance(a, (list, np.ndarray)) else str(a)\n",
        ")\n"
      ],
      "metadata": {
        "id": "haOrPpntW_Vh"
      },
      "execution_count": null,
      "outputs": []
    },
    {
      "cell_type": "code",
      "source": [
        "# Sort the dataset by 'ratings_count' in descending order to prioritize\n",
        "# the most popular entries\n",
        "df_pandas = df_pandas.sort_values(by=\"ratings_count\", ascending=False)\n"
      ],
      "metadata": {
        "id": "lZ_EbpRIXOPC"
      },
      "execution_count": null,
      "outputs": []
    },
    {
      "cell_type": "code",
      "source": [
        "# Remove duplicate books based on 'title_without_series' and 'authors_str',\n",
        "# keeping the most popular version\n",
        "\n",
        "df_pandas = df_pandas.drop_duplicates(subset=[\"title_without_series\", \"authors_str\"], keep=\"first\")\n"
      ],
      "metadata": {
        "id": "p6LvH5lUXhl-"
      },
      "execution_count": null,
      "outputs": []
    },
    {
      "cell_type": "code",
      "source": [
        "df_pandas.info()"
      ],
      "metadata": {
        "colab": {
          "base_uri": "https://localhost:8080/"
        },
        "id": "oWHKTtq6X55p",
        "outputId": "75f1ffd3-ea5a-4b5d-94c7-9a7baaafdf8f"
      },
      "execution_count": null,
      "outputs": [
        {
          "output_type": "stream",
          "name": "stdout",
          "text": [
            "<class 'pandas.core.frame.DataFrame'>\n",
            "Index: 1306737 entries, 511873 to 890768\n",
            "Data columns (total 10 columns):\n",
            " #   Column                Non-Null Count    Dtype  \n",
            "---  ------                --------------    -----  \n",
            " 0   title_without_series  1306737 non-null  string \n",
            " 1   authors               1306737 non-null  object \n",
            " 2   average_rating        1306737 non-null  Float64\n",
            " 3   ratings_count         1306737 non-null  int64  \n",
            " 4   book_id               1306737 non-null  int64  \n",
            " 5   popular_shelves       1306737 non-null  object \n",
            " 6   similar_books         1306737 non-null  object \n",
            " 7   language_code         1306737 non-null  string \n",
            " 8   description           1306737 non-null  string \n",
            " 9   authors_str           1306737 non-null  object \n",
            "dtypes: Float64(1), int64(2), object(4), string(3)\n",
            "memory usage: 1.0+ GB\n"
          ]
        }
      ]
    },
    {
      "cell_type": "code",
      "source": [
        "df_with_language_codes = df_pandas.copy()"
      ],
      "metadata": {
        "id": "zFfsKgDTc816"
      },
      "execution_count": null,
      "outputs": []
    },
    {
      "cell_type": "code",
      "source": [
        "df_pandas[\"language_code\"].value_counts()"
      ],
      "metadata": {
        "colab": {
          "base_uri": "https://localhost:8080/",
          "height": 490
        },
        "id": "uSIxuUekso4O",
        "outputId": "99489c94-96a1-4eb3-cf72-ab9c5d1c4eff"
      },
      "execution_count": null,
      "outputs": [
        {
          "output_type": "execute_result",
          "data": {
            "text/plain": [
              "language_code\n",
              "         608542\n",
              "eng      560619\n",
              "en-US     72241\n",
              "en-GB     44571\n",
              "ind        4748\n",
              "          ...  \n",
              "roa           1\n",
              "vai           1\n",
              "gla           1\n",
              "amh           1\n",
              "ada           1\n",
              "Name: count, Length: 118, dtype: int64[pyarrow]"
            ],
            "text/html": [
              "<div>\n",
              "<style scoped>\n",
              "    .dataframe tbody tr th:only-of-type {\n",
              "        vertical-align: middle;\n",
              "    }\n",
              "\n",
              "    .dataframe tbody tr th {\n",
              "        vertical-align: top;\n",
              "    }\n",
              "\n",
              "    .dataframe thead th {\n",
              "        text-align: right;\n",
              "    }\n",
              "</style>\n",
              "<table border=\"1\" class=\"dataframe\">\n",
              "  <thead>\n",
              "    <tr style=\"text-align: right;\">\n",
              "      <th></th>\n",
              "      <th>count</th>\n",
              "    </tr>\n",
              "    <tr>\n",
              "      <th>language_code</th>\n",
              "      <th></th>\n",
              "    </tr>\n",
              "  </thead>\n",
              "  <tbody>\n",
              "    <tr>\n",
              "      <th></th>\n",
              "      <td>608542</td>\n",
              "    </tr>\n",
              "    <tr>\n",
              "      <th>eng</th>\n",
              "      <td>560619</td>\n",
              "    </tr>\n",
              "    <tr>\n",
              "      <th>en-US</th>\n",
              "      <td>72241</td>\n",
              "    </tr>\n",
              "    <tr>\n",
              "      <th>en-GB</th>\n",
              "      <td>44571</td>\n",
              "    </tr>\n",
              "    <tr>\n",
              "      <th>ind</th>\n",
              "      <td>4748</td>\n",
              "    </tr>\n",
              "    <tr>\n",
              "      <th>...</th>\n",
              "      <td>...</td>\n",
              "    </tr>\n",
              "    <tr>\n",
              "      <th>roa</th>\n",
              "      <td>1</td>\n",
              "    </tr>\n",
              "    <tr>\n",
              "      <th>vai</th>\n",
              "      <td>1</td>\n",
              "    </tr>\n",
              "    <tr>\n",
              "      <th>gla</th>\n",
              "      <td>1</td>\n",
              "    </tr>\n",
              "    <tr>\n",
              "      <th>amh</th>\n",
              "      <td>1</td>\n",
              "    </tr>\n",
              "    <tr>\n",
              "      <th>ada</th>\n",
              "      <td>1</td>\n",
              "    </tr>\n",
              "  </tbody>\n",
              "</table>\n",
              "<p>118 rows × 1 columns</p>\n",
              "</div><br><label><b>dtype:</b> int64[pyarrow]</label>"
            ]
          },
          "metadata": {},
          "execution_count": 27
        }
      ]
    },
    {
      "cell_type": "code",
      "source": [
        "# Filter the dataset to keep only rows where the language is English (based on language_code) or missing/empty\n",
        "\n",
        "valid_languages = [\"eng\", \"en\", \"en-us\", \"en-gb\", \"en-ca\"]\n",
        "\n",
        "df_pandas = df_pandas[\n",
        "    (df_pandas[\"language_code\"].isna())|\n",
        "    (df_pandas[\"language_code\"].str.lower().isin(valid_languages))|\n",
        "    (df_pandas[\"language_code\"].str.strip()==\"\")\n",
        "].copy()\n"
      ],
      "metadata": {
        "id": "PLrMxnfpdTgE"
      },
      "execution_count": null,
      "outputs": []
    },
    {
      "cell_type": "code",
      "source": [
        "df_pandas= df_pandas.drop(columns=[\"authors_str\"])"
      ],
      "metadata": {
        "id": "ANohclUjf76R",
        "colab": {
          "base_uri": "https://localhost:8080/",
          "height": 311
        },
        "outputId": "a0adb583-e62a-4856-b003-ebc0e0165509"
      },
      "execution_count": null,
      "outputs": [
        {
          "output_type": "error",
          "ename": "KeyError",
          "evalue": "\"['authors_str'] not found in axis\"",
          "traceback": [
            "\u001b[0;31m---------------------------------------------------------------------------\u001b[0m",
            "\u001b[0;31mKeyError\u001b[0m                                  Traceback (most recent call last)",
            "\u001b[0;32m<ipython-input-30-4d166ee771e7>\u001b[0m in \u001b[0;36m<cell line: 0>\u001b[0;34m()\u001b[0m\n\u001b[0;32m----> 1\u001b[0;31m \u001b[0mdf_pandas\u001b[0m\u001b[0;34m=\u001b[0m \u001b[0mdf_pandas\u001b[0m\u001b[0;34m.\u001b[0m\u001b[0mdrop\u001b[0m\u001b[0;34m(\u001b[0m\u001b[0mcolumns\u001b[0m\u001b[0;34m=\u001b[0m\u001b[0;34m[\u001b[0m\u001b[0;34m\"authors_str\"\u001b[0m\u001b[0;34m]\u001b[0m\u001b[0;34m)\u001b[0m\u001b[0;34m\u001b[0m\u001b[0;34m\u001b[0m\u001b[0m\n\u001b[0m",
            "\u001b[0;32m/usr/local/lib/python3.11/dist-packages/pandas/core/frame.py\u001b[0m in \u001b[0;36mdrop\u001b[0;34m(self, labels, axis, index, columns, level, inplace, errors)\u001b[0m\n\u001b[1;32m   5579\u001b[0m                 \u001b[0mweight\u001b[0m  \u001b[0;36m1.0\u001b[0m     \u001b[0;36m0.8\u001b[0m\u001b[0;34m\u001b[0m\u001b[0;34m\u001b[0m\u001b[0m\n\u001b[1;32m   5580\u001b[0m         \"\"\"\n\u001b[0;32m-> 5581\u001b[0;31m         return super().drop(\n\u001b[0m\u001b[1;32m   5582\u001b[0m             \u001b[0mlabels\u001b[0m\u001b[0;34m=\u001b[0m\u001b[0mlabels\u001b[0m\u001b[0;34m,\u001b[0m\u001b[0;34m\u001b[0m\u001b[0;34m\u001b[0m\u001b[0m\n\u001b[1;32m   5583\u001b[0m             \u001b[0maxis\u001b[0m\u001b[0;34m=\u001b[0m\u001b[0maxis\u001b[0m\u001b[0;34m,\u001b[0m\u001b[0;34m\u001b[0m\u001b[0;34m\u001b[0m\u001b[0m\n",
            "\u001b[0;32m/usr/local/lib/python3.11/dist-packages/pandas/core/generic.py\u001b[0m in \u001b[0;36mdrop\u001b[0;34m(self, labels, axis, index, columns, level, inplace, errors)\u001b[0m\n\u001b[1;32m   4786\u001b[0m         \u001b[0;32mfor\u001b[0m \u001b[0maxis\u001b[0m\u001b[0;34m,\u001b[0m \u001b[0mlabels\u001b[0m \u001b[0;32min\u001b[0m \u001b[0maxes\u001b[0m\u001b[0;34m.\u001b[0m\u001b[0mitems\u001b[0m\u001b[0;34m(\u001b[0m\u001b[0;34m)\u001b[0m\u001b[0;34m:\u001b[0m\u001b[0;34m\u001b[0m\u001b[0;34m\u001b[0m\u001b[0m\n\u001b[1;32m   4787\u001b[0m             \u001b[0;32mif\u001b[0m \u001b[0mlabels\u001b[0m \u001b[0;32mis\u001b[0m \u001b[0;32mnot\u001b[0m \u001b[0;32mNone\u001b[0m\u001b[0;34m:\u001b[0m\u001b[0;34m\u001b[0m\u001b[0;34m\u001b[0m\u001b[0m\n\u001b[0;32m-> 4788\u001b[0;31m                 \u001b[0mobj\u001b[0m \u001b[0;34m=\u001b[0m \u001b[0mobj\u001b[0m\u001b[0;34m.\u001b[0m\u001b[0m_drop_axis\u001b[0m\u001b[0;34m(\u001b[0m\u001b[0mlabels\u001b[0m\u001b[0;34m,\u001b[0m \u001b[0maxis\u001b[0m\u001b[0;34m,\u001b[0m \u001b[0mlevel\u001b[0m\u001b[0;34m=\u001b[0m\u001b[0mlevel\u001b[0m\u001b[0;34m,\u001b[0m \u001b[0merrors\u001b[0m\u001b[0;34m=\u001b[0m\u001b[0merrors\u001b[0m\u001b[0;34m)\u001b[0m\u001b[0;34m\u001b[0m\u001b[0;34m\u001b[0m\u001b[0m\n\u001b[0m\u001b[1;32m   4789\u001b[0m \u001b[0;34m\u001b[0m\u001b[0m\n\u001b[1;32m   4790\u001b[0m         \u001b[0;32mif\u001b[0m \u001b[0minplace\u001b[0m\u001b[0;34m:\u001b[0m\u001b[0;34m\u001b[0m\u001b[0;34m\u001b[0m\u001b[0m\n",
            "\u001b[0;32m/usr/local/lib/python3.11/dist-packages/pandas/core/generic.py\u001b[0m in \u001b[0;36m_drop_axis\u001b[0;34m(self, labels, axis, level, errors, only_slice)\u001b[0m\n\u001b[1;32m   4828\u001b[0m                 \u001b[0mnew_axis\u001b[0m \u001b[0;34m=\u001b[0m \u001b[0maxis\u001b[0m\u001b[0;34m.\u001b[0m\u001b[0mdrop\u001b[0m\u001b[0;34m(\u001b[0m\u001b[0mlabels\u001b[0m\u001b[0;34m,\u001b[0m \u001b[0mlevel\u001b[0m\u001b[0;34m=\u001b[0m\u001b[0mlevel\u001b[0m\u001b[0;34m,\u001b[0m \u001b[0merrors\u001b[0m\u001b[0;34m=\u001b[0m\u001b[0merrors\u001b[0m\u001b[0;34m)\u001b[0m\u001b[0;34m\u001b[0m\u001b[0;34m\u001b[0m\u001b[0m\n\u001b[1;32m   4829\u001b[0m             \u001b[0;32melse\u001b[0m\u001b[0;34m:\u001b[0m\u001b[0;34m\u001b[0m\u001b[0;34m\u001b[0m\u001b[0m\n\u001b[0;32m-> 4830\u001b[0;31m                 \u001b[0mnew_axis\u001b[0m \u001b[0;34m=\u001b[0m \u001b[0maxis\u001b[0m\u001b[0;34m.\u001b[0m\u001b[0mdrop\u001b[0m\u001b[0;34m(\u001b[0m\u001b[0mlabels\u001b[0m\u001b[0;34m,\u001b[0m \u001b[0merrors\u001b[0m\u001b[0;34m=\u001b[0m\u001b[0merrors\u001b[0m\u001b[0;34m)\u001b[0m\u001b[0;34m\u001b[0m\u001b[0;34m\u001b[0m\u001b[0m\n\u001b[0m\u001b[1;32m   4831\u001b[0m             \u001b[0mindexer\u001b[0m \u001b[0;34m=\u001b[0m \u001b[0maxis\u001b[0m\u001b[0;34m.\u001b[0m\u001b[0mget_indexer\u001b[0m\u001b[0;34m(\u001b[0m\u001b[0mnew_axis\u001b[0m\u001b[0;34m)\u001b[0m\u001b[0;34m\u001b[0m\u001b[0;34m\u001b[0m\u001b[0m\n\u001b[1;32m   4832\u001b[0m \u001b[0;34m\u001b[0m\u001b[0m\n",
            "\u001b[0;32m/usr/local/lib/python3.11/dist-packages/pandas/core/indexes/base.py\u001b[0m in \u001b[0;36mdrop\u001b[0;34m(self, labels, errors)\u001b[0m\n\u001b[1;32m   7068\u001b[0m         \u001b[0;32mif\u001b[0m \u001b[0mmask\u001b[0m\u001b[0;34m.\u001b[0m\u001b[0many\u001b[0m\u001b[0;34m(\u001b[0m\u001b[0;34m)\u001b[0m\u001b[0;34m:\u001b[0m\u001b[0;34m\u001b[0m\u001b[0;34m\u001b[0m\u001b[0m\n\u001b[1;32m   7069\u001b[0m             \u001b[0;32mif\u001b[0m \u001b[0merrors\u001b[0m \u001b[0;34m!=\u001b[0m \u001b[0;34m\"ignore\"\u001b[0m\u001b[0;34m:\u001b[0m\u001b[0;34m\u001b[0m\u001b[0;34m\u001b[0m\u001b[0m\n\u001b[0;32m-> 7070\u001b[0;31m                 \u001b[0;32mraise\u001b[0m \u001b[0mKeyError\u001b[0m\u001b[0;34m(\u001b[0m\u001b[0;34mf\"{labels[mask].tolist()} not found in axis\"\u001b[0m\u001b[0;34m)\u001b[0m\u001b[0;34m\u001b[0m\u001b[0;34m\u001b[0m\u001b[0m\n\u001b[0m\u001b[1;32m   7071\u001b[0m             \u001b[0mindexer\u001b[0m \u001b[0;34m=\u001b[0m \u001b[0mindexer\u001b[0m\u001b[0;34m[\u001b[0m\u001b[0;34m~\u001b[0m\u001b[0mmask\u001b[0m\u001b[0;34m]\u001b[0m\u001b[0;34m\u001b[0m\u001b[0;34m\u001b[0m\u001b[0m\n\u001b[1;32m   7072\u001b[0m         \u001b[0;32mreturn\u001b[0m \u001b[0mself\u001b[0m\u001b[0;34m.\u001b[0m\u001b[0mdelete\u001b[0m\u001b[0;34m(\u001b[0m\u001b[0mindexer\u001b[0m\u001b[0;34m)\u001b[0m\u001b[0;34m\u001b[0m\u001b[0;34m\u001b[0m\u001b[0m\n",
            "\u001b[0;31mKeyError\u001b[0m: \"['authors_str'] not found in axis\""
          ]
        }
      ]
    },
    {
      "cell_type": "code",
      "source": [
        "df_pandas.info()"
      ],
      "metadata": {
        "colab": {
          "base_uri": "https://localhost:8080/"
        },
        "id": "GT2DOUPWevXo",
        "outputId": "b59dc892-618e-42ab-e4fa-b75f7369144b"
      },
      "execution_count": null,
      "outputs": [
        {
          "output_type": "stream",
          "name": "stdout",
          "text": [
            "<class 'pandas.core.frame.DataFrame'>\n",
            "Index: 1290089 entries, 511873 to 890768\n",
            "Data columns (total 9 columns):\n",
            " #   Column                Non-Null Count    Dtype  \n",
            "---  ------                --------------    -----  \n",
            " 0   title_without_series  1290089 non-null  string \n",
            " 1   authors               1290089 non-null  object \n",
            " 2   average_rating        1290089 non-null  Float64\n",
            " 3   ratings_count         1290089 non-null  int64  \n",
            " 4   book_id               1290089 non-null  int64  \n",
            " 5   popular_shelves       1290089 non-null  object \n",
            " 6   similar_books         1290089 non-null  object \n",
            " 7   language_code         1290089 non-null  string \n",
            " 8   description           1290089 non-null  string \n",
            "dtypes: Float64(1), int64(2), object(3), string(3)\n",
            "memory usage: 1015.8+ MB\n"
          ]
        }
      ]
    },
    {
      "cell_type": "markdown",
      "source": [
        "### Finding rating cutoff"
      ],
      "metadata": {
        "id": "v4YPUVkeMB6u"
      }
    },
    {
      "cell_type": "code",
      "source": [
        "# Display the count of each unique value in the 'average_rating' column\n",
        "df_pandas[\"average_rating\"].value_counts()"
      ],
      "metadata": {
        "colab": {
          "base_uri": "https://localhost:8080/",
          "height": 490
        },
        "id": "Kq5BkOYCbDeZ",
        "outputId": "ecdc4297-5629-445b-b222-b71f0f360a09"
      },
      "execution_count": null,
      "outputs": [
        {
          "output_type": "execute_result",
          "data": {
            "text/plain": [
              "average_rating\n",
              "4.0     68648\n",
              "5.0     43568\n",
              "3.0     27004\n",
              "4.5     22298\n",
              "3.5     20817\n",
              "        ...  \n",
              "1.28        1\n",
              "1.51        1\n",
              "1.99        1\n",
              "1.34        1\n",
              "1.47        1\n",
              "Name: count, Length: 371, dtype: Int64"
            ],
            "text/html": [
              "<div>\n",
              "<style scoped>\n",
              "    .dataframe tbody tr th:only-of-type {\n",
              "        vertical-align: middle;\n",
              "    }\n",
              "\n",
              "    .dataframe tbody tr th {\n",
              "        vertical-align: top;\n",
              "    }\n",
              "\n",
              "    .dataframe thead th {\n",
              "        text-align: right;\n",
              "    }\n",
              "</style>\n",
              "<table border=\"1\" class=\"dataframe\">\n",
              "  <thead>\n",
              "    <tr style=\"text-align: right;\">\n",
              "      <th></th>\n",
              "      <th>count</th>\n",
              "    </tr>\n",
              "    <tr>\n",
              "      <th>average_rating</th>\n",
              "      <th></th>\n",
              "    </tr>\n",
              "  </thead>\n",
              "  <tbody>\n",
              "    <tr>\n",
              "      <th>4.0</th>\n",
              "      <td>68648</td>\n",
              "    </tr>\n",
              "    <tr>\n",
              "      <th>5.0</th>\n",
              "      <td>43568</td>\n",
              "    </tr>\n",
              "    <tr>\n",
              "      <th>3.0</th>\n",
              "      <td>27004</td>\n",
              "    </tr>\n",
              "    <tr>\n",
              "      <th>4.5</th>\n",
              "      <td>22298</td>\n",
              "    </tr>\n",
              "    <tr>\n",
              "      <th>3.5</th>\n",
              "      <td>20817</td>\n",
              "    </tr>\n",
              "    <tr>\n",
              "      <th>...</th>\n",
              "      <td>...</td>\n",
              "    </tr>\n",
              "    <tr>\n",
              "      <th>1.28</th>\n",
              "      <td>1</td>\n",
              "    </tr>\n",
              "    <tr>\n",
              "      <th>1.51</th>\n",
              "      <td>1</td>\n",
              "    </tr>\n",
              "    <tr>\n",
              "      <th>1.99</th>\n",
              "      <td>1</td>\n",
              "    </tr>\n",
              "    <tr>\n",
              "      <th>1.34</th>\n",
              "      <td>1</td>\n",
              "    </tr>\n",
              "    <tr>\n",
              "      <th>1.47</th>\n",
              "      <td>1</td>\n",
              "    </tr>\n",
              "  </tbody>\n",
              "</table>\n",
              "<p>371 rows × 1 columns</p>\n",
              "</div><br><label><b>dtype:</b> Int64</label>"
            ]
          },
          "metadata": {},
          "execution_count": 32
        }
      ]
    },
    {
      "cell_type": "code",
      "source": [
        "import matplotlib.pyplot as plt\n",
        "import seaborn as sns\n",
        "\n",
        "def histogram_plot(data, column_name):\n",
        "  plt.figure(figsize=(10,6))\n",
        "  sns.histplot(data[column_name], bins=100, binrange=(0, 1000))\n",
        "  plt.xlim(0, 1000)\n",
        "  plt.title(f\"Histogram of {column_name}\")\n",
        "  plt.xlabel(column_name)\n",
        "  plt.ylabel(\"Frequency\")\n",
        "  plt.show()\n"
      ],
      "metadata": {
        "id": "fd0wz-tdhA1L"
      },
      "execution_count": null,
      "outputs": []
    },
    {
      "cell_type": "code",
      "source": [
        "df_pandas[\"ratings_count\"].value_counts()"
      ],
      "metadata": {
        "colab": {
          "base_uri": "https://localhost:8080/",
          "height": 490
        },
        "id": "V_Tc4PKKiBHn",
        "outputId": "cc92c31f-06c4-43a0-9a5d-7b818743f356"
      },
      "execution_count": null,
      "outputs": [
        {
          "output_type": "execute_result",
          "data": {
            "text/plain": [
              "ratings_count\n",
              "1          79258\n",
              "2          63969\n",
              "3          52964\n",
              "4          45205\n",
              "5          39367\n",
              "           ...  \n",
              "1962813        1\n",
              "2023937        1\n",
              "2028299        1\n",
              "2046499        1\n",
              "2078406        1\n",
              "Name: count, Length: 17895, dtype: int64"
            ],
            "text/html": [
              "<div>\n",
              "<style scoped>\n",
              "    .dataframe tbody tr th:only-of-type {\n",
              "        vertical-align: middle;\n",
              "    }\n",
              "\n",
              "    .dataframe tbody tr th {\n",
              "        vertical-align: top;\n",
              "    }\n",
              "\n",
              "    .dataframe thead th {\n",
              "        text-align: right;\n",
              "    }\n",
              "</style>\n",
              "<table border=\"1\" class=\"dataframe\">\n",
              "  <thead>\n",
              "    <tr style=\"text-align: right;\">\n",
              "      <th></th>\n",
              "      <th>count</th>\n",
              "    </tr>\n",
              "    <tr>\n",
              "      <th>ratings_count</th>\n",
              "      <th></th>\n",
              "    </tr>\n",
              "  </thead>\n",
              "  <tbody>\n",
              "    <tr>\n",
              "      <th>1</th>\n",
              "      <td>79258</td>\n",
              "    </tr>\n",
              "    <tr>\n",
              "      <th>2</th>\n",
              "      <td>63969</td>\n",
              "    </tr>\n",
              "    <tr>\n",
              "      <th>3</th>\n",
              "      <td>52964</td>\n",
              "    </tr>\n",
              "    <tr>\n",
              "      <th>4</th>\n",
              "      <td>45205</td>\n",
              "    </tr>\n",
              "    <tr>\n",
              "      <th>5</th>\n",
              "      <td>39367</td>\n",
              "    </tr>\n",
              "    <tr>\n",
              "      <th>...</th>\n",
              "      <td>...</td>\n",
              "    </tr>\n",
              "    <tr>\n",
              "      <th>1962813</th>\n",
              "      <td>1</td>\n",
              "    </tr>\n",
              "    <tr>\n",
              "      <th>2023937</th>\n",
              "      <td>1</td>\n",
              "    </tr>\n",
              "    <tr>\n",
              "      <th>2028299</th>\n",
              "      <td>1</td>\n",
              "    </tr>\n",
              "    <tr>\n",
              "      <th>2046499</th>\n",
              "      <td>1</td>\n",
              "    </tr>\n",
              "    <tr>\n",
              "      <th>2078406</th>\n",
              "      <td>1</td>\n",
              "    </tr>\n",
              "  </tbody>\n",
              "</table>\n",
              "<p>17895 rows × 1 columns</p>\n",
              "</div><br><label><b>dtype:</b> int64</label>"
            ]
          },
          "metadata": {},
          "execution_count": 34
        }
      ]
    },
    {
      "cell_type": "code",
      "source": [
        "histogram_plot(df_pandas, \"ratings_count\")"
      ],
      "metadata": {
        "colab": {
          "base_uri": "https://localhost:8080/",
          "height": 438
        },
        "id": "bsh_Ne7ZhAxR",
        "outputId": "7605cfe9-f7e5-4b81-ddfc-4694aa76c594"
      },
      "execution_count": null,
      "outputs": [
        {
          "output_type": "display_data",
          "data": {
            "text/plain": [
              "<Figure size 1000x600 with 1 Axes>"
            ],
            "image/png": "[encoded data removed]"
          },
          "metadata": {}
        }
      ]
    },
    {
      "cell_type": "markdown",
      "source": [
        "A histogram of ratings_count reveals a highly skewed distribution, where most books have received fewer than 50-60 ratings. The data is heavily concentrated in the lower end, with a long tail representing a small number of highly rated books."
      ],
      "metadata": {
        "id": "Y0hej62TSG1M"
      }
    },
    {
      "cell_type": "code",
      "source": [
        "# Calculate and display key quantiles\n",
        "# (25th, 50th, 75th, 90th, and 95th percentiles) for the 'ratings_count' column\n",
        "\n",
        "df_pandas[\"ratings_count\"].quantile([0.25, 0.5, 0.75, 0.9, 0.95])\n"
      ],
      "metadata": {
        "colab": {
          "base_uri": "https://localhost:8080/",
          "height": 241
        },
        "id": "GqNPn4rwhAto",
        "outputId": "ccd4e392-747a-4001-e200-5b29792a20f3"
      },
      "execution_count": null,
      "outputs": [
        {
          "output_type": "execute_result",
          "data": {
            "text/plain": [
              "0.25       7.0\n",
              "0.50      25.0\n",
              "0.75     104.0\n",
              "0.90     444.0\n",
              "0.95    1173.0\n",
              "Name: ratings_count, dtype: float64"
            ],
            "text/html": [
              "<div>\n",
              "<style scoped>\n",
              "    .dataframe tbody tr th:only-of-type {\n",
              "        vertical-align: middle;\n",
              "    }\n",
              "\n",
              "    .dataframe tbody tr th {\n",
              "        vertical-align: top;\n",
              "    }\n",
              "\n",
              "    .dataframe thead th {\n",
              "        text-align: right;\n",
              "    }\n",
              "</style>\n",
              "<table border=\"1\" class=\"dataframe\">\n",
              "  <thead>\n",
              "    <tr style=\"text-align: right;\">\n",
              "      <th></th>\n",
              "      <th>ratings_count</th>\n",
              "    </tr>\n",
              "  </thead>\n",
              "  <tbody>\n",
              "    <tr>\n",
              "      <th>0.25</th>\n",
              "      <td>7.0</td>\n",
              "    </tr>\n",
              "    <tr>\n",
              "      <th>0.50</th>\n",
              "      <td>25.0</td>\n",
              "    </tr>\n",
              "    <tr>\n",
              "      <th>0.75</th>\n",
              "      <td>104.0</td>\n",
              "    </tr>\n",
              "    <tr>\n",
              "      <th>0.90</th>\n",
              "      <td>444.0</td>\n",
              "    </tr>\n",
              "    <tr>\n",
              "      <th>0.95</th>\n",
              "      <td>1173.0</td>\n",
              "    </tr>\n",
              "  </tbody>\n",
              "</table>\n",
              "</div><br><label><b>dtype:</b> float64</label>"
            ]
          },
          "metadata": {},
          "execution_count": 80
        }
      ]
    },
    {
      "cell_type": "code",
      "source": [
        "((df_pandas[\"ratings_count\"] > 100) & (df_pandas[\"average_rating\"]>3.0)).sum()"
      ],
      "metadata": {
        "colab": {
          "base_uri": "https://localhost:8080/"
        },
        "id": "1S_xrWzIhAqO",
        "outputId": "ae0233e1-b2d3-49ca-d792-031c2157b12a"
      },
      "execution_count": null,
      "outputs": [
        {
          "output_type": "execute_result",
          "data": {
            "text/plain": [
              "np.int64(326230)"
            ]
          },
          "metadata": {},
          "execution_count": 38
        }
      ]
    },
    {
      "cell_type": "code",
      "source": [
        "# Filter the dataset to keep only books with more than 100 ratings and an\n",
        "# average rating greater than 3.0\n",
        "\n",
        "df_pandas = df_pandas[((df_pandas[\"ratings_count\"] > 100) & (df_pandas[\"average_rating\"]>3.0))]"
      ],
      "metadata": {
        "id": "Gf98LazWhAl0"
      },
      "execution_count": null,
      "outputs": []
    },
    {
      "cell_type": "markdown",
      "source": [
        "Reason:\n",
        " - Books with very few ratings may have unreliable feedback and are difficult for collaborative filtering models (cold start problem)\n",
        " - Books with low average ratings are generally less appealing to recommend\n",
        " - Reducing the dataset size improves computational efficiency: smaller matrices, faster training, and quicker similarity calculations\n",
        " This filtering ensures higher-quality data and makes the recommendation system more scalable and practical."
      ],
      "metadata": {
        "id": "8T5EKpdZVAkB"
      }
    },
    {
      "cell_type": "code",
      "source": [
        "df_pandas.info()"
      ],
      "metadata": {
        "colab": {
          "base_uri": "https://localhost:8080/"
        },
        "id": "3c1FYwrZyYL5",
        "outputId": "730c36fc-e6aa-47d1-deda-1eeb1cb7a9aa"
      },
      "execution_count": null,
      "outputs": [
        {
          "output_type": "stream",
          "name": "stdout",
          "text": [
            "<class 'pandas.core.frame.DataFrame'>\n",
            "Index: 326230 entries, 511873 to 873373\n",
            "Data columns (total 9 columns):\n",
            " #   Column                Non-Null Count   Dtype  \n",
            "---  ------                --------------   -----  \n",
            " 0   title_without_series  326230 non-null  string \n",
            " 1   authors               326230 non-null  object \n",
            " 2   average_rating        326230 non-null  Float64\n",
            " 3   ratings_count         326230 non-null  int64  \n",
            " 4   book_id               326230 non-null  int64  \n",
            " 5   popular_shelves       326230 non-null  object \n",
            " 6   similar_books         326230 non-null  object \n",
            " 7   language_code         326230 non-null  string \n",
            " 8   description           326230 non-null  string \n",
            "dtypes: Float64(1), int64(2), object(3), string(3)\n",
            "memory usage: 289.7+ MB\n"
          ]
        }
      ]
    },
    {
      "cell_type": "code",
      "source": [
        "df_pandas.to_parquet(\"/content/drive/MyDrive/Book item-item/filtered_books_data_wrangled.parquet\", index=False)"
      ],
      "metadata": {
        "id": "EwOSjddYybb8"
      },
      "execution_count": null,
      "outputs": []
    },
    {
      "cell_type": "markdown",
      "source": [
        "## Lammetized Data\n"
      ],
      "metadata": {
        "id": "NDb8QRFb0zr_"
      }
    },
    {
      "cell_type": "code",
      "source": [
        "import pandas as pd"
      ],
      "metadata": {
        "id": "2APmUHjyP39o"
      },
      "execution_count": null,
      "outputs": []
    },
    {
      "cell_type": "code",
      "source": [
        "df = pd.read_parquet(\"/content/drive/MyDrive/Book item-item/filtered_books_data_wrangled.parquet\")"
      ],
      "metadata": {
        "id": "4OfH3ypdy2VS"
      },
      "execution_count": null,
      "outputs": []
    },
    {
      "cell_type": "code",
      "source": [
        "df.head()"
      ],
      "metadata": {
        "colab": {
          "base_uri": "https://localhost:8080/",
          "height": 539
        },
        "id": "_r9xc3IAy62Z",
        "outputId": "0e973dac-a6c6-4480-d570-8043a0420a8c"
      },
      "execution_count": null,
      "outputs": [
        {
          "output_type": "execute_result",
          "data": {
            "text/plain": [
              "                                title_without_series          authors  \\\n",
              "0            The Hunger Games (The Hunger Games, #1)         [153394]   \n",
              "1  Harry Potter and the Sorcerer's Stone (Harry P...  [1077326, 2927]   \n",
              "2                            Twilight (Twilight, #1)         [941441]   \n",
              "3                              To Kill a Mockingbird           [1825]   \n",
              "4                                   The Great Gatsby           [3190]   \n",
              "\n",
              "   average_rating  ratings_count  book_id  \\\n",
              "0            4.34        4899965  2767052   \n",
              "1            4.45        4765497        3   \n",
              "2            3.57        3941381    41865   \n",
              "3            4.26        3255518     2657   \n",
              "4            3.89        2758812     4671   \n",
              "\n",
              "                                     popular_shelves  \\\n",
              "0  [favorites, currently-reading, to-read, young-...   \n",
              "1  [to-read, favorites, fantasy, young-adult, fic...   \n",
              "2  [to-read, young-adult, fantasy, favorites, vam...   \n",
              "3  [to-read, favorites, classics, classic, histor...   \n",
              "4  [to-read, classics, favorites, fiction, classi...   \n",
              "\n",
              "                                       similar_books language_code  \\\n",
              "0  [1902241, 146499, 954674, 9917938, 10165727, 7...           eng   \n",
              "1  [13830, 127586, 121822, 37586, 6164358, 807968...           eng   \n",
              "2  [1326258, 140077, 35729, 30123413, 11260526, 9...         en-US   \n",
              "3  [1934, 2156, 15638, 53835, 77142, 5114, 116020...           eng   \n",
              "4  [48203, 337113, 176972, 188087, 10956, 12722, ...           eng   \n",
              "\n",
              "                                         description  \n",
              "0  Winning will make you famous.\n",
              "Losing means cer...  \n",
              "1  Harry Potter's life is miserable. His parents ...  \n",
              "2  About three things I was absolutely positive.\n",
              "...  \n",
              "3  The unforgettable novel of a childhood in a sl...  \n",
              "4  THE GREAT GATSBY, F. Scott Fitzgerald's third ...  "
            ],
            "text/html": [
              "\n",
              "  <div id=\"df-5001a051-861d-4040-9439-97d6ed69b203\" class=\"colab-df-container\">\n",
              "    <div>\n",
              "<style scoped>\n",
              "    .dataframe tbody tr th:only-of-type {\n",
              "        vertical-align: middle;\n",
              "    }\n",
              "\n",
              "    .dataframe tbody tr th {\n",
              "        vertical-align: top;\n",
              "    }\n",
              "\n",
              "    .dataframe thead th {\n",
              "        text-align: right;\n",
              "    }\n",
              "</style>\n",
              "<table border=\"1\" class=\"dataframe\">\n",
              "  <thead>\n",
              "    <tr style=\"text-align: right;\">\n",
              "      <th></th>\n",
              "      <th>title_without_series</th>\n",
              "      <th>authors</th>\n",
              "      <th>average_rating</th>\n",
              "      <th>ratings_count</th>\n",
              "      <th>book_id</th>\n",
              "      <th>popular_shelves</th>\n",
              "      <th>similar_books</th>\n",
              "      <th>language_code</th>\n",
              "      <th>description</th>\n",
              "    </tr>\n",
              "  </thead>\n",
              "  <tbody>\n",
              "    <tr>\n",
              "      <th>0</th>\n",
              "      <td>The Hunger Games (The Hunger Games, #1)</td>\n",
              "      <td>[153394]</td>\n",
              "      <td>4.34</td>\n",
              "      <td>4899965</td>\n",
              "      <td>2767052</td>\n",
              "      <td>[favorites, currently-reading, to-read, young-...</td>\n",
              "      <td>[1902241, 146499, 954674, 9917938, 10165727, 7...</td>\n",
              "      <td>eng</td>\n",
              "      <td>Winning will make you famous.\n",
              "Losing means cer...</td>\n",
              "    </tr>\n",
              "    <tr>\n",
              "      <th>1</th>\n",
              "      <td>Harry Potter and the Sorcerer's Stone (Harry P...</td>\n",
              "      <td>[1077326, 2927]</td>\n",
              "      <td>4.45</td>\n",
              "      <td>4765497</td>\n",
              "      <td>3</td>\n",
              "      <td>[to-read, favorites, fantasy, young-adult, fic...</td>\n",
              "      <td>[13830, 127586, 121822, 37586, 6164358, 807968...</td>\n",
              "      <td>eng</td>\n",
              "      <td>Harry Potter's life is miserable. His parents ...</td>\n",
              "    </tr>\n",
              "    <tr>\n",
              "      <th>2</th>\n",
              "      <td>Twilight (Twilight, #1)</td>\n",
              "      <td>[941441]</td>\n",
              "      <td>3.57</td>\n",
              "      <td>3941381</td>\n",
              "      <td>41865</td>\n",
              "      <td>[to-read, young-adult, fantasy, favorites, vam...</td>\n",
              "      <td>[1326258, 140077, 35729, 30123413, 11260526, 9...</td>\n",
              "      <td>en-US</td>\n",
              "      <td>About three things I was absolutely positive.\n",
              "...</td>\n",
              "    </tr>\n",
              "    <tr>\n",
              "      <th>3</th>\n",
              "      <td>To Kill a Mockingbird</td>\n",
              "      <td>[1825]</td>\n",
              "      <td>4.26</td>\n",
              "      <td>3255518</td>\n",
              "      <td>2657</td>\n",
              "      <td>[to-read, favorites, classics, classic, histor...</td>\n",
              "      <td>[1934, 2156, 15638, 53835, 77142, 5114, 116020...</td>\n",
              "      <td>eng</td>\n",
              "      <td>The unforgettable novel of a childhood in a sl...</td>\n",
              "    </tr>\n",
              "    <tr>\n",
              "      <th>4</th>\n",
              "      <td>The Great Gatsby</td>\n",
              "      <td>[3190]</td>\n",
              "      <td>3.89</td>\n",
              "      <td>2758812</td>\n",
              "      <td>4671</td>\n",
              "      <td>[to-read, classics, favorites, fiction, classi...</td>\n",
              "      <td>[48203, 337113, 176972, 188087, 10956, 12722, ...</td>\n",
              "      <td>eng</td>\n",
              "      <td>THE GREAT GATSBY, F. Scott Fitzgerald's third ...</td>\n",
              "    </tr>\n",
              "  </tbody>\n",
              "</table>\n",
              "</div>\n",
              "    <div class=\"colab-df-buttons\">\n",
              "\n",
              "  <div class=\"colab-df-container\">\n",
              "    <button class=\"colab-df-convert\" onclick=\"convertToInteractive('df-5001a051-861d-4040-9439-97d6ed69b203')\"\n",
              "            title=\"Convert this dataframe to an interactive table.\"\n",
              "            style=\"display:none;\">\n",
              "\n",
              "  <svg xmlns=\"http://www.w3.org/2000/svg\" height=\"24px\" viewBox=\"0 -960 960 960\">\n",
              "    <path d=\"M120-120v-720h720v720H120Zm60-500h600v-160H180v160Zm220 220h160v-160H400v160Zm0 220h160v-160H400v160ZM180-400h160v-160H180v160Zm440 0h160v-160H620v160ZM180-180h160v-160H180v160Zm440 0h160v-160H620v160Z\"/>\n",
              "  </svg>\n",
              "    </button>\n",
              "\n",
              "  <style>\n",
              "    .colab-df-container {\n",
              "      display:flex;\n",
              "      gap: 12px;\n",
              "    }\n",
              "\n",
              "    .colab-df-convert {\n",
              "      background-color: #E8F0FE;\n",
              "      border: none;\n",
              "      border-radius: 50%;\n",
              "      cursor: pointer;\n",
              "      display: none;\n",
              "      fill: #1967D2;\n",
              "      height: 32px;\n",
              "      padding: 0 0 0 0;\n",
              "      width: 32px;\n",
              "    }\n",
              "\n",
              "    .colab-df-convert:hover {\n",
              "      background-color: #E2EBFA;\n",
              "      box-shadow: 0px 1px 2px rgba(60, 64, 67, 0.3), 0px 1px 3px 1px rgba(60, 64, 67, 0.15);\n",
              "      fill: #174EA6;\n",
              "    }\n",
              "\n",
              "    .colab-df-buttons div {\n",
              "      margin-bottom: 4px;\n",
              "    }\n",
              "\n",
              "    [theme=dark] .colab-df-convert {\n",
              "      background-color: #3B4455;\n",
              "      fill: #D2E3FC;\n",
              "    }\n",
              "\n",
              "    [theme=dark] .colab-df-convert:hover {\n",
              "      background-color: #434B5C;\n",
              "      box-shadow: 0px 1px 3px 1px rgba(0, 0, 0, 0.15);\n",
              "      filter: drop-shadow(0px 1px 2px rgba(0, 0, 0, 0.3));\n",
              "      fill: #FFFFFF;\n",
              "    }\n",
              "  </style>\n",
              "\n",
              "    <script>\n",
              "      const buttonEl =\n",
              "        document.querySelector('#df-5001a051-861d-4040-9439-97d6ed69b203 button.colab-df-convert');\n",
              "      buttonEl.style.display =\n",
              "        google.colab.kernel.accessAllowed ? 'block' : 'none';\n",
              "\n",
              "      async function convertToInteractive(key) {\n",
              "        const element = document.querySelector('#df-5001a051-861d-4040-9439-97d6ed69b203');\n",
              "        const dataTable =\n",
              "          await google.colab.kernel.invokeFunction('convertToInteractive',\n",
              "                                                    [key], {});\n",
              "        if (!dataTable) return;\n",
              "\n",
              "        const docLinkHtml = 'Like what you see? Visit the ' +\n",
              "          '<a target=\"_blank\" href=https://colab.research.google.com/notebooks/data_table.ipynb>data table notebook</a>'\n",
              "          + ' to learn more about interactive tables.';\n",
              "        element.innerHTML = '';\n",
              "        dataTable['output_type'] = 'display_data';\n",
              "        await google.colab.output.renderOutput(dataTable, element);\n",
              "        const docLink = document.createElement('div');\n",
              "        docLink.innerHTML = docLinkHtml;\n",
              "        element.appendChild(docLink);\n",
              "      }\n",
              "    </script>\n",
              "  </div>\n",
              "\n",
              "\n",
              "    <div id=\"df-06f4cf42-779b-4007-88ef-e7e589658887\">\n",
              "      <button class=\"colab-df-quickchart\" onclick=\"quickchart('df-06f4cf42-779b-4007-88ef-e7e589658887')\"\n",
              "                title=\"Suggest charts\"\n",
              "                style=\"display:none;\">\n",
              "\n",
              "<svg xmlns=\"http://www.w3.org/2000/svg\" height=\"24px\"viewBox=\"0 0 24 24\"\n",
              "     width=\"24px\">\n",
              "    <g>\n",
              "        <path d=\"M19 3H5c-1.1 0-2 .9-2 2v14c0 1.1.9 2 2 2h14c1.1 0 2-.9 2-2V5c0-1.1-.9-2-2-2zM9 17H7v-7h2v7zm4 0h-2V7h2v10zm4 0h-2v-4h2v4z\"/>\n",
              "    </g>\n",
              "</svg>\n",
              "      </button>\n",
              "\n",
              "<style>\n",
              "  .colab-df-quickchart {\n",
              "      --bg-color: #E8F0FE;\n",
              "      --fill-color: #1967D2;\n",
              "      --hover-bg-color: #E2EBFA;\n",
              "      --hover-fill-color: #174EA6;\n",
              "      --disabled-fill-color: #AAA;\n",
              "      --disabled-bg-color: #DDD;\n",
              "  }\n",
              "\n",
              "  [theme=dark] .colab-df-quickchart {\n",
              "      --bg-color: #3B4455;\n",
              "      --fill-color: #D2E3FC;\n",
              "      --hover-bg-color: #434B5C;\n",
              "      --hover-fill-color: #FFFFFF;\n",
              "      --disabled-bg-color: #3B4455;\n",
              "      --disabled-fill-color: #666;\n",
              "  }\n",
              "\n",
              "  .colab-df-quickchart {\n",
              "    background-color: var(--bg-color);\n",
              "    border: none;\n",
              "    border-radius: 50%;\n",
              "    cursor: pointer;\n",
              "    display: none;\n",
              "    fill: var(--fill-color);\n",
              "    height: 32px;\n",
              "    padding: 0;\n",
              "    width: 32px;\n",
              "  }\n",
              "\n",
              "  .colab-df-quickchart:hover {\n",
              "    background-color: var(--hover-bg-color);\n",
              "    box-shadow: 0 1px 2px rgba(60, 64, 67, 0.3), 0 1px 3px 1px rgba(60, 64, 67, 0.15);\n",
              "    fill: var(--button-hover-fill-color);\n",
              "  }\n",
              "\n",
              "  .colab-df-quickchart-complete:disabled,\n",
              "  .colab-df-quickchart-complete:disabled:hover {\n",
              "    background-color: var(--disabled-bg-color);\n",
              "    fill: var(--disabled-fill-color);\n",
              "    box-shadow: none;\n",
              "  }\n",
              "\n",
              "  .colab-df-spinner {\n",
              "    border: 2px solid var(--fill-color);\n",
              "    border-color: transparent;\n",
              "    border-bottom-color: var(--fill-color);\n",
              "    animation:\n",
              "      spin 1s steps(1) infinite;\n",
              "  }\n",
              "\n",
              "  @keyframes spin {\n",
              "    0% {\n",
              "      border-color: transparent;\n",
              "      border-bottom-color: var(--fill-color);\n",
              "      border-left-color: var(--fill-color);\n",
              "    }\n",
              "    20% {\n",
              "      border-color: transparent;\n",
              "      border-left-color: var(--fill-color);\n",
              "      border-top-color: var(--fill-color);\n",
              "    }\n",
              "    30% {\n",
              "      border-color: transparent;\n",
              "      border-left-color: var(--fill-color);\n",
              "      border-top-color: var(--fill-color);\n",
              "      border-right-color: var(--fill-color);\n",
              "    }\n",
              "    40% {\n",
              "      border-color: transparent;\n",
              "      border-right-color: var(--fill-color);\n",
              "      border-top-color: var(--fill-color);\n",
              "    }\n",
              "    60% {\n",
              "      border-color: transparent;\n",
              "      border-right-color: var(--fill-color);\n",
              "    }\n",
              "    80% {\n",
              "      border-color: transparent;\n",
              "      border-right-color: var(--fill-color);\n",
              "      border-bottom-color: var(--fill-color);\n",
              "    }\n",
              "    90% {\n",
              "      border-color: transparent;\n",
              "      border-bottom-color: var(--fill-color);\n",
              "    }\n",
              "  }\n",
              "</style>\n",
              "\n",
              "      <script>\n",
              "        async function quickchart(key) {\n",
              "          const quickchartButtonEl =\n",
              "            document.querySelector('#' + key + ' button');\n",
              "          quickchartButtonEl.disabled = true;  // To prevent multiple clicks.\n",
              "          quickchartButtonEl.classList.add('colab-df-spinner');\n",
              "          try {\n",
              "            const charts = await google.colab.kernel.invokeFunction(\n",
              "                'suggestCharts', [key], {});\n",
              "          } catch (error) {\n",
              "            console.error('Error during call to suggestCharts:', error);\n",
              "          }\n",
              "          quickchartButtonEl.classList.remove('colab-df-spinner');\n",
              "          quickchartButtonEl.classList.add('colab-df-quickchart-complete');\n",
              "        }\n",
              "        (() => {\n",
              "          let quickchartButtonEl =\n",
              "            document.querySelector('#df-06f4cf42-779b-4007-88ef-e7e589658887 button');\n",
              "          quickchartButtonEl.style.display =\n",
              "            google.colab.kernel.accessAllowed ? 'block' : 'none';\n",
              "        })();\n",
              "      </script>\n",
              "    </div>\n",
              "\n",
              "    </div>\n",
              "  </div>\n"
            ],
            "application/vnd.google.colaboratory.intrinsic+json": {
              "type": "dataframe",
              "variable_name": "df"
            }
          },
          "metadata": {},
          "execution_count": 5
        }
      ]
    },
    {
      "cell_type": "code",
      "source": [
        "df.info()"
      ],
      "metadata": {
        "colab": {
          "base_uri": "https://localhost:8080/"
        },
        "id": "KjfLKmEf0PAi",
        "outputId": "7286cf7a-48bf-4e74-a184-2ea25856bbe3"
      },
      "execution_count": null,
      "outputs": [
        {
          "output_type": "stream",
          "name": "stdout",
          "text": [
            "<class 'pandas.core.frame.DataFrame'>\n",
            "RangeIndex: 326230 entries, 0 to 326229\n",
            "Data columns (total 9 columns):\n",
            " #   Column                Non-Null Count   Dtype  \n",
            "---  ------                --------------   -----  \n",
            " 0   title_without_series  326230 non-null  string \n",
            " 1   authors               326230 non-null  object \n",
            " 2   average_rating        326230 non-null  Float64\n",
            " 3   ratings_count         326230 non-null  int64  \n",
            " 4   book_id               326230 non-null  int64  \n",
            " 5   popular_shelves       326230 non-null  object \n",
            " 6   similar_books         326230 non-null  object \n",
            " 7   language_code         326230 non-null  string \n",
            " 8   description           326230 non-null  string \n",
            "dtypes: Float64(1), int64(2), object(3), string(3)\n",
            "memory usage: 22.7+ MB\n"
          ]
        }
      ]
    },
    {
      "cell_type": "code",
      "source": [
        "df.loc[7][\"description\"]"
      ],
      "metadata": {
        "colab": {
          "base_uri": "https://localhost:8080/",
          "height": 232
        },
        "id": "WyS02dBvQLal",
        "outputId": "3e795423-95de-4e6f-ce46-836d8b1fee87"
      },
      "execution_count": null,
      "outputs": [
        {
          "output_type": "execute_result",
          "data": {
            "text/plain": [
              "\"The hero-narrator of The Catcher in the Ryeis an ancient child of sixteen, a native New Yorker named Holden Caulfield. Through circumstances that tend to preclude adult, secondhand description, he leaves his prep school in Pennsylvania and goes underground in New York City for three days. The boy himself is at once too simple and too complex for us to make any final comment about him or his story. Perhaps the safest thing we can say about Holden is that he was born in the world not just strongly attracted to beauty but, almost, hopelessly impaled on it. There are many voices in this novel: children's voices, adult voices, underground voices-but Holden's voice is the most eloquent of all. Transcending his own vernacular, yet remaining marvelously faithful to it, he issues a perfectly articulated cry of mixed pain and pleasure. However, like most lovers and clowns and poets of the higher orders, he keeps most of the pain to, and for, himself. The pleasure he gives away, or sets aside, with all his heart. It is there for the reader who can handle it to keep.\\nJ.D. Salinger's classic novel of teenage angst and rebellion was first published in 1951. The novel was included on Time's 2005 list of the 100 best English-language novels written since 1923. It was named by Modern Library and its readers as one of the 100 best English-language novels of the 20th century. It has been frequently challenged in the court for its liberal use of profanity and portrayal of sexuality and in the 1950's and 60's it was the novel that every teenage boy wants to read.\""
            ],
            "application/vnd.google.colaboratory.intrinsic+json": {
              "type": "string"
            }
          },
          "metadata": {},
          "execution_count": 7
        }
      ]
    },
    {
      "cell_type": "markdown",
      "source": [
        "###Lammetized Data\n",
        "\n",
        "\n"
      ],
      "metadata": {
        "id": "mh07c3dmWYT5"
      }
    },
    {
      "cell_type": "code",
      "source": [
        "import re, string, nltk\n",
        "from nltk.corpus import stopwords\n",
        "nltk.download('stopwords')\n",
        "import spacy\n",
        "\n",
        "try:\n",
        "  nlp = spacy.load(\"en_core_web_sm\")\n",
        "except OSError:\n",
        "  print(\"SpaCy model 'en_core_web_sm' not found. Please run 'python -m spacy download en_core_web_sm'\")\n",
        "  nlp = None\n",
        "\n",
        "STOPWORDS = set(stopwords.words(\"english\"))\n",
        "\n",
        "print(\"\\nApplying tokenizer using nlp.pipe()...\")\n",
        "if nlp: # Only proceed if model loaded\n",
        "    # nlp.pipe requires an iterable of strings.\n",
        "    # Handle potential None/NaN in the original column by replacing with empty strings.\n",
        "    descriptions_for_pipe = df['description'].fillna('').astype(str).tolist()\n",
        "\n",
        "    # Process texts in batches using nlp.pipe\n",
        "    # `disable=['parser', 'ner']` disables components we don't need for just lemmatization\n",
        "    # which can speed things up if your model has those components.\n",
        "    processed_docs = nlp.pipe(descriptions_for_pipe, disable=['parser', 'ner'])\n",
        "\n",
        "    # Iterate through the processed docs and extract/filter lemmas\n",
        "    lemmatized_tokens_pipe = []\n",
        "    for doc in processed_docs:\n",
        "        # Reapply the filtering logic to each processed doc\n",
        "        tokens = [\n",
        "             token.lemma_.lower()\n",
        "             for token in doc\n",
        "             if token.lemma_.lower() not in STOPWORDS\n",
        "             and not token.is_punct\n",
        "             and not token.is_space\n",
        "             # Optional: Add check for short tokens\n",
        "        ]\n",
        "        lemmatized_tokens_pipe.append(tokens)\n",
        "\n",
        "    # Assign the resulting list to a new column\n",
        "    df['lemmatized_description_pipe'] = lemmatized_tokens_pipe\n",
        "\n",
        "    print(\"\\nDataFrame after nlp.pipe():\")\n",
        "    print(df[['book_id', 'description', 'lemmatized_description_pipe']])\n",
        "\n",
        "else:\n",
        "    print(\"Skipping nlp.pipe() because spaCy model failed to load.\")\n"
      ],
      "metadata": {
        "colab": {
          "base_uri": "https://localhost:8080/"
        },
        "id": "vweuhHsXp6zp",
        "outputId": "063bb0c1-c3c8-448f-d57b-8be5d87f6a6b"
      },
      "execution_count": null,
      "outputs": [
        {
          "output_type": "stream",
          "name": "stderr",
          "text": [
            "[nltk_data] Downloading package stopwords to /root/nltk_data...\n",
            "[nltk_data]   Package stopwords is already up-to-date!\n"
          ]
        },
        {
          "output_type": "stream",
          "name": "stdout",
          "text": [
            "\n",
            "Applying tokenizer using nlp.pipe()...\n",
            "\n",
            "DataFrame after nlp.pipe():\n",
            "         book_id                                        description  \\\n",
            "0        2767052  Winning will make you famous.\n",
            "Losing means cer...   \n",
            "1              3  Harry Potter's life is miserable. His parents ...   \n",
            "2          41865  About three things I was absolutely positive.\n",
            "...   \n",
            "3           2657  The unforgettable novel of a childhood in a sl...   \n",
            "4           4671  THE GREAT GATSBY, F. Scott Fitzgerald's third ...   \n",
            "...          ...                                                ...   \n",
            "326225  18363056  With evil lurking on every corner, can two ver...   \n",
            "326226   1137199  A delightful collection of magical folk tales\n",
            "...   \n",
            "326227  34827846  \"My one fear is now my reality.\"\n",
            "He didn't off...   \n",
            "326228  11114177  Why did the flushing toilet take two centuries...   \n",
            "326229  12988686  Nate Whitney had always had a connection to na...   \n",
            "\n",
            "                              lemmatized_description_pipe  \n",
            "0       [win, make, famous, losing, mean, certain, dea...  \n",
            "1       [harry, potter, 's, life, miserable, parent, d...  \n",
            "2       [three, thing, absolutely, positive, first, ed...  \n",
            "3       [unforgettable, novel, childhood, sleepy, sout...  \n",
            "4       [great, gatsby, f., scott, fitzgerald, 's, thi...  \n",
            "...                                                   ...  \n",
            "326225  [evil, lurking, every, corner, two, veritable,...  \n",
            "326226  [delightful, collection, magical, folk, tale, ...  \n",
            "326227  [one, fear, reality, offer, name, fulfil, need...  \n",
            "326228  [flush, toilet, take, two, century, catch, sam...  \n",
            "326229  [nate, whitney, always, connection, nature, so...  \n",
            "\n",
            "[326230 rows x 3 columns]\n"
          ]
        }
      ]
    },
    {
      "cell_type": "code",
      "source": [
        "df.info()"
      ],
      "metadata": {
        "colab": {
          "base_uri": "https://localhost:8080/"
        },
        "id": "I9Vnca1Nz7J-",
        "outputId": "80aa855b-5ea8-4163-e93e-b606d6c1bd62"
      },
      "execution_count": null,
      "outputs": [
        {
          "output_type": "stream",
          "name": "stdout",
          "text": [
            "<class 'pandas.core.frame.DataFrame'>\n",
            "RangeIndex: 326230 entries, 0 to 326229\n",
            "Data columns (total 10 columns):\n",
            " #   Column                       Non-Null Count   Dtype  \n",
            "---  ------                       --------------   -----  \n",
            " 0   title_without_series         326230 non-null  string \n",
            " 1   authors                      326230 non-null  object \n",
            " 2   average_rating               326230 non-null  Float64\n",
            " 3   ratings_count                326230 non-null  int64  \n",
            " 4   book_id                      326230 non-null  int64  \n",
            " 5   popular_shelves              326230 non-null  object \n",
            " 6   similar_books                326230 non-null  object \n",
            " 7   language_code                326230 non-null  string \n",
            " 8   description                  326230 non-null  string \n",
            " 9   lemmatized_description_pipe  326230 non-null  object \n",
            "dtypes: Float64(1), int64(2), object(4), string(3)\n",
            "memory usage: 25.2+ MB\n"
          ]
        }
      ]
    },
    {
      "cell_type": "code",
      "source": [
        "parquet_file_path = \"/content/drive/MyDrive/Book item-item/books_lemmatized_description.parquet\"\n",
        "try:\n",
        "  df.to_parquet(parquet_file_path, index=False)\n",
        "  print(f\"DataFrame saved\")\n",
        "except Exception as e:\n",
        "  print(f\"Error saving DataFrame : {e}\")"
      ],
      "metadata": {
        "colab": {
          "base_uri": "https://localhost:8080/"
        },
        "id": "r5vI_6uk0Aiw",
        "outputId": "5a19c765-73ed-4e55-bd85-97dff322faff"
      },
      "execution_count": null,
      "outputs": [
        {
          "output_type": "stream",
          "name": "stdout",
          "text": [
            "DataFrame saved\n"
          ]
        }
      ]
    },
    {
      "cell_type": "markdown",
      "source": [
        "##Model Training"
      ],
      "metadata": {
        "id": "TWzxsjYjWjyd"
      }
    },
    {
      "cell_type": "code",
      "source": [
        "books_df.info()"
      ],
      "metadata": {
        "colab": {
          "base_uri": "https://localhost:8080/"
        },
        "id": "ASUajKNni-Sx",
        "outputId": "7c339443-6fbd-4a6c-97db-2aefe4d00b32"
      },
      "execution_count": null,
      "outputs": [
        {
          "output_type": "stream",
          "name": "stdout",
          "text": [
            "<class 'pandas.core.frame.DataFrame'>\n",
            "RangeIndex: 326230 entries, 0 to 326229\n",
            "Data columns (total 10 columns):\n",
            " #   Column                       Non-Null Count   Dtype  \n",
            "---  ------                       --------------   -----  \n",
            " 0   title_without_series         326230 non-null  string \n",
            " 1   authors                      326230 non-null  object \n",
            " 2   average_rating               326230 non-null  Float64\n",
            " 3   ratings_count                326230 non-null  int64  \n",
            " 4   book_id                      326230 non-null  int64  \n",
            " 5   popular_shelves              326230 non-null  object \n",
            " 6   similar_books                326230 non-null  object \n",
            " 7   language_code                326230 non-null  string \n",
            " 8   description                  326230 non-null  string \n",
            " 9   lemmatized_description_pipe  326230 non-null  object \n",
            "dtypes: Float64(1), int64(2), object(4), string(3)\n",
            "memory usage: 25.2+ MB\n"
          ]
        }
      ]
    },
    {
      "cell_type": "code",
      "source": [
        "books_df.head()"
      ],
      "metadata": {
        "colab": {
          "base_uri": "https://localhost:8080/",
          "height": 539
        },
        "id": "nil8VC2SjEWS",
        "outputId": "2fffc847-c47f-44e4-db6f-8e03949dd53b"
      },
      "execution_count": null,
      "outputs": [
        {
          "output_type": "execute_result",
          "data": {
            "text/plain": [
              "                                title_without_series          authors  \\\n",
              "0            The Hunger Games (The Hunger Games, #1)         [153394]   \n",
              "1  Harry Potter and the Sorcerer's Stone (Harry P...  [1077326, 2927]   \n",
              "2                            Twilight (Twilight, #1)         [941441]   \n",
              "3                              To Kill a Mockingbird           [1825]   \n",
              "4                                   The Great Gatsby           [3190]   \n",
              "\n",
              "   average_rating  ratings_count  book_id  \\\n",
              "0            4.34        4899965  2767052   \n",
              "1            4.45        4765497        3   \n",
              "2            3.57        3941381    41865   \n",
              "3            4.26        3255518     2657   \n",
              "4            3.89        2758812     4671   \n",
              "\n",
              "                                     popular_shelves  \\\n",
              "0  [favorites, currently-reading, to-read, young-...   \n",
              "1  [to-read, favorites, fantasy, young-adult, fic...   \n",
              "2  [to-read, young-adult, fantasy, favorites, vam...   \n",
              "3  [to-read, favorites, classics, classic, histor...   \n",
              "4  [to-read, classics, favorites, fiction, classi...   \n",
              "\n",
              "                                       similar_books language_code  \\\n",
              "0  [1902241, 146499, 954674, 9917938, 10165727, 7...           eng   \n",
              "1  [13830, 127586, 121822, 37586, 6164358, 807968...           eng   \n",
              "2  [1326258, 140077, 35729, 30123413, 11260526, 9...         en-US   \n",
              "3  [1934, 2156, 15638, 53835, 77142, 5114, 116020...           eng   \n",
              "4  [48203, 337113, 176972, 188087, 10956, 12722, ...           eng   \n",
              "\n",
              "                                         description  \\\n",
              "0  Winning will make you famous.\n",
              "Losing means cer...   \n",
              "1  Harry Potter's life is miserable. His parents ...   \n",
              "2  About three things I was absolutely positive.\n",
              "...   \n",
              "3  The unforgettable novel of a childhood in a sl...   \n",
              "4  THE GREAT GATSBY, F. Scott Fitzgerald's third ...   \n",
              "\n",
              "                         lemmatized_description_pipe  \n",
              "0  [win, make, famous, losing, mean, certain, dea...  \n",
              "1  [harry, potter, 's, life, miserable, parent, d...  \n",
              "2  [three, thing, absolutely, positive, first, ed...  \n",
              "3  [unforgettable, novel, childhood, sleepy, sout...  \n",
              "4  [great, gatsby, f., scott, fitzgerald, 's, thi...  "
            ],
            "text/html": [
              "\n",
              "  <div id=\"df-60024961-f0c8-4329-a533-38465336398e\" class=\"colab-df-container\">\n",
              "    <div>\n",
              "<style scoped>\n",
              "    .dataframe tbody tr th:only-of-type {\n",
              "        vertical-align: middle;\n",
              "    }\n",
              "\n",
              "    .dataframe tbody tr th {\n",
              "        vertical-align: top;\n",
              "    }\n",
              "\n",
              "    .dataframe thead th {\n",
              "        text-align: right;\n",
              "    }\n",
              "</style>\n",
              "<table border=\"1\" class=\"dataframe\">\n",
              "  <thead>\n",
              "    <tr style=\"text-align: right;\">\n",
              "      <th></th>\n",
              "      <th>title_without_series</th>\n",
              "      <th>authors</th>\n",
              "      <th>average_rating</th>\n",
              "      <th>ratings_count</th>\n",
              "      <th>book_id</th>\n",
              "      <th>popular_shelves</th>\n",
              "      <th>similar_books</th>\n",
              "      <th>language_code</th>\n",
              "      <th>description</th>\n",
              "      <th>lemmatized_description_pipe</th>\n",
              "    </tr>\n",
              "  </thead>\n",
              "  <tbody>\n",
              "    <tr>\n",
              "      <th>0</th>\n",
              "      <td>The Hunger Games (The Hunger Games, #1)</td>\n",
              "      <td>[153394]</td>\n",
              "      <td>4.34</td>\n",
              "      <td>4899965</td>\n",
              "      <td>2767052</td>\n",
              "      <td>[favorites, currently-reading, to-read, young-...</td>\n",
              "      <td>[1902241, 146499, 954674, 9917938, 10165727, 7...</td>\n",
              "      <td>eng</td>\n",
              "      <td>Winning will make you famous.\n",
              "Losing means cer...</td>\n",
              "      <td>[win, make, famous, losing, mean, certain, dea...</td>\n",
              "    </tr>\n",
              "    <tr>\n",
              "      <th>1</th>\n",
              "      <td>Harry Potter and the Sorcerer's Stone (Harry P...</td>\n",
              "      <td>[1077326, 2927]</td>\n",
              "      <td>4.45</td>\n",
              "      <td>4765497</td>\n",
              "      <td>3</td>\n",
              "      <td>[to-read, favorites, fantasy, young-adult, fic...</td>\n",
              "      <td>[13830, 127586, 121822, 37586, 6164358, 807968...</td>\n",
              "      <td>eng</td>\n",
              "      <td>Harry Potter's life is miserable. His parents ...</td>\n",
              "      <td>[harry, potter, 's, life, miserable, parent, d...</td>\n",
              "    </tr>\n",
              "    <tr>\n",
              "      <th>2</th>\n",
              "      <td>Twilight (Twilight, #1)</td>\n",
              "      <td>[941441]</td>\n",
              "      <td>3.57</td>\n",
              "      <td>3941381</td>\n",
              "      <td>41865</td>\n",
              "      <td>[to-read, young-adult, fantasy, favorites, vam...</td>\n",
              "      <td>[1326258, 140077, 35729, 30123413, 11260526, 9...</td>\n",
              "      <td>en-US</td>\n",
              "      <td>About three things I was absolutely positive.\n",
              "...</td>\n",
              "      <td>[three, thing, absolutely, positive, first, ed...</td>\n",
              "    </tr>\n",
              "    <tr>\n",
              "      <th>3</th>\n",
              "      <td>To Kill a Mockingbird</td>\n",
              "      <td>[1825]</td>\n",
              "      <td>4.26</td>\n",
              "      <td>3255518</td>\n",
              "      <td>2657</td>\n",
              "      <td>[to-read, favorites, classics, classic, histor...</td>\n",
              "      <td>[1934, 2156, 15638, 53835, 77142, 5114, 116020...</td>\n",
              "      <td>eng</td>\n",
              "      <td>The unforgettable novel of a childhood in a sl...</td>\n",
              "      <td>[unforgettable, novel, childhood, sleepy, sout...</td>\n",
              "    </tr>\n",
              "    <tr>\n",
              "      <th>4</th>\n",
              "      <td>The Great Gatsby</td>\n",
              "      <td>[3190]</td>\n",
              "      <td>3.89</td>\n",
              "      <td>2758812</td>\n",
              "      <td>4671</td>\n",
              "      <td>[to-read, classics, favorites, fiction, classi...</td>\n",
              "      <td>[48203, 337113, 176972, 188087, 10956, 12722, ...</td>\n",
              "      <td>eng</td>\n",
              "      <td>THE GREAT GATSBY, F. Scott Fitzgerald's third ...</td>\n",
              "      <td>[great, gatsby, f., scott, fitzgerald, 's, thi...</td>\n",
              "    </tr>\n",
              "  </tbody>\n",
              "</table>\n",
              "</div>\n",
              "    <div class=\"colab-df-buttons\">\n",
              "\n",
              "  <div class=\"colab-df-container\">\n",
              "    <button class=\"colab-df-convert\" onclick=\"convertToInteractive('df-60024961-f0c8-4329-a533-38465336398e')\"\n",
              "            title=\"Convert this dataframe to an interactive table.\"\n",
              "            style=\"display:none;\">\n",
              "\n",
              "  <svg xmlns=\"http://www.w3.org/2000/svg\" height=\"24px\" viewBox=\"0 -960 960 960\">\n",
              "    <path d=\"M120-120v-720h720v720H120Zm60-500h600v-160H180v160Zm220 220h160v-160H400v160Zm0 220h160v-160H400v160ZM180-400h160v-160H180v160Zm440 0h160v-160H620v160ZM180-180h160v-160H180v160Zm440 0h160v-160H620v160Z\"/>\n",
              "  </svg>\n",
              "    </button>\n",
              "\n",
              "  <style>\n",
              "    .colab-df-container {\n",
              "      display:flex;\n",
              "      gap: 12px;\n",
              "    }\n",
              "\n",
              "    .colab-df-convert {\n",
              "      background-color: #E8F0FE;\n",
              "      border: none;\n",
              "      border-radius: 50%;\n",
              "      cursor: pointer;\n",
              "      display: none;\n",
              "      fill: #1967D2;\n",
              "      height: 32px;\n",
              "      padding: 0 0 0 0;\n",
              "      width: 32px;\n",
              "    }\n",
              "\n",
              "    .colab-df-convert:hover {\n",
              "      background-color: #E2EBFA;\n",
              "      box-shadow: 0px 1px 2px rgba(60, 64, 67, 0.3), 0px 1px 3px 1px rgba(60, 64, 67, 0.15);\n",
              "      fill: #174EA6;\n",
              "    }\n",
              "\n",
              "    .colab-df-buttons div {\n",
              "      margin-bottom: 4px;\n",
              "    }\n",
              "\n",
              "    [theme=dark] .colab-df-convert {\n",
              "      background-color: #3B4455;\n",
              "      fill: #D2E3FC;\n",
              "    }\n",
              "\n",
              "    [theme=dark] .colab-df-convert:hover {\n",
              "      background-color: #434B5C;\n",
              "      box-shadow: 0px 1px 3px 1px rgba(0, 0, 0, 0.15);\n",
              "      filter: drop-shadow(0px 1px 2px rgba(0, 0, 0, 0.3));\n",
              "      fill: #FFFFFF;\n",
              "    }\n",
              "  </style>\n",
              "\n",
              "    <script>\n",
              "      const buttonEl =\n",
              "        document.querySelector('#df-60024961-f0c8-4329-a533-38465336398e button.colab-df-convert');\n",
              "      buttonEl.style.display =\n",
              "        google.colab.kernel.accessAllowed ? 'block' : 'none';\n",
              "\n",
              "      async function convertToInteractive(key) {\n",
              "        const element = document.querySelector('#df-60024961-f0c8-4329-a533-38465336398e');\n",
              "        const dataTable =\n",
              "          await google.colab.kernel.invokeFunction('convertToInteractive',\n",
              "                                                    [key], {});\n",
              "        if (!dataTable) return;\n",
              "\n",
              "        const docLinkHtml = 'Like what you see? Visit the ' +\n",
              "          '<a target=\"_blank\" href=https://colab.research.google.com/notebooks/data_table.ipynb>data table notebook</a>'\n",
              "          + ' to learn more about interactive tables.';\n",
              "        element.innerHTML = '';\n",
              "        dataTable['output_type'] = 'display_data';\n",
              "        await google.colab.output.renderOutput(dataTable, element);\n",
              "        const docLink = document.createElement('div');\n",
              "        docLink.innerHTML = docLinkHtml;\n",
              "        element.appendChild(docLink);\n",
              "      }\n",
              "    </script>\n",
              "  </div>\n",
              "\n",
              "\n",
              "    <div id=\"df-a9d492f9-d4ad-4057-b3a7-c6f4a0013ae5\">\n",
              "      <button class=\"colab-df-quickchart\" onclick=\"quickchart('df-a9d492f9-d4ad-4057-b3a7-c6f4a0013ae5')\"\n",
              "                title=\"Suggest charts\"\n",
              "                style=\"display:none;\">\n",
              "\n",
              "<svg xmlns=\"http://www.w3.org/2000/svg\" height=\"24px\"viewBox=\"0 0 24 24\"\n",
              "     width=\"24px\">\n",
              "    <g>\n",
              "        <path d=\"M19 3H5c-1.1 0-2 .9-2 2v14c0 1.1.9 2 2 2h14c1.1 0 2-.9 2-2V5c0-1.1-.9-2-2-2zM9 17H7v-7h2v7zm4 0h-2V7h2v10zm4 0h-2v-4h2v4z\"/>\n",
              "    </g>\n",
              "</svg>\n",
              "      </button>\n",
              "\n",
              "<style>\n",
              "  .colab-df-quickchart {\n",
              "      --bg-color: #E8F0FE;\n",
              "      --fill-color: #1967D2;\n",
              "      --hover-bg-color: #E2EBFA;\n",
              "      --hover-fill-color: #174EA6;\n",
              "      --disabled-fill-color: #AAA;\n",
              "      --disabled-bg-color: #DDD;\n",
              "  }\n",
              "\n",
              "  [theme=dark] .colab-df-quickchart {\n",
              "      --bg-color: #3B4455;\n",
              "      --fill-color: #D2E3FC;\n",
              "      --hover-bg-color: #434B5C;\n",
              "      --hover-fill-color: #FFFFFF;\n",
              "      --disabled-bg-color: #3B4455;\n",
              "      --disabled-fill-color: #666;\n",
              "  }\n",
              "\n",
              "  .colab-df-quickchart {\n",
              "    background-color: var(--bg-color);\n",
              "    border: none;\n",
              "    border-radius: 50%;\n",
              "    cursor: pointer;\n",
              "    display: none;\n",
              "    fill: var(--fill-color);\n",
              "    height: 32px;\n",
              "    padding: 0;\n",
              "    width: 32px;\n",
              "  }\n",
              "\n",
              "  .colab-df-quickchart:hover {\n",
              "    background-color: var(--hover-bg-color);\n",
              "    box-shadow: 0 1px 2px rgba(60, 64, 67, 0.3), 0 1px 3px 1px rgba(60, 64, 67, 0.15);\n",
              "    fill: var(--button-hover-fill-color);\n",
              "  }\n",
              "\n",
              "  .colab-df-quickchart-complete:disabled,\n",
              "  .colab-df-quickchart-complete:disabled:hover {\n",
              "    background-color: var(--disabled-bg-color);\n",
              "    fill: var(--disabled-fill-color);\n",
              "    box-shadow: none;\n",
              "  }\n",
              "\n",
              "  .colab-df-spinner {\n",
              "    border: 2px solid var(--fill-color);\n",
              "    border-color: transparent;\n",
              "    border-bottom-color: var(--fill-color);\n",
              "    animation:\n",
              "      spin 1s steps(1) infinite;\n",
              "  }\n",
              "\n",
              "  @keyframes spin {\n",
              "    0% {\n",
              "      border-color: transparent;\n",
              "      border-bottom-color: var(--fill-color);\n",
              "      border-left-color: var(--fill-color);\n",
              "    }\n",
              "    20% {\n",
              "      border-color: transparent;\n",
              "      border-left-color: var(--fill-color);\n",
              "      border-top-color: var(--fill-color);\n",
              "    }\n",
              "    30% {\n",
              "      border-color: transparent;\n",
              "      border-left-color: var(--fill-color);\n",
              "      border-top-color: var(--fill-color);\n",
              "      border-right-color: var(--fill-color);\n",
              "    }\n",
              "    40% {\n",
              "      border-color: transparent;\n",
              "      border-right-color: var(--fill-color);\n",
              "      border-top-color: var(--fill-color);\n",
              "    }\n",
              "    60% {\n",
              "      border-color: transparent;\n",
              "      border-right-color: var(--fill-color);\n",
              "    }\n",
              "    80% {\n",
              "      border-color: transparent;\n",
              "      border-right-color: var(--fill-color);\n",
              "      border-bottom-color: var(--fill-color);\n",
              "    }\n",
              "    90% {\n",
              "      border-color: transparent;\n",
              "      border-bottom-color: var(--fill-color);\n",
              "    }\n",
              "  }\n",
              "</style>\n",
              "\n",
              "      <script>\n",
              "        async function quickchart(key) {\n",
              "          const quickchartButtonEl =\n",
              "            document.querySelector('#' + key + ' button');\n",
              "          quickchartButtonEl.disabled = true;  // To prevent multiple clicks.\n",
              "          quickchartButtonEl.classList.add('colab-df-spinner');\n",
              "          try {\n",
              "            const charts = await google.colab.kernel.invokeFunction(\n",
              "                'suggestCharts', [key], {});\n",
              "          } catch (error) {\n",
              "            console.error('Error during call to suggestCharts:', error);\n",
              "          }\n",
              "          quickchartButtonEl.classList.remove('colab-df-spinner');\n",
              "          quickchartButtonEl.classList.add('colab-df-quickchart-complete');\n",
              "        }\n",
              "        (() => {\n",
              "          let quickchartButtonEl =\n",
              "            document.querySelector('#df-a9d492f9-d4ad-4057-b3a7-c6f4a0013ae5 button');\n",
              "          quickchartButtonEl.style.display =\n",
              "            google.colab.kernel.accessAllowed ? 'block' : 'none';\n",
              "        })();\n",
              "      </script>\n",
              "    </div>\n",
              "\n",
              "    </div>\n",
              "  </div>\n"
            ],
            "application/vnd.google.colaboratory.intrinsic+json": {
              "type": "dataframe",
              "variable_name": "books_df"
            }
          },
          "metadata": {},
          "execution_count": 10
        }
      ]
    },
    {
      "cell_type": "code",
      "source": [
        "updated_books_df = books_df[(books_df['average_rating']>=4) & (books_df['ratings_count']>100)]"
      ],
      "metadata": {
        "id": "m0GTYkbPjY1-"
      },
      "execution_count": null,
      "outputs": []
    },
    {
      "cell_type": "code",
      "source": [
        "updated_books_df.info()"
      ],
      "metadata": {
        "colab": {
          "base_uri": "https://localhost:8080/"
        },
        "id": "bxDLsPHtkbvE",
        "outputId": "42be9640-4cbe-4cd6-d348-b83b2b90822b"
      },
      "execution_count": null,
      "outputs": [
        {
          "output_type": "stream",
          "name": "stdout",
          "text": [
            "<class 'pandas.core.frame.DataFrame'>\n",
            "Index: 137572 entries, 0 to 326229\n",
            "Data columns (total 10 columns):\n",
            " #   Column                       Non-Null Count   Dtype  \n",
            "---  ------                       --------------   -----  \n",
            " 0   title_without_series         137572 non-null  string \n",
            " 1   authors                      137572 non-null  object \n",
            " 2   average_rating               137572 non-null  Float64\n",
            " 3   ratings_count                137572 non-null  int64  \n",
            " 4   book_id                      137572 non-null  int64  \n",
            " 5   popular_shelves              137572 non-null  object \n",
            " 6   similar_books                137572 non-null  object \n",
            " 7   language_code                137572 non-null  string \n",
            " 8   description                  137572 non-null  string \n",
            " 9   lemmatized_description_pipe  137572 non-null  object \n",
            "dtypes: Float64(1), int64(2), object(4), string(3)\n",
            "memory usage: 11.7+ MB\n"
          ]
        }
      ]
    },
    {
      "cell_type": "code",
      "source": [
        "parquet_file_path = \"/content/drive/MyDrive/Book item-item/135k_books_lemmatized_description.parquet\"\n",
        "try:\n",
        "  updated_books_df.to_parquet(parquet_file_path, index = False)\n",
        "  print(\"dataframe saved\")\n",
        "except Exception as e:\n",
        "  print(f\"Error saving Dataframe: {e}\")"
      ],
      "metadata": {
        "colab": {
          "base_uri": "https://localhost:8080/"
        },
        "id": "lTr9BDEWc0TA",
        "outputId": "9dd965c7-6704-4dbd-ff49-d613a4a830ac"
      },
      "execution_count": 8,
      "outputs": [
        {
          "output_type": "stream",
          "name": "stdout",
          "text": [
            "Error saving Dataframe: name 'updated_books_df' is not defined\n"
          ]
        }
      ]
    },
    {
      "cell_type": "code",
      "source": [
        "from IPython.display import Javascript\n",
        "\n",
        "# This JS code will click the reconnect button every 60 000 ms (1 min)\n",
        "js = \"\"\"\n",
        "function ClickConnect(){\n",
        "  console.log(\"⏳ Keep-alive ping\");\n",
        "  document.querySelector(\"colab-connect-button\")\n",
        "          .shadowRoot.querySelector(\"#connect\").click();\n",
        "}\n",
        "setInterval(ClickConnect, 60000);\n",
        "\"\"\"\n",
        "\n",
        "display(Javascript(js))\n"
      ],
      "metadata": {
        "colab": {
          "base_uri": "https://localhost:8080/",
          "height": 17
        },
        "id": "zud-CASdTYGe",
        "outputId": "dab581c6-b097-4fb0-d4e2-d157192c36b5"
      },
      "execution_count": null,
      "outputs": [
        {
          "output_type": "display_data",
          "data": {
            "text/plain": [
              "<IPython.core.display.Javascript object>"
            ],
            "application/javascript": [
              "\n",
              "function ClickConnect(){\n",
              "  console.log(\"⏳ Keep-alive ping\");\n",
              "  document.querySelector(\"colab-connect-button\")\n",
              "          .shadowRoot.querySelector(\"#connect\").click();\n",
              "}\n",
              "setInterval(ClickConnect, 60000);\n"
            ]
          },
          "metadata": {}
        }
      ]
    },
    {
      "cell_type": "markdown",
      "source": [
        "##Building Ranking system using Whoosh"
      ],
      "metadata": {
        "id": "ui2q03EjD43n"
      }
    },
    {
      "cell_type": "code",
      "source": [
        "token_lists = (\n",
        "    books_df[\"lemmatized_description_pipe\"]\n",
        "      .apply(lambda arr: arr.tolist())      # ndarray → list[str]\n",
        "      .tolist()                             # Series → list of docs\n",
        ")\n",
        "book_ids = books_df[\"book_id\"].tolist()"
      ],
      "metadata": {
        "id": "kVbfs3od4cPu"
      },
      "execution_count": null,
      "outputs": []
    },
    {
      "cell_type": "code",
      "source": [
        "data        = [(int(b), toks)\n",
        "               for b, toks in zip(book_ids, token_lists) if toks]\n",
        "N_DOCS      = len(data)   # total number of books to process\n",
        "N_DOCS"
      ],
      "metadata": {
        "colab": {
          "base_uri": "https://localhost:8080/"
        },
        "id": "a0nkvIJZzS3D",
        "outputId": "6cb6addf-8241-4502-82e9-1a7c463f8c94"
      },
      "execution_count": null,
      "outputs": [
        {
          "output_type": "execute_result",
          "data": {
            "text/plain": [
              "122224"
            ]
          },
          "metadata": {},
          "execution_count": 5
        }
      ]
    },
    {
      "cell_type": "code",
      "source": [
        "# 1. How long is each list?\n",
        "print(\"len(book_ids)     =\", len(book_ids))\n",
        "print(\"len(token_lists)  =\", len(token_lists))\n",
        "\n",
        "# 2. How many token_lists entries are empty or falsey?\n",
        "empty_count = sum(1 for toks in token_lists if not toks)\n",
        "print(\"empty token_lists =\", empty_count)\n",
        "\n",
        "# 3. How many pairs does zip produce?\n",
        "print(\"len(list(zip(book_ids, token_lists))) =\",\n",
        "      len(list(zip(book_ids, token_lists))))\n"
      ],
      "metadata": {
        "colab": {
          "base_uri": "https://localhost:8080/"
        },
        "id": "EWs0bfjp0FLa",
        "outputId": "4daf1776-a739-43dd-8a4e-900144928f2b"
      },
      "execution_count": null,
      "outputs": [
        {
          "output_type": "stream",
          "name": "stdout",
          "text": [
            "len(book_ids)     = 137572\n",
            "len(token_lists)  = 137572\n",
            "empty token_lists = 15348\n",
            "len(list(zip(book_ids, token_lists))) = 137572\n"
          ]
        }
      ]
    },
    {
      "cell_type": "code",
      "source": [
        "!pip install whoosh --quiet"
      ],
      "metadata": {
        "colab": {
          "base_uri": "https://localhost:8080/"
        },
        "id": "sqYeHR_hVr9V",
        "outputId": "ceb01334-fa68-4fab-92d9-27254ce618ae"
      },
      "execution_count": null,
      "outputs": [
        {
          "output_type": "stream",
          "name": "stdout",
          "text": [
            "\u001b[?25l   \u001b[90m━━━━━━━━━━━━━━━━━━━━━━━━━━━━━━━━━━━━━━━━\u001b[0m \u001b[32m0.0/468.8 kB\u001b[0m \u001b[31m?\u001b[0m eta \u001b[36m-:--:--\u001b[0m\r\u001b[2K   \u001b[91m━━━━━━\u001b[0m\u001b[91m╸\u001b[0m\u001b[90m━━━━━━━━━━━━━━━━━━━━━━━━━━━━━━━━━\u001b[0m \u001b[32m81.9/468.8 kB\u001b[0m \u001b[31m2.9 MB/s\u001b[0m eta \u001b[36m0:00:01\u001b[0m\r\u001b[2K   \u001b[91m━━━━━━━━━━━━━━━━━━━━━━━━━━━━━━━━━\u001b[0m\u001b[90m╺\u001b[0m\u001b[90m━━━━━━\u001b[0m \u001b[32m389.1/468.8 kB\u001b[0m \u001b[31m5.6 MB/s\u001b[0m eta \u001b[36m0:00:01\u001b[0m\r\u001b[2K   \u001b[90m━━━━━━━━━━━━━━━━━━━━━━━━━━━━━━━━━━━━━━━━\u001b[0m \u001b[32m468.8/468.8 kB\u001b[0m \u001b[31m5.5 MB/s\u001b[0m eta \u001b[36m0:00:00\u001b[0m\n",
            "\u001b[?25h"
          ]
        }
      ]
    },
    {
      "cell_type": "code",
      "source": [
        "import os\n",
        "import time\n",
        "import math\n",
        "import pickle\n",
        "import multiprocessing as mp\n",
        "\n",
        "from whoosh import index, scoring\n",
        "from whoosh.fields import Schema, TEXT, ID\n",
        "from whoosh.analysis import RegexTokenizer, LowercaseFilter\n",
        "from whoosh.qparser import QueryParser\n",
        "from tqdm import tqdm\n",
        "\n",
        "# -------------------------\n",
        "# 0) Configuration\n",
        "# -------------------------\n",
        "# Load and filter your data into a list of (book_id, tokens) pairs\n",
        "token_lists = books_df[\"lemmatized_description_pipe\"] \\\n",
        "                   .apply(lambda arr: arr.tolist()) \\\n",
        "                   .tolist()\n",
        "book_ids    = books_df[\"book_id\"].tolist()\n",
        "# Keep only entries with non-empty token lists\n",
        "data        = [(int(b), toks)\n",
        "               for b, toks in zip(book_ids, token_lists) if toks]\n",
        "N_DOCS      = len(data)   # total number of books to process\n",
        "\n",
        "# Decide how many worker processes to launch\n",
        "NUM_WORKERS    = mp.cpu_count()\n",
        "# How often each worker will print a “heartbeat” status\n",
        "PROGRESS_EVERY = 2000\n",
        "# Directory for the on-disk Whoosh index\n",
        "IDX_DIR        = \"whoosh_idx_135k\"\n",
        "# Number of neighbors to fetch per query\n",
        "TOP_K          = 100\n",
        "\n",
        "print(f\"Using {N_DOCS} books; launching {NUM_WORKERS} workers\")\n",
        "\n",
        "# -------------------------\n",
        "# 1) Build the Whoosh index\n",
        "# -------------------------\n",
        "# Define the schema: an ID field for book_id and a TEXT field for description\n",
        "my_lemmatized_analyzer = RegexTokenizer() | LowercaseFilter()\n",
        "schema = Schema(\n",
        "    book_id = ID(stored=True, unique=True),\n",
        "    content = TEXT(stored=False, analyzer=my_lemmatized_analyzer)\n",
        ")\n",
        "\n",
        "# Create (or reuse) the index directory\n",
        "os.makedirs(IDX_DIR, exist_ok=True)\n",
        "ix = index.create_in(IDX_DIR, schema)\n",
        "\n",
        "# Open a multi-process writer (leverages NUM_WORKERS threads)\n",
        "writer = ix.writer(procs=NUM_WORKERS, limitmb=2048)\n",
        "\n",
        "start_time = time.time()\n",
        "for i, (bid, toks) in enumerate(data, start=1):\n",
        "    # Add each document to the index\n",
        "    # .join is done because the whoosh tokenizer expect the data as 1 big string.\n",
        "    # this data will further broken and analysed in the selected analyzer\n",
        "    writer.add_document(book_id=str(bid), content=\" \".join(toks))\n",
        "    # Periodically report progress and ETA\n",
        "    if i % PROGRESS_EVERY == 0 or i == N_DOCS:\n",
        "        elapsed = time.time() - start_time\n",
        "        eta     = elapsed * (N_DOCS - i) / i\n",
        "        print(f\"Indexed {i}/{N_DOCS} docs — \"\n",
        "              f\"{elapsed:.0f}s elapsed, ETA {eta/60:.1f}m\",\n",
        "              flush=True)\n",
        "# Commit and close the writer\n",
        "writer.commit()\n",
        "print(f\"Index build completed in {(time.time() - start_time)/60:.1f} minutes\")\n",
        "\n",
        "# -------------------------\n",
        "# 2) Prepare data chunks\n",
        "# -------------------------\n",
        "# Split the list of documents into roughly equal chunks for each worker\n",
        "chunk_size = math.ceil(N_DOCS / NUM_WORKERS)\n",
        "chunks     = [data[i : i + chunk_size]\n",
        "              for i in range(0, N_DOCS, chunk_size)]\n",
        "\n",
        "# -------------------------\n",
        "# 3) Define the worker\n",
        "# -------------------------\n",
        "def worker(chunk):\n",
        "    \"\"\"\n",
        "    Each worker process:\n",
        "    - Opens the shared Whoosh index\n",
        "    - Initializes a BM25 searcher\n",
        "    - Iterates over its assigned slice of (book_id, tokens)\n",
        "    - Runs a BM25 query for each book’s tokens\n",
        "    - Collects top-K neighbours (excluding itself) into a dict\n",
        "    - Prints a heartbeat every PROGRESS_EVERY queries\n",
        "    \"\"\"\n",
        "    ix       = index.open_dir(IDX_DIR)\n",
        "    searcher = ix.searcher(weighting=scoring.BM25F(B=0.75, K1=1.5))\n",
        "    qp       = QueryParser(\"content\", schema=ix.schema)\n",
        "    local    = {}\n",
        "    start_w  = time.time()\n",
        "    proc     = mp.current_process().name\n",
        "\n",
        "    for idx, (bid, toks) in enumerate(chunk, start=1):\n",
        "        # Build and execute the BM25 query\n",
        "        q    = qp.parse(\" \".join(toks))\n",
        "        hits = searcher.search(q, limit=TOP_K)\n",
        "        # Store neighbour list: (neighbour_id, score)\n",
        "        local[bid] = [\n",
        "            (int(h[\"book_id\"]), h.score)\n",
        "            for h in hits\n",
        "            if int(h[\"book_id\"]) != bid\n",
        "        ]\n",
        "        # Heartbeat: report progress within this worker’s chunk\n",
        "        if idx % PROGRESS_EVERY == 0 or idx == len(chunk):\n",
        "            elapsed = time.time() - start_w\n",
        "            rate    = idx / elapsed\n",
        "            eta     = (len(chunk) - idx) / rate\n",
        "            print(f\"{proc}: processed {idx}/{len(chunk)} — \"\n",
        "                  f\"{elapsed:.0f}s elapsed, ETA {eta/60:.1f}m\",\n",
        "                  flush=True)\n",
        "    return local\n",
        "\n",
        "# -------------------------\n",
        "# 4) Run parallel querying\n",
        "# -------------------------\n",
        "print(\"Starting parallel BM25 queries…\")\n",
        "t0 = time.time()\n",
        "bm25_table = {}\n",
        "# Use a process pool to run workers concurrently\n",
        "with mp.Pool(NUM_WORKERS) as pool:\n",
        "    # imap_unordered yields each worker’s result dict as it finishes\n",
        "    for part in tqdm(pool.imap_unordered(worker, chunks), total=len(chunks)):\n",
        "        # Merge partial results into the global table\n",
        "        bm25_table.update(part)\n",
        "\n",
        "total_time = time.time() - t0\n",
        "print(f\"Completed all {N_DOCS} queries in {total_time/60:.1f} minutes\")\n",
        "\n",
        "# -------------------------\n",
        "# 5) Save the neighbour table\n",
        "# -------------------------\n",
        "out_path = \"/content/drive/MyDrive/Book item-item/bm25_neighbors_135k_top100_custom_analyzer.pkl\"\n",
        "with open(out_path, \"wb\") as f:\n",
        "    pickle.dump(bm25_table, f)\n",
        "size_mb = os.path.getsize(out_path) / 2**20\n",
        "print(f\"Saved {len(bm25_table)} neighbour lists to {out_path} ({size_mb:.1f} MB)\")\n"
      ],
      "metadata": {
        "colab": {
          "base_uri": "https://localhost:8080/"
        },
        "id": "cdvWY-2r4Bsx",
        "outputId": "8191f4b1-a587-4c8f-abc4-f17e8a6f86ed"
      },
      "execution_count": null,
      "outputs": [
        {
          "metadata": {
            "tags": null
          },
          "name": "stdout",
          "output_type": "stream",
          "text": [
            "Using 122224 books; launching 8 workers\n",
            "Indexed 2000/122224 docs — 0s elapsed, ETA 0.3m\n",
            "Indexed 4000/122224 docs — 0s elapsed, ETA 0.1m\n",
            "Indexed 6000/122224 docs — 0s elapsed, ETA 0.1m\n",
            "Indexed 8000/122224 docs — 0s elapsed, ETA 0.1m\n",
            "Indexed 10000/122224 docs — 1s elapsed, ETA 0.1m\n",
            "Indexed 12000/122224 docs — 1s elapsed, ETA 0.1m\n",
            "Indexed 14000/122224 docs — 1s elapsed, ETA 0.1m\n",
            "Indexed 16000/122224 docs — 1s elapsed, ETA 0.1m\n",
            "Indexed 18000/122224 docs — 2s elapsed, ETA 0.2m\n",
            "Indexed 20000/122224 docs — 2s elapsed, ETA 0.1m\n",
            "Indexed 22000/122224 docs — 2s elapsed, ETA 0.1m\n",
            "Indexed 24000/122224 docs — 2s elapsed, ETA 0.1m\n",
            "Indexed 26000/122224 docs — 2s elapsed, ETA 0.1m\n",
            "Indexed 28000/122224 docs — 2s elapsed, ETA 0.1m\n",
            "Indexed 30000/122224 docs — 2s elapsed, ETA 0.1m\n",
            "Indexed 32000/122224 docs — 2s elapsed, ETA 0.1m\n",
            "Indexed 34000/122224 docs — 3s elapsed, ETA 0.1m\n",
            "Indexed 36000/122224 docs — 3s elapsed, ETA 0.1m\n",
            "Indexed 38000/122224 docs — 3s elapsed, ETA 0.1m\n",
            "Indexed 40000/122224 docs — 3s elapsed, ETA 0.1m\n",
            "Indexed 42000/122224 docs — 3s elapsed, ETA 0.1m\n",
            "Indexed 44000/122224 docs — 3s elapsed, ETA 0.1m\n",
            "Indexed 46000/122224 docs — 3s elapsed, ETA 0.1m\n",
            "Indexed 48000/122224 docs — 3s elapsed, ETA 0.1m\n",
            "Indexed 50000/122224 docs — 3s elapsed, ETA 0.1m\n",
            "Indexed 52000/122224 docs — 4s elapsed, ETA 0.1m\n",
            "Indexed 54000/122224 docs — 4s elapsed, ETA 0.1m\n",
            "Indexed 56000/122224 docs — 4s elapsed, ETA 0.1m\n",
            "Indexed 58000/122224 docs — 4s elapsed, ETA 0.1m\n",
            "Indexed 60000/122224 docs — 4s elapsed, ETA 0.1m\n",
            "Indexed 62000/122224 docs — 4s elapsed, ETA 0.1m\n",
            "Indexed 64000/122224 docs — 4s elapsed, ETA 0.1m\n",
            "Indexed 66000/122224 docs — 4s elapsed, ETA 0.1m\n",
            "Indexed 68000/122224 docs — 5s elapsed, ETA 0.1m\n",
            "Indexed 70000/122224 docs — 5s elapsed, ETA 0.1m\n",
            "Indexed 72000/122224 docs — 5s elapsed, ETA 0.1m\n",
            "Indexed 74000/122224 docs — 5s elapsed, ETA 0.1m\n",
            "Indexed 76000/122224 docs — 5s elapsed, ETA 0.1m\n",
            "Indexed 78000/122224 docs — 5s elapsed, ETA 0.0m\n",
            "Indexed 80000/122224 docs — 5s elapsed, ETA 0.0m\n",
            "Indexed 82000/122224 docs — 5s elapsed, ETA 0.0m\n",
            "Indexed 84000/122224 docs — 5s elapsed, ETA 0.0m\n",
            "Indexed 86000/122224 docs — 6s elapsed, ETA 0.0m\n",
            "Indexed 88000/122224 docs — 6s elapsed, ETA 0.0m\n",
            "Indexed 90000/122224 docs — 6s elapsed, ETA 0.0m\n",
            "Indexed 92000/122224 docs — 6s elapsed, ETA 0.0m\n",
            "Indexed 94000/122224 docs — 6s elapsed, ETA 0.0m\n",
            "Indexed 96000/122224 docs — 6s elapsed, ETA 0.0m\n",
            "Indexed 98000/122224 docs — 6s elapsed, ETA 0.0m\n",
            "Indexed 100000/122224 docs — 6s elapsed, ETA 0.0m\n",
            "Indexed 102000/122224 docs — 7s elapsed, ETA 0.0m\n",
            "Indexed 104000/122224 docs — 7s elapsed, ETA 0.0m\n",
            "Indexed 106000/122224 docs — 7s elapsed, ETA 0.0m\n",
            "Indexed 108000/122224 docs — 7s elapsed, ETA 0.0m\n",
            "Indexed 110000/122224 docs — 7s elapsed, ETA 0.0m\n",
            "Indexed 112000/122224 docs — 7s elapsed, ETA 0.0m\n",
            "Indexed 114000/122224 docs — 7s elapsed, ETA 0.0m\n",
            "Indexed 116000/122224 docs — 7s elapsed, ETA 0.0m\n",
            "Indexed 118000/122224 docs — 8s elapsed, ETA 0.0m\n",
            "Indexed 120000/122224 docs — 8s elapsed, ETA 0.0m\n",
            "Indexed 122000/122224 docs — 8s elapsed, ETA 0.0m\n",
            "Indexed 122224/122224 docs — 8s elapsed, ETA 0.0m\n",
            "Index build completed in 1.6 minutes\n",
            "Starting parallel BM25 queries…\n"
          ]
        },
        {
          "metadata": {
            "tags": null
          },
          "name": "stderr",
          "output_type": "stream",
          "text": [
            "\r  0%|          | 0/8 [00:00<?, ?it/s]"
          ]
        },
        {
          "metadata": {
            "tags": null
          },
          "name": "stdout",
          "output_type": "stream",
          "text": [
            "ForkPoolWorker-16: processed 2000/15278 — 1236s elapsed, ETA 136.7m\n",
            "ForkPoolWorker-15: processed 2000/15278 — 1238s elapsed, ETA 137.0m\n",
            "ForkPoolWorker-13: processed 2000/15278 — 1249s elapsed, ETA 138.2m\n",
            "ForkPoolWorker-14: processed 2000/15278 — 1255s elapsed, ETA 138.9m\n",
            "ForkPoolWorker-10: processed 2000/15278 — 1287s elapsed, ETA 142.4m\n",
            "ForkPoolWorker-11: processed 2000/15278 — 1290s elapsed, ETA 142.7m\n",
            "ForkPoolWorker-12: processed 2000/15278 — 1307s elapsed, ETA 144.6m\n",
            "ForkPoolWorker-9: processed 2000/15278 — 1323s elapsed, ETA 146.4m\n",
            "ForkPoolWorker-15: processed 4000/15278 — 2492s elapsed, ETA 117.1m\n",
            "ForkPoolWorker-16: processed 4000/15278 — 2500s elapsed, ETA 117.5m\n",
            "ForkPoolWorker-13: processed 4000/15278 — 2514s elapsed, ETA 118.2m\n",
            "ForkPoolWorker-14: processed 4000/15278 — 2543s elapsed, ETA 119.5m\n",
            "ForkPoolWorker-10: processed 4000/15278 — 2572s elapsed, ETA 120.9m\n",
            "ForkPoolWorker-11: processed 4000/15278 — 2599s elapsed, ETA 122.2m\n",
            "ForkPoolWorker-12: processed 4000/15278 — 2638s elapsed, ETA 124.0m\n",
            "ForkPoolWorker-9: processed 4000/15278 — 2678s elapsed, ETA 125.8m\n",
            "ForkPoolWorker-15: processed 6000/15278 — 3747s elapsed, ETA 96.6m\n",
            "ForkPoolWorker-16: processed 6000/15278 — 3780s elapsed, ETA 97.4m\n",
            "ForkPoolWorker-13: processed 6000/15278 — 3813s elapsed, ETA 98.3m\n",
            "ForkPoolWorker-14: processed 6000/15278 — 3839s elapsed, ETA 98.9m\n",
            "ForkPoolWorker-10: processed 6000/15278 — 3844s elapsed, ETA 99.1m\n",
            "ForkPoolWorker-12: processed 6000/15278 — 3936s elapsed, ETA 101.4m\n",
            "ForkPoolWorker-11: processed 6000/15278 — 3943s elapsed, ETA 101.6m\n",
            "ForkPoolWorker-9: processed 6000/15278 — 4016s elapsed, ETA 103.5m\n",
            "ForkPoolWorker-16: processed 8000/15278 — 5047s elapsed, ETA 76.5m\n",
            "ForkPoolWorker-15: processed 8000/15278 — 5116s elapsed, ETA 77.6m\n",
            "ForkPoolWorker-14: processed 8000/15278 — 5138s elapsed, ETA 77.9m\n",
            "ForkPoolWorker-13: processed 8000/15278 — 5142s elapsed, ETA 78.0m\n",
            "ForkPoolWorker-10: processed 8000/15278 — 5173s elapsed, ETA 78.4m\n",
            "ForkPoolWorker-12: processed 8000/15278 — 5286s elapsed, ETA 80.2m\n",
            "ForkPoolWorker-11: processed 8000/15278 — 5300s elapsed, ETA 80.4m\n",
            "ForkPoolWorker-9: processed 8000/15278 — 5376s elapsed, ETA 81.5m\n",
            "ForkPoolWorker-16: processed 10000/15278 — 6367s elapsed, ETA 56.0m\n",
            "ForkPoolWorker-14: processed 10000/15278 — 6447s elapsed, ETA 56.7m\n",
            "ForkPoolWorker-15: processed 10000/15278 — 6455s elapsed, ETA 56.8m\n",
            "ForkPoolWorker-13: processed 10000/15278 — 6496s elapsed, ETA 57.1m\n",
            "ForkPoolWorker-10: processed 10000/15278 — 6562s elapsed, ETA 57.7m\n",
            "ForkPoolWorker-11: processed 10000/15278 — 6677s elapsed, ETA 58.7m\n",
            "ForkPoolWorker-12: processed 10000/15278 — 6700s elapsed, ETA 58.9m\n",
            "ForkPoolWorker-9: processed 10000/15278 — 6739s elapsed, ETA 59.3m\n",
            "ForkPoolWorker-16: processed 12000/15278 — 7669s elapsed, ETA 34.9m\n",
            "ForkPoolWorker-15: processed 12000/15278 — 7702s elapsed, ETA 35.1m\n",
            "ForkPoolWorker-14: processed 12000/15278 — 7759s elapsed, ETA 35.3m\n",
            "ForkPoolWorker-13: processed 12000/15278 — 7778s elapsed, ETA 35.4m\n",
            "ForkPoolWorker-10: processed 12000/15278 — 7896s elapsed, ETA 36.0m\n",
            "ForkPoolWorker-12: processed 12000/15278 — 7985s elapsed, ETA 36.4m\n",
            "ForkPoolWorker-11: processed 12000/15278 — 7997s elapsed, ETA 36.4m\n",
            "ForkPoolWorker-9: processed 12000/15278 — 8030s elapsed, ETA 36.6m\n",
            "ForkPoolWorker-16: processed 14000/15278 — 8948s elapsed, ETA 13.6m\n",
            "ForkPoolWorker-15: processed 14000/15278 — 8993s elapsed, ETA 13.7m\n",
            "ForkPoolWorker-14: processed 14000/15278 — 9029s elapsed, ETA 13.7m\n",
            "ForkPoolWorker-13: processed 14000/15278 — 9089s elapsed, ETA 13.8m\n",
            "ForkPoolWorker-10: processed 14000/15278 — 9193s elapsed, ETA 14.0m\n",
            "ForkPoolWorker-12: processed 14000/15278 — 9302s elapsed, ETA 14.2m\n",
            "ForkPoolWorker-11: processed 14000/15278 — 9302s elapsed, ETA 14.2m\n",
            "ForkPoolWorker-9: processed 14000/15278 — 9369s elapsed, ETA 14.3m\n",
            "ForkPoolWorker-16: processed 15278/15278 — 9741s elapsed, ETA 0.0m\n"
          ]
        },
        {
          "metadata": {
            "tags": null
          },
          "name": "stderr",
          "output_type": "stream",
          "text": [
            "\r 12%|█▎        | 1/8 [2:42:22<18:56:36, 9742.43s/it]"
          ]
        },
        {
          "metadata": {
            "tags": null
          },
          "name": "stdout",
          "output_type": "stream",
          "text": [
            "ForkPoolWorker-15: processed 15278/15278 — 9790s elapsed, ETA 0.0m\n"
          ]
        },
        {
          "metadata": {
            "tags": null
          },
          "name": "stderr",
          "output_type": "stream",
          "text": [
            "\r 25%|██▌       | 2/8 [2:43:11<6:44:01, 4040.20s/it] "
          ]
        },
        {
          "metadata": {
            "tags": null
          },
          "name": "stdout",
          "output_type": "stream",
          "text": [
            "ForkPoolWorker-14: processed 15278/15278 — 9827s elapsed, ETA 0.0m\n"
          ]
        },
        {
          "metadata": {
            "tags": null
          },
          "name": "stderr",
          "output_type": "stream",
          "text": [
            "\r 38%|███▊      | 3/8 [2:43:48<3:04:21, 2212.28s/it]"
          ]
        },
        {
          "output_type": "stream",
          "name": "stdout",
          "text": [
            "ForkPoolWorker-13: processed 15278/15278 — 9899s elapsed, ETA 0.0m\n"
          ]
        },
        {
          "output_type": "stream",
          "name": "stderr",
          "text": [
            "\r 50%|█████     | 4/8 [2:44:59<1:31:08, 1367.20s/it]"
          ]
        },
        {
          "output_type": "stream",
          "name": "stdout",
          "text": [
            "ForkPoolWorker-10: processed 15278/15278 — 9951s elapsed, ETA 0.0m\n"
          ]
        },
        {
          "output_type": "stream",
          "name": "stderr",
          "text": [
            "\r 62%|██████▎   | 5/8 [2:45:51<44:38, 892.92s/it]   "
          ]
        },
        {
          "output_type": "stream",
          "name": "stdout",
          "text": [
            "ForkPoolWorker-12: processed 15278/15278 — 10015s elapsed, ETA 0.0m\n"
          ]
        },
        {
          "output_type": "stream",
          "name": "stderr",
          "text": [
            "\r 75%|███████▌  | 6/8 [2:46:55<20:22, 611.04s/it]"
          ]
        },
        {
          "output_type": "stream",
          "name": "stdout",
          "text": [
            "ForkPoolWorker-11: processed 15278/15278 — 10024s elapsed, ETA 0.0m\n"
          ]
        },
        {
          "output_type": "stream",
          "name": "stderr",
          "text": [
            "\r 88%|████████▊ | 7/8 [2:47:04<06:54, 414.03s/it]"
          ]
        },
        {
          "output_type": "stream",
          "name": "stdout",
          "text": [
            "ForkPoolWorker-9: processed 15278/15278 — 10052s elapsed, ETA 0.0m\n"
          ]
        },
        {
          "output_type": "stream",
          "name": "stderr",
          "text": [
            "100%|██████████| 8/8 [2:47:32<00:00, 1256.56s/it]"
          ]
        },
        {
          "output_type": "stream",
          "name": "stdout",
          "text": [
            "Completed all 122224 queries in 167.5 minutes\n",
            "Saved 122224 neighbour lists to /content/drive/MyDrive/Book item-item/bm25_neighbors_135k_top100_custom_analyzer.pkl (1.3 MB)\n"
          ]
        },
        {
          "output_type": "stream",
          "name": "stderr",
          "text": [
            "\n"
          ]
        }
      ]
    },
    {
      "cell_type": "markdown",
      "source": [
        "The problem here is, even though all books had description, using BM25 model on building recommendations on Description feature resulted in no recommendations for many books. this might be because, there are many dissimilar books or BM25 failed to see any similarity in it.\n",
        "this probably happened because, i use keyword analyser in Whoosh retrival system. Keyword analyser treets the whole discription as 1 atring and tries to find similarity. however this is not suitable for description which has a lot of strings, Keyword analyse is best for data like titles, genres ets. so Building custom analyser did not improve the results much. out of 122224 data, only 13138 had recommendations which is just slightly higher than 12924 recommendations from keyword analyzer.\n",
        "Tried just using description field of data and let the whoosh analyser do the lemmatizing and lowercasing an other work but this take lot of execution time. approx 12 hours. so aborted and tring sentense transformer to get semantic meaning\n"
      ],
      "metadata": {
        "id": "z73EPaXmDfGi"
      }
    },
    {
      "cell_type": "code",
      "source": [
        "import pandas as pd\n",
        "file_path = \"/content/drive/MyDrive/Book item-item/135k_books_lemmatized_description.parquet\"\n",
        "try:\n",
        "  books_df = pd.read_parquet(file_path)\n",
        "  print(\"Dataframe loaded\")\n",
        "except Exception as e:\n",
        "  print(f\"error loadinf {e}\")"
      ],
      "metadata": {
        "colab": {
          "base_uri": "https://localhost:8080/"
        },
        "id": "4ukE4MFfaiRe",
        "outputId": "746d8d39-1c88-43a3-f35f-1a9993fc35b6"
      },
      "execution_count": 12,
      "outputs": [
        {
          "output_type": "stream",
          "name": "stdout",
          "text": [
            "Dataframe loaded\n"
          ]
        }
      ]
    },
    {
      "cell_type": "code",
      "source": [
        "books_df.info()"
      ],
      "metadata": {
        "id": "ql6l5cav9FDC",
        "outputId": "0eedce76-a01d-40e4-e85b-6abd0c78fbac",
        "colab": {
          "base_uri": "https://localhost:8080/"
        }
      },
      "execution_count": 13,
      "outputs": [
        {
          "output_type": "stream",
          "name": "stdout",
          "text": [
            "<class 'pandas.core.frame.DataFrame'>\n",
            "RangeIndex: 137572 entries, 0 to 137571\n",
            "Data columns (total 10 columns):\n",
            " #   Column                       Non-Null Count   Dtype  \n",
            "---  ------                       --------------   -----  \n",
            " 0   title_without_series         137572 non-null  string \n",
            " 1   authors                      137572 non-null  object \n",
            " 2   average_rating               137572 non-null  Float64\n",
            " 3   ratings_count                137572 non-null  int64  \n",
            " 4   book_id                      137572 non-null  int64  \n",
            " 5   popular_shelves              137572 non-null  object \n",
            " 6   similar_books                137572 non-null  object \n",
            " 7   language_code                137572 non-null  string \n",
            " 8   description                  137572 non-null  string \n",
            " 9   lemmatized_description_pipe  137572 non-null  object \n",
            "dtypes: Float64(1), int64(2), object(4), string(3)\n",
            "memory usage: 10.6+ MB\n"
          ]
        }
      ]
    },
    {
      "cell_type": "code",
      "source": [
        "books_df[\"popular_shelves\"].iloc[1]"
      ],
      "metadata": {
        "colab": {
          "base_uri": "https://localhost:8080/"
        },
        "id": "NrTNeZFDbZH6",
        "outputId": "011cc577-54f1-4641-dc17-5f28277d9286"
      },
      "execution_count": 18,
      "outputs": [
        {
          "output_type": "execute_result",
          "data": {
            "text/plain": [
              "array(['to-read', 'favorites', 'fantasy', 'young-adult', 'fiction',\n",
              "       'harry-potter', 'books-i-own', 'owned', 'ya', 'series',\n",
              "       'favourites', 'magic', 'childrens', 're-read', 'children',\n",
              "       'adventure', 'owned-books', 'classics', 'children-s', 'childhood',\n",
              "       'middle-grade', 'reread', 'all-time-favorites', 'j-k-rowling',\n",
              "       'sci-fi-fantasy', 'children-s-books', 'my-books', 'kids',\n",
              "       'audiobook', 'favorite-books', 'default', 'audiobooks', 'novels',\n",
              "       '5-stars', 'i-own', 'favorite', 'read-in-2016', 'fantasy-sci-fi',\n",
              "       'paranormal', 'read-more-than-once', 're-reads', 'my-library',\n",
              "       'read-in-2015', 'books', 'english', 'ya-fantasy', 'read-in-2017',\n",
              "       'childrens-books', 'british', 'urban-fantasy', 'mystery', 'teen',\n",
              "       'audio', 'favorite-series', 'library', 'supernatural',\n",
              "       'my-favorites', 'read-in-2014', 'novel', 'faves', 'jk-rowling',\n",
              "       'own-it', 'ya-fiction', 'harry-potter-series', 'kindle',\n",
              "       'juvenile', 'childhood-favorites', 'rereads', 'kids-books',\n",
              "       'wizards', 're-reading', 'scifi-fantasy', 'read-in-english',\n",
              "       'young-adult-fiction', 'currently-reading', 'youth',\n",
              "       'children-s-literature', 'favourite', 'classic', 'read-2016',\n",
              "       'ebook', 'children-s-lit', 'on-my-shelf', 'friendship',\n",
              "       'to-re-read', 'childhood-books', 'all-time-favourites',\n",
              "       'contemporary', 'favs', 'read-2017', 'read-in-2013',\n",
              "       'shelfari-favorites', 'my-bookshelf', 'bookshelf', 'to-buy',\n",
              "       'science-fiction-fantasy', 'favourite-books', 'read-2015',\n",
              "       'audio-books', 'england'], dtype=object)"
            ]
          },
          "metadata": {},
          "execution_count": 18
        }
      ]
    },
    {
      "cell_type": "code",
      "source": [
        "import pickle\n",
        "with open(\"/content/drive/MyDrive/Book item-item/bm25_neighbors_135k_top100.pkl\", \"rb\") as f:\n",
        "  bm25_table = pickle.load(f)"
      ],
      "metadata": {
        "id": "DzAURukxOnuY"
      },
      "execution_count": 4,
      "outputs": []
    },
    {
      "cell_type": "code",
      "source": [
        "empty_count = sum(1 for list in bm25_table.values() if not list)"
      ],
      "metadata": {
        "id": "ffzGRFSqqB5v"
      },
      "execution_count": 5,
      "outputs": []
    },
    {
      "cell_type": "code",
      "source": [
        "type(bm25_table)"
      ],
      "metadata": {
        "colab": {
          "base_uri": "https://localhost:8080/"
        },
        "id": "iS-HJOwsZZy3",
        "outputId": "44280a01-5589-46b8-cddc-49010c3ea568"
      },
      "execution_count": 6,
      "outputs": [
        {
          "output_type": "execute_result",
          "data": {
            "text/plain": [
              "dict"
            ]
          },
          "metadata": {},
          "execution_count": 6
        }
      ]
    },
    {
      "cell_type": "code",
      "source": [
        "bm25_table\n"
      ],
      "metadata": {
        "colab": {
          "base_uri": "https://localhost:8080/"
        },
        "id": "TBlosJi_ZfC0",
        "outputId": "495a1091-6dd6-4f6f-e3e7-a9f7e86cb087"
      },
      "execution_count": 7,
      "outputs": [
        {
          "output_type": "execute_result",
          "data": {
            "text/plain": [
              "{17130546: [],\n",
              " 18756844: [],\n",
              " 27571369: [],\n",
              " 58963: [(8534091, 180.32747726066046)],\n",
              " 21453562: [],\n",
              " 180090: [],\n",
              " 28782949: [],\n",
              " 839075: [],\n",
              " 33197725: [],\n",
              " 22529224: [],\n",
              " 24973792: [],\n",
              " 15854661: [(15854588, 512.012408913791),\n",
              "  (15854584, 512.012408913791),\n",
              "  (15854579, 512.012408913791),\n",
              "  (15854613, 512.012408913791),\n",
              "  (15854684, 512.012408913791),\n",
              "  (15854640, 512.012408913791),\n",
              "  (15854641, 512.012408913791),\n",
              "  (15854642, 512.012408913791),\n",
              "  (15854842, 512.012408913791),\n",
              "  (15854587, 512.012408913791),\n",
              "  (15854611, 512.012408913791),\n",
              "  (15854627, 512.012408913791),\n",
              "  (15854726, 512.012408913791),\n",
              "  (15854583, 512.012408913791),\n",
              "  (15854615, 512.012408913791),\n",
              "  (15854610, 512.012408913791),\n",
              "  (15854617, 512.012408913791),\n",
              "  (15854625, 512.012408913791),\n",
              "  (15854631, 512.012408913791),\n",
              "  (15854885, 512.012408913791),\n",
              "  (15854847, 512.012408913791),\n",
              "  (15854619, 512.012408913791),\n",
              "  (15854624, 512.012408913791),\n",
              "  (15854644, 512.012408913791),\n",
              "  (15854851, 512.012408913791),\n",
              "  (15854849, 512.012408913791),\n",
              "  (15854586, 512.012408913791),\n",
              "  (15854634, 512.012408913791),\n",
              "  (15854632, 512.012408913791),\n",
              "  (15854674, 512.012408913791),\n",
              "  (15854882, 512.012408913791),\n",
              "  (15854585, 512.012408913791),\n",
              "  (15854636, 512.012408913791),\n",
              "  (15854638, 512.012408913791),\n",
              "  (15854665, 512.012408913791),\n",
              "  (15854581, 512.012408913791),\n",
              "  (15854691, 512.012408913791),\n",
              "  (15854622, 512.012408913791),\n",
              "  (15854702, 512.012408913791),\n",
              "  (15854609, 512.012408913791),\n",
              "  (15854612, 512.012408913791),\n",
              "  (15854657, 512.012408913791),\n",
              "  (15854872, 512.012408913791),\n",
              "  (15854845, 512.012408913791)],\n",
              " 389561: [],\n",
              " 1179291: [],\n",
              " 28274329: [],\n",
              " 455487: [],\n",
              " 1294122: [],\n",
              " 18584628: [],\n",
              " 17731644: [],\n",
              " 28569857: [],\n",
              " 18192642: [],\n",
              " 35184216: [],\n",
              " 28053839: [],\n",
              " 30830841: [],\n",
              " 23467: [],\n",
              " 15825819: [],\n",
              " 13389081: [],\n",
              " 25857094: [],\n",
              " 15845378: [],\n",
              " 379787: [],\n",
              " 11567696: [],\n",
              " 1510007: [],\n",
              " 21953014: [],\n",
              " 8083681: [],\n",
              " 24764069: [],\n",
              " 22993: [],\n",
              " 1235380: [(2144702, 345.4158647386649)],\n",
              " 25732192: [],\n",
              " 30353072: [(30051627, 311.965261278287)],\n",
              " 13394036: [],\n",
              " 492461: [],\n",
              " 2355009: [],\n",
              " 312131: [],\n",
              " 266111: [],\n",
              " 31746599: [],\n",
              " 20370875: [],\n",
              " 22725082: [(22232338, 303.9803248204831)],\n",
              " 23556942: [],\n",
              " 5749625: [],\n",
              " 25251585: [],\n",
              " 20349164: [],\n",
              " 4033569: [],\n",
              " 30985356: [],\n",
              " 436681: [],\n",
              " 13528328: [],\n",
              " 19304807: [(18396, 466.7977977359837)],\n",
              " 333077: [],\n",
              " 170322: [],\n",
              " 224168: [],\n",
              " 1422466: [],\n",
              " 16091917: [],\n",
              " 16005230: [],\n",
              " 1269548: [],\n",
              " 277782: [],\n",
              " 414696: [],\n",
              " 487441: [],\n",
              " 34002074: [],\n",
              " 546042: [],\n",
              " 17356880: [],\n",
              " 578937: [],\n",
              " 25465359: [],\n",
              " 11385401: [],\n",
              " 36271196: [],\n",
              " 12855203: [],\n",
              " 1102087: [(3861861, 341.6915517637841)],\n",
              " 517224: [],\n",
              " 13356020: [],\n",
              " 17262475: [],\n",
              " 210577: [],\n",
              " 247279: [],\n",
              " 31426234: [],\n",
              " 24085539: [],\n",
              " 30074528: [],\n",
              " 34272435: [],\n",
              " 22012932: [],\n",
              " 6754764: [],\n",
              " 25773142: [],\n",
              " 24796146: [],\n",
              " 1522683: [],\n",
              " 23705568: [],\n",
              " 26128119: [],\n",
              " 26102482: [],\n",
              " 26177724: [],\n",
              " 17229534: [],\n",
              " 21532158: [],\n",
              " 9839253: [],\n",
              " 23244769: [],\n",
              " 26016672: [],\n",
              " 20523208: [],\n",
              " 33978843: [],\n",
              " 30127408: [],\n",
              " 11939219: [(11409243, 562.3176529122537)],\n",
              " 35383542: [],\n",
              " 23003510: [],\n",
              " 21570311: [],\n",
              " 25092024: [],\n",
              " 22291866: [],\n",
              " 24431860: [],\n",
              " 18061789: [(17313935, 365.47474244921324)],\n",
              " 8986990: [],\n",
              " 102605: [],\n",
              " 1824478: [],\n",
              " 27214878: [],\n",
              " 1228731: [(347151, 419.9278456712401)],\n",
              " 83381: [],\n",
              " 2652056: [],\n",
              " 28815458: [],\n",
              " 15734570: [],\n",
              " 21467011: [],\n",
              " 8896918: [],\n",
              " 8048640: [],\n",
              " 10082030: [],\n",
              " 27215227: [],\n",
              " 13304482: [],\n",
              " 16217380: [],\n",
              " 16283442: [],\n",
              " 304774: [],\n",
              " 257387: [],\n",
              " 17984513: [],\n",
              " 9492307: [(1170964, 277.3374738119819)],\n",
              " 13510089: [],\n",
              " 25167983: [],\n",
              " 27137503: [],\n",
              " 34325311: [],\n",
              " 18917861: [],\n",
              " 31243446: [],\n",
              " 33412715: [],\n",
              " 18137433: [],\n",
              " 5167378: [],\n",
              " 25468692: [],\n",
              " 18994498: [(93178, 359.890687916299)],\n",
              " 125482: [],\n",
              " 663516: [],\n",
              " 30302363: [],\n",
              " 1363207: [],\n",
              " 33978158: [],\n",
              " 18397979: [],\n",
              " 19103037: [],\n",
              " 31450494: [],\n",
              " 18757482: [],\n",
              " 30972176: [],\n",
              " 24630547: [],\n",
              " 903448: [],\n",
              " 1605557: [],\n",
              " 764905: [],\n",
              " 20148886: [],\n",
              " 25364953: [],\n",
              " 10954394: [],\n",
              " 31368046: [],\n",
              " 507718: [(81240, 162.37149551337043)],\n",
              " 28248050: [],\n",
              " 210143: [],\n",
              " 2887045: [],\n",
              " 28220813: [],\n",
              " 25524669: [(25445456, 412.53540997500136)],\n",
              " 1225398: [],\n",
              " 27651676: [(27188255, 585.2753386625158)],\n",
              " 369626: [(15279, 436.09732683297216)],\n",
              " 24633970: [],\n",
              " 24395629: [],\n",
              " 32786796: [],\n",
              " 230997: [],\n",
              " 963786: [],\n",
              " 12790991: [],\n",
              " 32722119: [(32060441, 357.98392709300373)],\n",
              " 34333019: [],\n",
              " 25960284: [],\n",
              " 10588008: [],\n",
              " 26896746: [],\n",
              " 25785388: [],\n",
              " 22206739: [],\n",
              " 23121764: [(23109714, 500.58143847578435)],\n",
              " 18079352: [],\n",
              " 20754590: [],\n",
              " 20820679: [],\n",
              " 34451544: [],\n",
              " 34092831: [(34093144, 432.840994411088)],\n",
              " 3056899: [],\n",
              " 4477622: [],\n",
              " 17333249: [],\n",
              " 24400711: [],\n",
              " 29544762: [],\n",
              " 11991768: [],\n",
              " 23005717: [],\n",
              " 8584987: [],\n",
              " 226874: [(927593, 167.0658711860671)],\n",
              " 184262: [],\n",
              " 21424794: [(6426403, 227.23666750463974), (8142122, 227.23666750463974)],\n",
              " 1170269: [],\n",
              " 7824134: [],\n",
              " 17347217: [],\n",
              " 30328674: [],\n",
              " 23789655: [],\n",
              " 33555749: [],\n",
              " 332318: [],\n",
              " 159712: [],\n",
              " 11055826: [],\n",
              " 23440072: [(27226918, 323.66486725624395)],\n",
              " 23995432: [],\n",
              " 31831770: [],\n",
              " 913199: [],\n",
              " 9781070: [],\n",
              " 304444: [],\n",
              " 33004340: [],\n",
              " 26948020: [(25337337, 138.27259586603347)],\n",
              " 19348333: [(22890053, 593.2064214512058)],\n",
              " 30071982: [],\n",
              " 1356633: [],\n",
              " 350364: [],\n",
              " 22712832: [],\n",
              " 17900989: [],\n",
              " 18906187: [(21244056, 698.9127831405391)],\n",
              " 577265: [],\n",
              " 29507143: [],\n",
              " 23496164: [],\n",
              " 31346955: [],\n",
              " 6487630: [],\n",
              " 23280260: [],\n",
              " 12592907: [(81994, 174.43343994101224)],\n",
              " 29423671: [],\n",
              " 3005516: [],\n",
              " 12198491: [],\n",
              " 26209943: [],\n",
              " 538561: [],\n",
              " 12547904: [],\n",
              " 339390: [],\n",
              " 15797215: [],\n",
              " 14361188: [],\n",
              " 19535465: [],\n",
              " 25773769: [],\n",
              " 253986: [],\n",
              " 2562627: [],\n",
              " 13109939: [(12825113, 390.5716558845047)],\n",
              " 29480560: [],\n",
              " 8500659: [],\n",
              " 24102249: [],\n",
              " 17252433: [],\n",
              " 568239: [],\n",
              " 8130864: [],\n",
              " 1181819: [],\n",
              " 91040: [],\n",
              " 23521646: [],\n",
              " 22749896: [],\n",
              " 836624: [],\n",
              " 22329411: [],\n",
              " 23531449: [],\n",
              " 25622395: [],\n",
              " 50432: [],\n",
              " 16102423: [],\n",
              " 16104751: [],\n",
              " 34979: [],\n",
              " 24013955: [(198259, 528.9002658685584)],\n",
              " 11358099: [],\n",
              " 15679941: [],\n",
              " 18289391: [],\n",
              " 13177620: [(3392123, 361.8518701286387)],\n",
              " 3466291: [],\n",
              " 32938319: [],\n",
              " 164334: [],\n",
              " 27396223: [],\n",
              " 18154199: [],\n",
              " 26000464: [],\n",
              " 138222: [],\n",
              " 1864505: [],\n",
              " 17928752: [],\n",
              " 24917833: [],\n",
              " 29566200: [(31695838, 177.0220089264415)],\n",
              " 36118581: [],\n",
              " 29360642: [],\n",
              " 29367097: [(27413609, 328.84431148904207)],\n",
              " 18143830: [],\n",
              " 25897714: [],\n",
              " 1695292: [],\n",
              " 18210406: [],\n",
              " 32904192: [],\n",
              " 83679: [],\n",
              " 7226: [],\n",
              " 2013402: [],\n",
              " 13588086: [],\n",
              " 2439929: [],\n",
              " 24603004: [],\n",
              " 1829880: [],\n",
              " 23153256: [],\n",
              " 22698577: [],\n",
              " 29981093: [],\n",
              " 11279563: [],\n",
              " 17203058: [],\n",
              " 26086272: [],\n",
              " 25855327: [],\n",
              " 13595657: [],\n",
              " 20759634: [],\n",
              " 2800049: [],\n",
              " 25460894: [],\n",
              " 6850462: [],\n",
              " 21417539: [],\n",
              " 29230027: [],\n",
              " 29439801: [],\n",
              " 24278296: [],\n",
              " 29613699: [],\n",
              " 23569712: [],\n",
              " 12728722: [],\n",
              " 29499044: [],\n",
              " 23358739: [],\n",
              " 38276: [],\n",
              " 30642416: [],\n",
              " 17158028: [],\n",
              " 9190794: [],\n",
              " 48454: [],\n",
              " 30314048: [],\n",
              " 53305: [],\n",
              " 1540695: [],\n",
              " 1054074: [],\n",
              " 18867736: [],\n",
              " 30139738: [],\n",
              " 21946348: [(22369042, 515.9132529242021)],\n",
              " 27426188: [(25066765, 416.1033518106589)],\n",
              " 35425675: [],\n",
              " 7121416: [],\n",
              " 22686870: [],\n",
              " 6986112: [],\n",
              " 703765: [],\n",
              " 22450128: [],\n",
              " 35214064: [],\n",
              " 17693722: [],\n",
              " 34885987: [],\n",
              " 22902246: [],\n",
              " 13550738: [(13091552, 385.4059253285632), (12059093, 358.01657269746835)],\n",
              " 2975905: [],\n",
              " 31129482: [],\n",
              " 151413: [],\n",
              " 10202514: [(7952232, 394.3144527237121)],\n",
              " 19540808: [],\n",
              " 25863262: [],\n",
              " 422913: [],\n",
              " 755107: [],\n",
              " 6859525: [],\n",
              " 28544249: [],\n",
              " 23337386: [],\n",
              " 196254: [],\n",
              " 9454867: [],\n",
              " 35711177: [],\n",
              " 2298617: [],\n",
              " 26102022: [],\n",
              " 35918500: [],\n",
              " 36145572: [(35742824, 339.2545190848912), (28948431, 339.2545190848912)],\n",
              " 904688: [],\n",
              " 24135753: [],\n",
              " 2084526: [],\n",
              " 34886124: [],\n",
              " 25857371: [(23688106, 470.2204141550284)],\n",
              " 2108248: [],\n",
              " 232471: [],\n",
              " 6631806: [],\n",
              " 725969: [],\n",
              " 20990490: [],\n",
              " 22799171: [],\n",
              " 17252836: [],\n",
              " 5058668: [],\n",
              " 28232742: [],\n",
              " 30185165: [],\n",
              " 771216: [],\n",
              " 29612306: [(29227804, 446.3084855815769)],\n",
              " 25241912: [],\n",
              " 1046304: [(612401, 468.4550917212966)],\n",
              " 8629: [(13100170, 322.47439451789273),\n",
              "  (8627, 322.47439451789273),\n",
              "  (77430, 322.47439451789273)],\n",
              " 5427414: [],\n",
              " 31492960: [],\n",
              " 22677363: [],\n",
              " 5569081: [],\n",
              " 5970359: [],\n",
              " 23732540: [],\n",
              " 27997291: [],\n",
              " 1046501: [],\n",
              " 18799988: [(2903049, 313.5246091540764)],\n",
              " 25705770: [],\n",
              " 18680477: [],\n",
              " 33143081: [],\n",
              " 457234: [],\n",
              " 509898: [],\n",
              " 22119669: [],\n",
              " 13542760: [],\n",
              " 31920774: [],\n",
              " 3069570: [],\n",
              " 18223763: [],\n",
              " 12542394: [],\n",
              " 9977135: [],\n",
              " 3425080: [],\n",
              " 28247396: [],\n",
              " 18607838: [],\n",
              " 23203522: [],\n",
              " 13790945: [],\n",
              " 14287205: [],\n",
              " 17910199: [],\n",
              " 198968: [],\n",
              " 30326748: [],\n",
              " 23546859: [],\n",
              " 12793492: [],\n",
              " 24400173: [],\n",
              " 25743087: [],\n",
              " 26113072: [],\n",
              " 6647523: [],\n",
              " 24582662: [],\n",
              " 16090319: [],\n",
              " 2343374: [],\n",
              " 7767659: [],\n",
              " 1971962: [],\n",
              " 259685: [],\n",
              " 27189116: [],\n",
              " 20565572: [],\n",
              " 20627874: [],\n",
              " 2591058: [],\n",
              " 34962767: [],\n",
              " 966199: [],\n",
              " 30524554: [],\n",
              " 32319718: [],\n",
              " 25647507: [],\n",
              " 639055: [],\n",
              " 2359416: [],\n",
              " 26800383: [],\n",
              " 1219597: [],\n",
              " 108076: [],\n",
              " 7733217: [],\n",
              " 11235603: [],\n",
              " 580270: [],\n",
              " 25347049: [],\n",
              " 146283: [],\n",
              " 34840: [],\n",
              " 1194087: [],\n",
              " 1452834: [],\n",
              " 2013343: [],\n",
              " 11251182: [(9510753, 357.6671202920286)],\n",
              " 33404903: [],\n",
              " 35006950: [],\n",
              " 31626073: [],\n",
              " 33098673: [],\n",
              " 35913078: [],\n",
              " 32904509: [],\n",
              " 11753458: [(271534, 10.955291224071606),\n",
              "  (23434364, 10.73859207263964),\n",
              "  (2688432, 10.73859207263964),\n",
              "  (23311285, 10.73859207263964),\n",
              "  (6979310, 10.71243512418848),\n",
              "  (25656784, 10.659849717843818),\n",
              "  (16248095, 10.594356576672112),\n",
              "  (20175764, 10.51739042215735),\n",
              "  (33897635, 10.441534493448708),\n",
              "  (591088, 10.337822997759202),\n",
              "  (347225, 10.257049704329322),\n",
              "  (17220622, 10.196398502224065),\n",
              "  (133031, 10.11373809756846),\n",
              "  (13498930, 10.105600730722644),\n",
              "  (6366271, 10.020401328795518),\n",
              "  (11810126, 10.012413404403016),\n",
              "  (6753381, 10.012413404403016),\n",
              "  (43561, 9.928771562767055),\n",
              "  (19489001, 9.92092900155587),\n",
              "  (19034958, 9.92092900155587),\n",
              "  (7110248, 9.838802395671427),\n",
              "  (1375054, 9.838802395671427),\n",
              "  (240065, 9.831101265496919),\n",
              "  (47697, 9.831101265496919),\n",
              "  (25117020, 9.750449090538122),\n",
              "  (11381638, 9.742885599809265),\n",
              "  (545952, 9.663668503061968),\n",
              "  (24494, 9.663668503061968),\n",
              "  (6465950, 9.663668503061968),\n",
              "  (15789474, 9.663668503061968),\n",
              "  (25652703, 9.656238994516938),\n",
              "  (2251815, 9.656238994516938),\n",
              "  (523694, 9.600383126297725),\n",
              "  (6937127, 9.567474598560533),\n",
              "  (671477, 9.483906499264126),\n",
              "  (11815263, 9.459935110803404),\n",
              "  (11562342, 9.433562316037923),\n",
              "  (26030214, 9.378227061197675),\n",
              "  (6482439, 9.371733649122243),\n",
              "  (107011, 9.352307252921877),\n",
              "  (430450, 9.352307252921877),\n",
              "  (1363829, 9.352307252921877),\n",
              "  (13068991, 9.291535678450524),\n",
              "  (366874, 9.272440001051995),\n",
              "  (103655, 9.272440001051995),\n",
              "  (6237451, 9.271453616748518),\n",
              "  (25495170, 9.21269863901669),\n",
              "  (5852045, 9.21269863901669),\n",
              "  (7464348, 9.192955554998413),\n",
              "  (883281, 9.096919999370481),\n",
              "  (6472148, 9.096919999370481),\n",
              "  (139321, 9.090336081995153),\n",
              "  (14179, 9.087047695859004),\n",
              "  (22322957, 9.040818443647616),\n",
              "  (25100, 9.021337500006211),\n",
              "  (991413, 9.021337500006211),\n",
              "  (433255, 8.989982365807961),\n",
              "  (18897662, 8.989982365807961),\n",
              "  (102324, 8.989982365807961),\n",
              "  (12477413, 8.989982365807961),\n",
              "  (18610550, 8.979883676879863),\n",
              "  (111651, 8.966161492917172),\n",
              "  (7575666, 8.966161492917172),\n",
              "  (279229, 8.966161492917172),\n",
              "  (79122, 8.966161492917172),\n",
              "  (15644581, 8.91028970047599),\n",
              "  (18623238, 8.91028970047599),\n",
              "  (13561733, 8.91028970047599),\n",
              "  (18072962, 8.91028970047599),\n",
              "  (32592590, 8.91028970047599),\n",
              "  (19061144, 8.892727442814774),\n",
              "  (543441, 8.89182018661608),\n",
              "  (17612524, 8.801942534652307),\n",
              "  (8364043, 8.792699765874154),\n",
              "  (10865073, 8.792699765874154),\n",
              "  (6311161, 8.776641862946457),\n",
              "  (52087, 8.772091418709104),\n",
              "  (27753931, 8.749409792869802),\n",
              "  (8489908, 8.749409792869802),\n",
              "  (351663, 8.749409792869802),\n",
              "  (6602286, 8.749409792869802),\n",
              "  (1720975, 8.749409792869802),\n",
              "  (30731778, 8.749409792869802),\n",
              "  (68316, 8.749409792869802),\n",
              "  (8527754, 8.749409792869802),\n",
              "  (2070476, 8.696198668754336),\n",
              "  (24415803, 8.696198668754336),\n",
              "  (7885902, 8.696198668754336),\n",
              "  (1093525, 8.696198668754336),\n",
              "  (141495, 8.679469430392027),\n",
              "  (1282380, 8.679469430392027),\n",
              "  (153296, 8.679469430392027),\n",
              "  (1024291, 8.679469430392027),\n",
              "  (899608, 8.679469430392027),\n",
              "  (647652, 8.679469430392027),\n",
              "  (489946, 8.610638368308807),\n",
              "  (77727, 8.610638368308807),\n",
              "  (33306020, 8.610638368308807),\n",
              "  (475040, 8.592965390829994)],\n",
              " 33584564: [],\n",
              " 27135580: [],\n",
              " 1963542: [],\n",
              " 25261196: [],\n",
              " 15712043: [],\n",
              " 24835247: [],\n",
              " 33099926: [],\n",
              " 18906879: [],\n",
              " 27415837: [],\n",
              " 6456767: [],\n",
              " 33546007: [],\n",
              " 4095139: [],\n",
              " 15950407: [(12875260, 464.0071523927876)],\n",
              " 6647700: [],\n",
              " 19140549: [],\n",
              " 30037411: [],\n",
              " 23272427: [],\n",
              " 174682: [],\n",
              " 21244056: [(18906187, 698.9127831405391)],\n",
              " 33024905: [],\n",
              " 35217124: [],\n",
              " 28778324: [],\n",
              " 15698948: [],\n",
              " 7687638: [(6416903, 312.40202355204184)],\n",
              " 254947: [],\n",
              " 30819223: [],\n",
              " 25791098: [(27310288, 277.5145909081832)],\n",
              " 31431850: [],\n",
              " 22541787: [],\n",
              " 20642443: [(18737227, 468.205343435993)],\n",
              " 75894: [],\n",
              " 25179841: [],\n",
              " 19009692: [(558649, 331.81998198582613)],\n",
              " 12849532: [],\n",
              " 400068: [],\n",
              " 22723660: [],\n",
              " 18775496: [],\n",
              " 26824075: [(23910820, 639.6580654291344)],\n",
              " 53424: [],\n",
              " 2105206: [],\n",
              " 1634392: [],\n",
              " 1908065: [],\n",
              " 29245852: [],\n",
              " 27836107: [],\n",
              " 23381741: [],\n",
              " 21814518: [],\n",
              " 23280114: [],\n",
              " 35437068: [],\n",
              " 25817647: [(25679850, 353.9308474550986)],\n",
              " 891077: [],\n",
              " 2105338: [(6628514, 577.773299793088),\n",
              "  (141499, 577.773299793088),\n",
              "  (5602302, 577.773299793088)],\n",
              " 22574074: [],\n",
              " 34653121: [],\n",
              " 136356: [],\n",
              " 18934934: [(16064899, 385.8539537872884)],\n",
              " 258620: [(16377, 384.73002556499665)],\n",
              " 23838629: [],\n",
              " 15819195: [],\n",
              " 327999: [],\n",
              " 102492: [],\n",
              " 10390347: [],\n",
              " 871506: [],\n",
              " 24945941: [],\n",
              " 33003508: [],\n",
              " 11220979: [],\n",
              " 27268585: [],\n",
              " 25223427: [],\n",
              " 635190: [],\n",
              " 2225261: [],\n",
              " 22730501: [],\n",
              " 19196088: [(18111194, 213.9222286849229)],\n",
              " 29334581: [(25986552, 380.61342165527714),\n",
              "  (29334577, 380.61342165527714),\n",
              "  (25986551, 380.61342165527714),\n",
              "  (29334580, 380.61342165527714)],\n",
              " 34233797: [],\n",
              " 13255189: [(11261730, 264.70677943165003)],\n",
              " 23235617: [],\n",
              " 615628: [],\n",
              " 26785741: [],\n",
              " 30753647: [],\n",
              " 735860: [],\n",
              " 12002565: [],\n",
              " 650762: [],\n",
              " 244487: [],\n",
              " 16052624: [],\n",
              " 29411901: [],\n",
              " 132690: [],\n",
              " 23275224: [],\n",
              " 337104: [],\n",
              " 12802858: [],\n",
              " 25538635: [],\n",
              " 35134224: [],\n",
              " 33976414: [],\n",
              " 1101078: [],\n",
              " 673249: [],\n",
              " 127310: [],\n",
              " 11911: [],\n",
              " 184512: [],\n",
              " 13083482: [(12549400, 461.8388626317793)],\n",
              " 15891365: [],\n",
              " 914229: [(246422, 662.4474332990761)],\n",
              " 1276366: [],\n",
              " 12483736: [],\n",
              " 28384501: [],\n",
              " 30136308: [],\n",
              " 36153088: [],\n",
              " 29412198: [],\n",
              " 22609137: [],\n",
              " 34859095: [(35847783, 340.72711176214113)],\n",
              " 13380350: [],\n",
              " 2946563: [],\n",
              " 32469790: [(31472215, 348.077858623307)],\n",
              " 32686298: [],\n",
              " 182646: [],\n",
              " 423922: [],\n",
              " 22016842: [],\n",
              " 28809507: [],\n",
              " 398490: [],\n",
              " 25846252: [],\n",
              " 10482153: [],\n",
              " 26006465: [],\n",
              " 9760863: [],\n",
              " 24322945: [],\n",
              " 19418047: [(18667928, 425.32108954545856)],\n",
              " 8533276: [],\n",
              " 8352803: [],\n",
              " 16170459: [],\n",
              " 341709: [],\n",
              " 602037: [],\n",
              " 32945740: [],\n",
              " 6397018: [],\n",
              " 36320151: [],\n",
              " 5143423: [],\n",
              " 20534719: [(2638810, 365.1919811771507)],\n",
              " 17742802: [],\n",
              " 16072498: [],\n",
              " 22341265: [(22226739, 407.1317247228437)],\n",
              " 34751015: [],\n",
              " 25821977: [],\n",
              " 36055098: [],\n",
              " 263888: [],\n",
              " 33812337: [],\n",
              " 18151778: [],\n",
              " 28816994: [],\n",
              " 15851414: [],\n",
              " 18607820: [],\n",
              " 329854: [],\n",
              " 26197457: [],\n",
              " 450860: [],\n",
              " 2303915: [],\n",
              " 57627: [],\n",
              " 134802: [],\n",
              " 490981: [],\n",
              " 264463: [],\n",
              " 795487: [],\n",
              " 30988887: [],\n",
              " 18933674: [(17533, 202.83059243659412)],\n",
              " 935938: [],\n",
              " 2273669: [],\n",
              " 1787270: [],\n",
              " 2382124: [],\n",
              " 10852203: [],\n",
              " 272236: [],\n",
              " 25664457: [],\n",
              " 119124: [],\n",
              " 36319: [],\n",
              " 306233: [],\n",
              " 10809391: [],\n",
              " 13579958: [],\n",
              " 27411249: [],\n",
              " 159058: [],\n",
              " 18144002: [],\n",
              " 23786655: [],\n",
              " 20988577: [],\n",
              " 636402: [],\n",
              " 461578: [],\n",
              " 20699192: [],\n",
              " 18143737: [],\n",
              " 37572: [],\n",
              " 23569447: [],\n",
              " 1372763: [],\n",
              " 8179361: [(6289926, 346.1781043742231)],\n",
              " 262201: [],\n",
              " 6974370: [],\n",
              " 29187070: [],\n",
              " 22888200: [(410047, 307.592492855152)],\n",
              " 130079: [],\n",
              " 6430299: [],\n",
              " 15792610: [],\n",
              " 31187223: [],\n",
              " 36243954: [],\n",
              " 22609616: [(25111307, 245.6206071082774),\n",
              "  (21412475, 245.6206071082774),\n",
              "  (23492439, 245.6206071082774)],\n",
              " 25290307: [(21539466, 396.47001509759355)],\n",
              " 22635826: [],\n",
              " 22822954: [],\n",
              " 703101: [],\n",
              " 25814271: [],\n",
              " 7965441: [],\n",
              " 602809: [],\n",
              " 29633970: [],\n",
              " 27261361: [],\n",
              " 953575: [],\n",
              " 33527682: [(33296634, 331.55515743121566)],\n",
              " 17380057: [],\n",
              " 1995521: [],\n",
              " 13825995: [],\n",
              " 32709734: [],\n",
              " 28366331: [],\n",
              " 18341125: [],\n",
              " 890930: [(15956699, 457.9516990823173),\n",
              "  (198428, 457.9516990823173),\n",
              "  (525929, 411.55496513343616)],\n",
              " 29159409: [],\n",
              " 758487: [],\n",
              " 27850902: [],\n",
              " 17207021: [],\n",
              " 21945923: [],\n",
              " 612627: [],\n",
              " 23674812: [(23853020, 488.9802443682055)],\n",
              " 1155287: [(39980, 270.48125444717675)],\n",
              " 91150: [],\n",
              " 34743618: [],\n",
              " 33891167: [],\n",
              " 11343750: [],\n",
              " 558644: [],\n",
              " 23604448: [],\n",
              " 34523598: [],\n",
              " 336297: [],\n",
              " 23794845: [],\n",
              " 22216215: [],\n",
              " 231793: [],\n",
              " 17247665: [(17210417, 371.0790001259219)],\n",
              " 8666745: [],\n",
              " 16255307: [],\n",
              " 21412052: [],\n",
              " 22875108: [],\n",
              " 25984776: [],\n",
              " 12909203: [],\n",
              " 25208493: [(25178951, 352.60941472753746)],\n",
              " 22692746: [],\n",
              " 23384122: [],\n",
              " 27587555: [],\n",
              " 26852104: [],\n",
              " 6002537: [],\n",
              " 13335662: [],\n",
              " 3369902: [],\n",
              " 25860949: [],\n",
              " 28358128: [],\n",
              " 25733526: [],\n",
              " 6893017: [],\n",
              " 96648: [],\n",
              " 31746903: [],\n",
              " 587720: [],\n",
              " 13689266: [],\n",
              " 28793866: [],\n",
              " 1669667: [],\n",
              " 20702179: [],\n",
              " 31570350: [],\n",
              " 18894412: [(18685963, 141.6557023789217),\n",
              "  (18869171, 141.6557023789217),\n",
              "  (18940040, 141.6557023789217),\n",
              "  (18919840, 141.6557023789217),\n",
              "  (19094681, 141.6557023789217),\n",
              "  (16052520, 141.6557023789217),\n",
              "  (18880794, 141.6557023789217),\n",
              "  (18626856, 141.6557023789217),\n",
              "  (18857699, 141.6557023789217),\n",
              "  (20499404, 141.6557023789217),\n",
              "  (18747267, 141.6557023789217),\n",
              "  (22711220, 141.6557023789217),\n",
              "  (18824486, 141.6557023789217),\n",
              "  (18919843, 141.6557023789217),\n",
              "  (20351058, 141.6557023789217),\n",
              "  (18626867, 141.6557023789217),\n",
              "  (18625331, 141.6557023789217),\n",
              "  (18682791, 141.6557023789217),\n",
              "  (18116096, 141.6557023789217),\n",
              "  (18711439, 141.6557023789217),\n",
              "  (18881154, 141.6557023789217),\n",
              "  (920649, 120.33150659741234),\n",
              "  (8340956, 112.10836620199213),\n",
              "  (15845322, 87.24911123255717),\n",
              "  (18885514, 83.00775226575664)],\n",
              " 13492955: [(13515347, 328.5372783033261)],\n",
              " 5024121: [],\n",
              " 632272: [],\n",
              " 11517305: [],\n",
              " 536024: [],\n",
              " 22216201: [],\n",
              " 248684: [],\n",
              " 57630: [],\n",
              " 29452185: [(29543327, 535.7923570954024)],\n",
              " 18079511: [],\n",
              " 35096941: [],\n",
              " 1120616: [],\n",
              " 27281784: [],\n",
              " 1145867: [],\n",
              " 22609121: [],\n",
              " 5981231: [],\n",
              " 99428: [],\n",
              " 150271: [],\n",
              " 13356664: [],\n",
              " 34228009: [],\n",
              " 1510575: [],\n",
              " 13038017: [],\n",
              " 13592869: [],\n",
              " 6927755: [],\n",
              " 2019312: [],\n",
              " 514303: [],\n",
              " 3276611: [],\n",
              " 30736659: [],\n",
              " 21851414: [],\n",
              " 6492746: [],\n",
              " 40170: [],\n",
              " 2588817: [],\n",
              " 21192535: [],\n",
              " 15814047: [],\n",
              " 20318207: [],\n",
              " 271103: [],\n",
              " 35846869: [],\n",
              " 9661893: [],\n",
              " 1360496: [],\n",
              " 31850603: [],\n",
              " 24568450: [],\n",
              " 26890611: [],\n",
              " 25035079: [],\n",
              " 17931841: [],\n",
              " 8815059: [],\n",
              " 22129317: [],\n",
              " 16044980: [],\n",
              " 20886785: [],\n",
              " 24602702: [],\n",
              " 15854674: [(15854588, 512.012408913791),\n",
              "  (15854584, 512.012408913791),\n",
              "  (15854579, 512.012408913791),\n",
              "  (15854613, 512.012408913791),\n",
              "  (15854684, 512.012408913791),\n",
              "  (15854640, 512.012408913791),\n",
              "  (15854641, 512.012408913791),\n",
              "  (15854642, 512.012408913791),\n",
              "  (15854842, 512.012408913791),\n",
              "  (15854587, 512.012408913791),\n",
              "  (15854611, 512.012408913791),\n",
              "  (15854627, 512.012408913791),\n",
              "  (15854726, 512.012408913791),\n",
              "  (15854583, 512.012408913791),\n",
              "  (15854615, 512.012408913791),\n",
              "  (15854610, 512.012408913791),\n",
              "  (15854617, 512.012408913791),\n",
              "  (15854625, 512.012408913791),\n",
              "  (15854631, 512.012408913791),\n",
              "  (15854885, 512.012408913791),\n",
              "  (15854847, 512.012408913791),\n",
              "  (15854619, 512.012408913791),\n",
              "  (15854624, 512.012408913791),\n",
              "  (15854644, 512.012408913791),\n",
              "  (15854851, 512.012408913791),\n",
              "  (15854849, 512.012408913791),\n",
              "  (15854586, 512.012408913791),\n",
              "  (15854634, 512.012408913791),\n",
              "  (15854632, 512.012408913791),\n",
              "  (15854882, 512.012408913791),\n",
              "  (15854585, 512.012408913791),\n",
              "  (15854636, 512.012408913791),\n",
              "  (15854638, 512.012408913791),\n",
              "  (15854665, 512.012408913791),\n",
              "  (15854581, 512.012408913791),\n",
              "  (15854691, 512.012408913791),\n",
              "  (15854622, 512.012408913791),\n",
              "  (15854702, 512.012408913791),\n",
              "  (15854609, 512.012408913791),\n",
              "  (15854612, 512.012408913791),\n",
              "  (15854657, 512.012408913791),\n",
              "  (15854661, 512.012408913791),\n",
              "  (15854872, 512.012408913791),\n",
              "  (15854845, 512.012408913791)],\n",
              " 30174129: [],\n",
              " 18519603: [],\n",
              " 28679969: [],\n",
              " 23252603: [(22504500, 438.9832904667809)],\n",
              " 23381519: [(23532125, 320.3562820004474)],\n",
              " 26072632: [],\n",
              " 23159703: [],\n",
              " 27797373: [],\n",
              " 25350543: [],\n",
              " 24238629: [],\n",
              " 1292145: [],\n",
              " 12805349: [],\n",
              " 456948: [],\n",
              " 13435263: [],\n",
              " 35022132: [],\n",
              " 620628: [],\n",
              " 32048752: [],\n",
              " 23299619: [],\n",
              " 2097584: [],\n",
              " 22495568: [(21432315, 418.0927686202158)],\n",
              " 33847260: [],\n",
              " 33891271: [],\n",
              " 289452: [],\n",
              " 7606718: [],\n",
              " 13410587: [],\n",
              " 15725723: [],\n",
              " 16172256: [],\n",
              " 28733918: [],\n",
              " 21423325: [],\n",
              " 13001085: [],\n",
              " 7988764: [],\n",
              " 10234967: [],\n",
              " 356163: [(2065846, 209.5170312028769)],\n",
              " 24357029: [],\n",
              " 17623: [],\n",
              " 216318: [],\n",
              " 26114212: [],\n",
              " 27969259: [],\n",
              " 454293: [],\n",
              " 30721857: [],\n",
              " 23667809: [(23987615, 516.3482243435573)],\n",
              " 30838588: [],\n",
              " 35273346: [],\n",
              " 480375: [],\n",
              " 33859775: [],\n",
              " 308463: [],\n",
              " 19029493: [],\n",
              " 1737350: [],\n",
              " 6746261: [],\n",
              " 13015889: [],\n",
              " 35847783: [(34859095, 340.72711176214113)],\n",
              " 9149838: [],\n",
              " 30901111: [],\n",
              " 31443696: [],\n",
              " 18730559: [],\n",
              " 23515038: [],\n",
              " 818320: [],\n",
              " 682347: [],\n",
              " 22546587: [],\n",
              " 22014057: [],\n",
              " 255777: [],\n",
              " 18656192: [],\n",
              " 23010836: [],\n",
              " 1117105: [],\n",
              " 1075535: [],\n",
              " 13547858: [(13547859, 172.62760675903513)],\n",
              " 25042189: [],\n",
              " 1474118: [],\n",
              " 12099809: [],\n",
              " 4725217: [],\n",
              " 31119325: [],\n",
              " 11881807: [],\n",
              " 27825277: [],\n",
              " 18461905: [],\n",
              " 6969547: [],\n",
              " 24239506: [],\n",
              " 29371425: [],\n",
              " 1124081: [],\n",
              " 1539152: [],\n",
              " 1418594: [],\n",
              " 23396783: [],\n",
              " 1007865: [],\n",
              " 33412189: [],\n",
              " 35589284: [],\n",
              " 425709: [],\n",
              " 23351836: [],\n",
              " 25250498: [],\n",
              " 57964: [],\n",
              " 22962483: [],\n",
              " 13183153: [],\n",
              " 25534877: [],\n",
              " 8391505: [],\n",
              " 19305980: [(17557522, 351.3217637841488)],\n",
              " 27410867: [],\n",
              " 2145638: [],\n",
              " 22609228: [],\n",
              " 6789142: [],\n",
              " 30528852: [],\n",
              " 28239364: [],\n",
              " 13616568: [],\n",
              " 22881404: [],\n",
              " 2340575: [],\n",
              " 11219: [],\n",
              " 30517306: [],\n",
              " 18939489: [(13497711, 312.71756591813397)],\n",
              " 33147700: [],\n",
              " 2186195: [],\n",
              " 945413: [],\n",
              " 23223155: [],\n",
              " 18939482: [],\n",
              " 103802: [],\n",
              " 25470309: [],\n",
              " 23481645: [],\n",
              " 12385168: [],\n",
              " 24690452: [(22675928, 222.19707132603378)],\n",
              " 18479072: [],\n",
              " 939475: [(939456, 21.738868752622892), (24662511, 7.335107347919832)],\n",
              " 1039529: [],\n",
              " 32497985: [],\n",
              " 30352738: [],\n",
              " 20489142: [],\n",
              " 983891: [],\n",
              " 409930: [],\n",
              " 25489282: [],\n",
              " 10005528: [],\n",
              " 18813444: [],\n",
              " 18105236: [],\n",
              " 35268619: [],\n",
              " 13338730: [],\n",
              " 6584009: [],\n",
              " 32569117: [],\n",
              " 504836: [],\n",
              " 22387957: [],\n",
              " 6294290: [],\n",
              " 433951: [],\n",
              " 26865430: [],\n",
              " 26500446: [(17051975, 367.7345165759399)],\n",
              " 545914: [],\n",
              " 30531073: [],\n",
              " 22844784: [],\n",
              " 22874174: [],\n",
              " 15257: [],\n",
              " 884469: [],\n",
              " 456644: [],\n",
              " 243104: [],\n",
              " 30179016: [],\n",
              " 30040602: [],\n",
              " 19300117: [],\n",
              " 17126291: [(10814946, 477.4011384673681)],\n",
              " 440694: [(7362169, 218.86757426257572)],\n",
              " 28458637: [],\n",
              " 185209: [],\n",
              " 26129302: [],\n",
              " 6465160: [],\n",
              " 28205413: [],\n",
              " 678717: [],\n",
              " 26494684: [],\n",
              " 25649238: [(29398235, 402.0186179520364), (25400043, 402.0186179520364)],\n",
              " 23206317: [],\n",
              " 23597748: [],\n",
              " 29429968: [],\n",
              " 6251560: [(105725, 397.39686729080614)],\n",
              " 2300582: [],\n",
              " 18297058: [],\n",
              " 17306492: [],\n",
              " 545937: [],\n",
              " 30962057: [],\n",
              " 6647947: [],\n",
              " 29889251: [],\n",
              " 3256232: [],\n",
              " 6602841: [(50756, 318.82733655072997)],\n",
              " 13532165: [],\n",
              " 35212640: [],\n",
              " 655261: [],\n",
              " 666456: [],\n",
              " 5913040: [],\n",
              " 7055912: [],\n",
              " 34228074: [],\n",
              " 22852231: [],\n",
              " 27608701: [],\n",
              " 189082: [],\n",
              " 17448308: [],\n",
              " 26896167: [],\n",
              " 21847488: [],\n",
              " 29626635: [],\n",
              " 28384607: [],\n",
              " 17048483: [(33279884, 605.0854632085052)],\n",
              " 17382850: [],\n",
              " 1152352: [],\n",
              " 15864578: [],\n",
              " 24000640: [],\n",
              " 14546630: [],\n",
              " 25562940: [],\n",
              " 732184: [],\n",
              " 1013666: [],\n",
              " 12798227: [],\n",
              " 2887503: [],\n",
              " 35064571: [],\n",
              " 19226723: [],\n",
              " 3169706: [],\n",
              " 25863350: [],\n",
              " 2518259: [],\n",
              " 287864: [],\n",
              " 27241875: [],\n",
              " 35013725: [],\n",
              " 28815485: [(28534084, 564.5193824783543)],\n",
              " 18148552: [],\n",
              " 11270740: [],\n",
              " 27782684: [],\n",
              " 1710194: [],\n",
              " 29330565: [],\n",
              " 12898756: [],\n",
              " 6753381: [],\n",
              " 23583854: [],\n",
              " 12909247: [],\n",
              " 18598129: [],\n",
              " 12577730: [],\n",
              " 15870133: [],\n",
              " 25711380: [],\n",
              " 22552073: [],\n",
              " 33003943: [],\n",
              " 840074: [],\n",
              " 215956: [],\n",
              " 2257375: [],\n",
              " 29282740: [],\n",
              " 33865925: [],\n",
              " 18908462: [],\n",
              " 292677: [],\n",
              " 3725985: [],\n",
              " 36050048: [],\n",
              " 18663370: [],\n",
              " 6486803: [],\n",
              " 10406893: [],\n",
              " 2314756: [],\n",
              " 20808557: [],\n",
              " 2253264: [],\n",
              " 18754870: [],\n",
              " 232881: [],\n",
              " 23199385: [],\n",
              " 34533956: [],\n",
              " 11316879: [(8492825, 327.7120582346579), (10814419, 327.7120582346579)],\n",
              " 16054234: [],\n",
              " 25755296: [],\n",
              " 24361482: [(24145149, 444.88251528743274)],\n",
              " 1714018: [],\n",
              " 28789465: [],\n",
              " 584853: [],\n",
              " ...}"
            ]
          },
          "metadata": {},
          "execution_count": 7
        }
      ]
    },
    {
      "cell_type": "code",
      "source": [
        "print(empty_count)"
      ],
      "metadata": {
        "colab": {
          "base_uri": "https://localhost:8080/"
        },
        "id": "9symr8idqByY",
        "outputId": "55c7d5f8-eee4-43fa-bca7-62f904f8ef8b"
      },
      "execution_count": null,
      "outputs": [
        {
          "output_type": "stream",
          "name": "stdout",
          "text": [
            "109300\n"
          ]
        }
      ]
    },
    {
      "cell_type": "code",
      "source": [
        "len(bm25_table) - empty_count"
      ],
      "metadata": {
        "colab": {
          "base_uri": "https://localhost:8080/"
        },
        "id": "Ge5modJ5qnhn",
        "outputId": "30197fca-2928-49e9-ffe4-9ee245a862d7"
      },
      "execution_count": null,
      "outputs": [
        {
          "output_type": "execute_result",
          "data": {
            "text/plain": [
              "12924"
            ]
          },
          "metadata": {},
          "execution_count": 16
        }
      ]
    },
    {
      "cell_type": "markdown",
      "source": [
        "##Using Sentence Transformer"
      ],
      "metadata": {
        "id": "a38s4OtDo6Qb"
      }
    },
    {
      "cell_type": "code",
      "source": [
        "import pandas as pd\n",
        "try:\n",
        "  books_df = pd.read_parquet(\"/content/drive/MyDrive/Book item-item/135k_books_lemmatized_description.parquet\")\n",
        "except Exception as e:\n",
        "  print(f\"Error loading Dataframe: {e}\")\n",
        "except FileNotFoundError as e:\n",
        "  print(f\"Error loading Dataframe: {e}\")"
      ],
      "metadata": {
        "id": "bLlOsTJE6Z3m"
      },
      "execution_count": null,
      "outputs": []
    },
    {
      "cell_type": "code",
      "source": [
        "!pip install sentence_transformers faiss-cpu tqdm"
      ],
      "metadata": {
        "id": "nARLDfyFAT-Z",
        "outputId": "1fabf2e6-fb85-4e93-c947-e44b46db3f61",
        "colab": {
          "base_uri": "https://localhost:8080/"
        }
      },
      "execution_count": null,
      "outputs": [
        {
          "output_type": "stream",
          "name": "stdout",
          "text": [
            "Requirement already satisfied: sentence_transformers in /usr/local/lib/python3.11/dist-packages (4.1.0)\n",
            "Collecting faiss-cpu\n",
            "  Downloading faiss_cpu-1.11.0-cp311-cp311-manylinux_2_28_x86_64.whl.metadata (4.8 kB)\n",
            "Requirement already satisfied: tqdm in /usr/local/lib/python3.11/dist-packages (4.67.1)\n",
            "Requirement already satisfied: transformers<5.0.0,>=4.41.0 in /usr/local/lib/python3.11/dist-packages (from sentence_transformers) (4.51.3)\n",
            "Requirement already satisfied: torch>=1.11.0 in /usr/local/lib/python3.11/dist-packages (from sentence_transformers) (2.6.0+cu124)\n",
            "Requirement already satisfied: scikit-learn in /usr/local/lib/python3.11/dist-packages (from sentence_transformers) (1.6.1)\n",
            "Requirement already satisfied: scipy in /usr/local/lib/python3.11/dist-packages (from sentence_transformers) (1.15.3)\n",
            "Requirement already satisfied: huggingface-hub>=0.20.0 in /usr/local/lib/python3.11/dist-packages (from sentence_transformers) (0.31.1)\n",
            "Requirement already satisfied: Pillow in /usr/local/lib/python3.11/dist-packages (from sentence_transformers) (11.2.1)\n",
            "Requirement already satisfied: typing_extensions>=4.5.0 in /usr/local/lib/python3.11/dist-packages (from sentence_transformers) (4.13.2)\n",
            "Requirement already satisfied: numpy<3.0,>=1.25.0 in /usr/local/lib/python3.11/dist-packages (from faiss-cpu) (2.0.2)\n",
            "Requirement already satisfied: packaging in /usr/local/lib/python3.11/dist-packages (from faiss-cpu) (24.2)\n",
            "Requirement already satisfied: filelock in /usr/local/lib/python3.11/dist-packages (from huggingface-hub>=0.20.0->sentence_transformers) (3.18.0)\n",
            "Requirement already satisfied: fsspec>=2023.5.0 in /usr/local/lib/python3.11/dist-packages (from huggingface-hub>=0.20.0->sentence_transformers) (2025.3.2)\n",
            "Requirement already satisfied: pyyaml>=5.1 in /usr/local/lib/python3.11/dist-packages (from huggingface-hub>=0.20.0->sentence_transformers) (6.0.2)\n",
            "Requirement already satisfied: requests in /usr/local/lib/python3.11/dist-packages (from huggingface-hub>=0.20.0->sentence_transformers) (2.32.3)\n",
            "Requirement already satisfied: hf-xet<2.0.0,>=1.1.0 in /usr/local/lib/python3.11/dist-packages (from huggingface-hub>=0.20.0->sentence_transformers) (1.1.0)\n",
            "Requirement already satisfied: networkx in /usr/local/lib/python3.11/dist-packages (from torch>=1.11.0->sentence_transformers) (3.4.2)\n",
            "Requirement already satisfied: jinja2 in /usr/local/lib/python3.11/dist-packages (from torch>=1.11.0->sentence_transformers) (3.1.6)\n",
            "Collecting nvidia-cuda-nvrtc-cu12==12.4.127 (from torch>=1.11.0->sentence_transformers)\n",
            "  Downloading nvidia_cuda_nvrtc_cu12-12.4.127-py3-none-manylinux2014_x86_64.whl.metadata (1.5 kB)\n",
            "Collecting nvidia-cuda-runtime-cu12==12.4.127 (from torch>=1.11.0->sentence_transformers)\n",
            "  Downloading nvidia_cuda_runtime_cu12-12.4.127-py3-none-manylinux2014_x86_64.whl.metadata (1.5 kB)\n",
            "Collecting nvidia-cuda-cupti-cu12==12.4.127 (from torch>=1.11.0->sentence_transformers)\n",
            "  Downloading nvidia_cuda_cupti_cu12-12.4.127-py3-none-manylinux2014_x86_64.whl.metadata (1.6 kB)\n",
            "Collecting nvidia-cudnn-cu12==9.1.0.70 (from torch>=1.11.0->sentence_transformers)\n",
            "  Downloading nvidia_cudnn_cu12-9.1.0.70-py3-none-manylinux2014_x86_64.whl.metadata (1.6 kB)\n",
            "Collecting nvidia-cublas-cu12==12.4.5.8 (from torch>=1.11.0->sentence_transformers)\n",
            "  Downloading nvidia_cublas_cu12-12.4.5.8-py3-none-manylinux2014_x86_64.whl.metadata (1.5 kB)\n",
            "Collecting nvidia-cufft-cu12==11.2.1.3 (from torch>=1.11.0->sentence_transformers)\n",
            "  Downloading nvidia_cufft_cu12-11.2.1.3-py3-none-manylinux2014_x86_64.whl.metadata (1.5 kB)\n",
            "Collecting nvidia-curand-cu12==10.3.5.147 (from torch>=1.11.0->sentence_transformers)\n",
            "  Downloading nvidia_curand_cu12-10.3.5.147-py3-none-manylinux2014_x86_64.whl.metadata (1.5 kB)\n",
            "Collecting nvidia-cusolver-cu12==11.6.1.9 (from torch>=1.11.0->sentence_transformers)\n",
            "  Downloading nvidia_cusolver_cu12-11.6.1.9-py3-none-manylinux2014_x86_64.whl.metadata (1.6 kB)\n",
            "Collecting nvidia-cusparse-cu12==12.3.1.170 (from torch>=1.11.0->sentence_transformers)\n",
            "  Downloading nvidia_cusparse_cu12-12.3.1.170-py3-none-manylinux2014_x86_64.whl.metadata (1.6 kB)\n",
            "Requirement already satisfied: nvidia-cusparselt-cu12==0.6.2 in /usr/local/lib/python3.11/dist-packages (from torch>=1.11.0->sentence_transformers) (0.6.2)\n",
            "Requirement already satisfied: nvidia-nccl-cu12==2.21.5 in /usr/local/lib/python3.11/dist-packages (from torch>=1.11.0->sentence_transformers) (2.21.5)\n",
            "Requirement already satisfied: nvidia-nvtx-cu12==12.4.127 in /usr/local/lib/python3.11/dist-packages (from torch>=1.11.0->sentence_transformers) (12.4.127)\n",
            "Collecting nvidia-nvjitlink-cu12==12.4.127 (from torch>=1.11.0->sentence_transformers)\n",
            "  Downloading nvidia_nvjitlink_cu12-12.4.127-py3-none-manylinux2014_x86_64.whl.metadata (1.5 kB)\n",
            "Requirement already satisfied: triton==3.2.0 in /usr/local/lib/python3.11/dist-packages (from torch>=1.11.0->sentence_transformers) (3.2.0)\n",
            "Requirement already satisfied: sympy==1.13.1 in /usr/local/lib/python3.11/dist-packages (from torch>=1.11.0->sentence_transformers) (1.13.1)\n",
            "Requirement already satisfied: mpmath<1.4,>=1.1.0 in /usr/local/lib/python3.11/dist-packages (from sympy==1.13.1->torch>=1.11.0->sentence_transformers) (1.3.0)\n",
            "Requirement already satisfied: regex!=2019.12.17 in /usr/local/lib/python3.11/dist-packages (from transformers<5.0.0,>=4.41.0->sentence_transformers) (2024.11.6)\n",
            "Requirement already satisfied: tokenizers<0.22,>=0.21 in /usr/local/lib/python3.11/dist-packages (from transformers<5.0.0,>=4.41.0->sentence_transformers) (0.21.1)\n",
            "Requirement already satisfied: safetensors>=0.4.3 in /usr/local/lib/python3.11/dist-packages (from transformers<5.0.0,>=4.41.0->sentence_transformers) (0.5.3)\n",
            "Requirement already satisfied: joblib>=1.2.0 in /usr/local/lib/python3.11/dist-packages (from scikit-learn->sentence_transformers) (1.5.0)\n",
            "Requirement already satisfied: threadpoolctl>=3.1.0 in /usr/local/lib/python3.11/dist-packages (from scikit-learn->sentence_transformers) (3.6.0)\n",
            "Requirement already satisfied: MarkupSafe>=2.0 in /usr/local/lib/python3.11/dist-packages (from jinja2->torch>=1.11.0->sentence_transformers) (3.0.2)\n",
            "Requirement already satisfied: charset-normalizer<4,>=2 in /usr/local/lib/python3.11/dist-packages (from requests->huggingface-hub>=0.20.0->sentence_transformers) (3.4.2)\n",
            "Requirement already satisfied: idna<4,>=2.5 in /usr/local/lib/python3.11/dist-packages (from requests->huggingface-hub>=0.20.0->sentence_transformers) (3.10)\n",
            "Requirement already satisfied: urllib3<3,>=1.21.1 in /usr/local/lib/python3.11/dist-packages (from requests->huggingface-hub>=0.20.0->sentence_transformers) (2.4.0)\n",
            "Requirement already satisfied: certifi>=2017.4.17 in /usr/local/lib/python3.11/dist-packages (from requests->huggingface-hub>=0.20.0->sentence_transformers) (2025.4.26)\n",
            "Downloading faiss_cpu-1.11.0-cp311-cp311-manylinux_2_28_x86_64.whl (31.3 MB)\n",
            "\u001b[2K   \u001b[90m━━━━━━━━━━━━━━━━━━━━━━━━━━━━━━━━━━━━━━━━\u001b[0m \u001b[32m31.3/31.3 MB\u001b[0m \u001b[31m58.0 MB/s\u001b[0m eta \u001b[36m0:00:00\u001b[0m\n",
            "\u001b[?25hDownloading nvidia_cublas_cu12-12.4.5.8-py3-none-manylinux2014_x86_64.whl (363.4 MB)\n",
            "\u001b[2K   \u001b[90m━━━━━━━━━━━━━━━━━━━━━━━━━━━━━━━━━━━━━━━━\u001b[0m \u001b[32m363.4/363.4 MB\u001b[0m \u001b[31m2.8 MB/s\u001b[0m eta \u001b[36m0:00:00\u001b[0m\n",
            "\u001b[?25hDownloading nvidia_cuda_cupti_cu12-12.4.127-py3-none-manylinux2014_x86_64.whl (13.8 MB)\n",
            "\u001b[2K   \u001b[90m━━━━━━━━━━━━━━━━━━━━━━━━━━━━━━━━━━━━━━━━\u001b[0m \u001b[32m13.8/13.8 MB\u001b[0m \u001b[31m80.1 MB/s\u001b[0m eta \u001b[36m0:00:00\u001b[0m\n",
            "\u001b[?25hDownloading nvidia_cuda_nvrtc_cu12-12.4.127-py3-none-manylinux2014_x86_64.whl (24.6 MB)\n",
            "\u001b[2K   \u001b[90m━━━━━━━━━━━━━━━━━━━━━━━━━━━━━━━━━━━━━━━━\u001b[0m \u001b[32m24.6/24.6 MB\u001b[0m \u001b[31m51.6 MB/s\u001b[0m eta \u001b[36m0:00:00\u001b[0m\n",
            "\u001b[?25hDownloading nvidia_cuda_runtime_cu12-12.4.127-py3-none-manylinux2014_x86_64.whl (883 kB)\n",
            "\u001b[2K   \u001b[90m━━━━━━━━━━━━━━━━━━━━━━━━━━━━━━━━━━━━━━━━\u001b[0m \u001b[32m883.7/883.7 kB\u001b[0m \u001b[31m34.0 MB/s\u001b[0m eta \u001b[36m0:00:00\u001b[0m\n",
            "\u001b[?25hDownloading nvidia_cudnn_cu12-9.1.0.70-py3-none-manylinux2014_x86_64.whl (664.8 MB)\n",
            "\u001b[2K   \u001b[90m━━━━━━━━━━━━━━━━━━━━━━━━━━━━━━━━━━━━━━━━\u001b[0m \u001b[32m664.8/664.8 MB\u001b[0m \u001b[31m2.6 MB/s\u001b[0m eta \u001b[36m0:00:00\u001b[0m\n",
            "\u001b[?25hDownloading nvidia_cufft_cu12-11.2.1.3-py3-none-manylinux2014_x86_64.whl (211.5 MB)\n",
            "\u001b[2K   \u001b[90m━━━━━━━━━━━━━━━━━━━━━━━━━━━━━━━━━━━━━━━━\u001b[0m \u001b[32m211.5/211.5 MB\u001b[0m \u001b[31m4.9 MB/s\u001b[0m eta \u001b[36m0:00:00\u001b[0m\n",
            "\u001b[?25hDownloading nvidia_curand_cu12-10.3.5.147-py3-none-manylinux2014_x86_64.whl (56.3 MB)\n",
            "\u001b[2K   \u001b[90m━━━━━━━━━━━━━━━━━━━━━━━━━━━━━━━━━━━━━━━━\u001b[0m \u001b[32m56.3/56.3 MB\u001b[0m \u001b[31m40.6 MB/s\u001b[0m eta \u001b[36m0:00:00\u001b[0m\n",
            "\u001b[?25hDownloading nvidia_cusolver_cu12-11.6.1.9-py3-none-manylinux2014_x86_64.whl (127.9 MB)\n",
            "\u001b[2K   \u001b[90m━━━━━━━━━━━━━━━━━━━━━━━━━━━━━━━━━━━━━━━━\u001b[0m \u001b[32m127.9/127.9 MB\u001b[0m \u001b[31m16.8 MB/s\u001b[0m eta \u001b[36m0:00:00\u001b[0m\n",
            "\u001b[?25hDownloading nvidia_cusparse_cu12-12.3.1.170-py3-none-manylinux2014_x86_64.whl (207.5 MB)\n",
            "\u001b[2K   \u001b[90m━━━━━━━━━━━━━━━━━━━━━━━━━━━━━━━━━━━━━━━━\u001b[0m \u001b[32m207.5/207.5 MB\u001b[0m \u001b[31m4.1 MB/s\u001b[0m eta \u001b[36m0:00:00\u001b[0m\n",
            "\u001b[?25hDownloading nvidia_nvjitlink_cu12-12.4.127-py3-none-manylinux2014_x86_64.whl (21.1 MB)\n",
            "\u001b[2K   \u001b[90m━━━━━━━━━━━━━━━━━━━━━━━━━━━━━━━━━━━━━━━━\u001b[0m \u001b[32m21.1/21.1 MB\u001b[0m \u001b[31m83.2 MB/s\u001b[0m eta \u001b[36m0:00:00\u001b[0m\n",
            "\u001b[?25hInstalling collected packages: nvidia-nvjitlink-cu12, nvidia-curand-cu12, nvidia-cufft-cu12, nvidia-cuda-runtime-cu12, nvidia-cuda-nvrtc-cu12, nvidia-cuda-cupti-cu12, nvidia-cublas-cu12, faiss-cpu, nvidia-cusparse-cu12, nvidia-cudnn-cu12, nvidia-cusolver-cu12\n",
            "  Attempting uninstall: nvidia-nvjitlink-cu12\n",
            "    Found existing installation: nvidia-nvjitlink-cu12 12.5.82\n",
            "    Uninstalling nvidia-nvjitlink-cu12-12.5.82:\n",
            "      Successfully uninstalled nvidia-nvjitlink-cu12-12.5.82\n",
            "  Attempting uninstall: nvidia-curand-cu12\n",
            "    Found existing installation: nvidia-curand-cu12 10.3.6.82\n",
            "    Uninstalling nvidia-curand-cu12-10.3.6.82:\n",
            "      Successfully uninstalled nvidia-curand-cu12-10.3.6.82\n",
            "  Attempting uninstall: nvidia-cufft-cu12\n",
            "    Found existing installation: nvidia-cufft-cu12 11.2.3.61\n",
            "    Uninstalling nvidia-cufft-cu12-11.2.3.61:\n",
            "      Successfully uninstalled nvidia-cufft-cu12-11.2.3.61\n",
            "  Attempting uninstall: nvidia-cuda-runtime-cu12\n",
            "    Found existing installation: nvidia-cuda-runtime-cu12 12.5.82\n",
            "    Uninstalling nvidia-cuda-runtime-cu12-12.5.82:\n",
            "      Successfully uninstalled nvidia-cuda-runtime-cu12-12.5.82\n",
            "  Attempting uninstall: nvidia-cuda-nvrtc-cu12\n",
            "    Found existing installation: nvidia-cuda-nvrtc-cu12 12.5.82\n",
            "    Uninstalling nvidia-cuda-nvrtc-cu12-12.5.82:\n",
            "      Successfully uninstalled nvidia-cuda-nvrtc-cu12-12.5.82\n",
            "  Attempting uninstall: nvidia-cuda-cupti-cu12\n",
            "    Found existing installation: nvidia-cuda-cupti-cu12 12.5.82\n",
            "    Uninstalling nvidia-cuda-cupti-cu12-12.5.82:\n",
            "      Successfully uninstalled nvidia-cuda-cupti-cu12-12.5.82\n",
            "  Attempting uninstall: nvidia-cublas-cu12\n",
            "    Found existing installation: nvidia-cublas-cu12 12.5.3.2\n",
            "    Uninstalling nvidia-cublas-cu12-12.5.3.2:\n",
            "      Successfully uninstalled nvidia-cublas-cu12-12.5.3.2\n",
            "  Attempting uninstall: nvidia-cusparse-cu12\n",
            "    Found existing installation: nvidia-cusparse-cu12 12.5.1.3\n",
            "    Uninstalling nvidia-cusparse-cu12-12.5.1.3:\n",
            "      Successfully uninstalled nvidia-cusparse-cu12-12.5.1.3\n",
            "  Attempting uninstall: nvidia-cudnn-cu12\n",
            "    Found existing installation: nvidia-cudnn-cu12 9.3.0.75\n",
            "    Uninstalling nvidia-cudnn-cu12-9.3.0.75:\n",
            "      Successfully uninstalled nvidia-cudnn-cu12-9.3.0.75\n",
            "  Attempting uninstall: nvidia-cusolver-cu12\n",
            "    Found existing installation: nvidia-cusolver-cu12 11.6.3.83\n",
            "    Uninstalling nvidia-cusolver-cu12-11.6.3.83:\n",
            "      Successfully uninstalled nvidia-cusolver-cu12-11.6.3.83\n",
            "Successfully installed faiss-cpu-1.11.0 nvidia-cublas-cu12-12.4.5.8 nvidia-cuda-cupti-cu12-12.4.127 nvidia-cuda-nvrtc-cu12-12.4.127 nvidia-cuda-runtime-cu12-12.4.127 nvidia-cudnn-cu12-9.1.0.70 nvidia-cufft-cu12-11.2.1.3 nvidia-curand-cu12-10.3.5.147 nvidia-cusolver-cu12-11.6.1.9 nvidia-cusparse-cu12-12.3.1.170 nvidia-nvjitlink-cu12-12.4.127\n"
          ]
        }
      ]
    },
    {
      "cell_type": "code",
      "source": [
        "from sentence_transformers import  SentenceTransformer\n",
        "import numpy as np\n",
        "import faiss\n",
        "from tqdm import tqdm"
      ],
      "metadata": {
        "id": "mVru8f_eAfEh"
      },
      "execution_count": null,
      "outputs": []
    },
    {
      "cell_type": "code",
      "source": [
        "# books_df[\"book_id\"] is a panda series. this will have index so to extract the values,\n",
        "# .values is called. converting it to numpy array since NumPy array is more compact in\n",
        "# memory and has faster indexing than a Python list. and also makes sure all the\n",
        "# values will be int\n",
        "book_ids = books_df[\"book_id\"].values.astype(np.int64)"
      ],
      "metadata": {
        "id": "ripmlQCaCVxO"
      },
      "execution_count": null,
      "outputs": []
    },
    {
      "cell_type": "code",
      "source": [
        "description = books_df[\"description\"].tolist()"
      ],
      "metadata": {
        "id": "Ku8gisgzEoVe"
      },
      "execution_count": null,
      "outputs": []
    },
    {
      "cell_type": "code",
      "source": [
        "# filter to only contain fields with description\n",
        "data = [(bid, desc) for bid, desc in zip(book_ids, description) if desc]"
      ],
      "metadata": {
        "id": "_kWg3ydBEqOj"
      },
      "execution_count": null,
      "outputs": []
    },
    {
      "cell_type": "code",
      "source": [
        "len(data)"
      ],
      "metadata": {
        "id": "aueGwAYqIghu",
        "outputId": "21eb70e0-2ef8-4717-9a2d-2eb8bdacf3c5",
        "colab": {
          "base_uri": "https://localhost:8080/"
        }
      },
      "execution_count": null,
      "outputs": [
        {
          "output_type": "execute_result",
          "data": {
            "text/plain": [
              "122227"
            ]
          },
          "metadata": {},
          "execution_count": 15
        }
      ]
    },
    {
      "cell_type": "code",
      "source": [
        "filtered_ids = [bid for bid, _ in data]\n",
        "filtered_desc = [desc for _, desc in data]"
      ],
      "metadata": {
        "id": "P7myHgsiIiIa"
      },
      "execution_count": null,
      "outputs": []
    },
    {
      "cell_type": "code",
      "source": [
        "filtered_ids = np.array(filtered_ids, np.int64)"
      ],
      "metadata": {
        "id": "kMi_pXTDKYHz"
      },
      "execution_count": null,
      "outputs": []
    },
    {
      "cell_type": "code",
      "source": [
        "N = len(filtered_desc)"
      ],
      "metadata": {
        "id": "_4E2v1gaLHMT"
      },
      "execution_count": null,
      "outputs": []
    },
    {
      "cell_type": "code",
      "source": [],
      "metadata": {
        "id": "XRykaQtbZmN_"
      },
      "execution_count": null,
      "outputs": []
    }
  ]
}